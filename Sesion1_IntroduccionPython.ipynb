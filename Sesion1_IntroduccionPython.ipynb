{
  "nbformat": 4,
  "nbformat_minor": 0,
  "metadata": {
    "colab": {
      "name": "Sesion1_UNAL.ipynb",
      "provenance": [],
      "collapsed_sections": [],
      "include_colab_link": true
    },
    "kernelspec": {
      "name": "python3",
      "display_name": "Python 3"
    }
  },
  "cells": [
    {
      "cell_type": "markdown",
      "metadata": {
        "id": "view-in-github",
        "colab_type": "text"
      },
      "source": [
        "<a href=\"https://colab.research.google.com/github/garestrear/introduccion_ML_cursoUN/blob/main/Sesion1_IntroduccionPython.ipynb\" target=\"_parent\"><img src=\"https://colab.research.google.com/assets/colab-badge.svg\" alt=\"Open In Colab\"/></a>"
      ]
    },
    {
      "cell_type": "markdown",
      "metadata": {
        "id": "Ni7X3NRtF5GW"
      },
      "source": [
        "# ***Machine Learning* para aplicaciones en sistemas biológicos y Agronegocios**\n",
        "\n",
        "# ¡¡Bienvenidos!!\n",
        "\n",
        "En este curso esperamos enseñarte:\n",
        "\n",
        "*  Nociones básicas e intermedias de Python. (1 sesión)\n",
        "*  Manejo de bases de datos usando *Pandas*. (1 sesión)\n",
        "*  Técnicas de graficación. (1 sesión)\n",
        "*  *Machine learning* supervisado. (3 sesiones)\n",
        "*  *Machine learning* no supervisado. (3 sesiones)\n",
        "*  Ecuaciones estructurales. (3 sesiones)\n",
        "*  Series de tiempo. (3 sesiones)\n",
        "\n",
        "Para esto contamos con diferentes profesores capacitados para poderte acompañar en el aprendizaje.\n",
        "\n",
        "Python y *Machine Learning* son temas amplios, con mucha documentación en la web y de gran aplicación a diversos problemas hoy en día.\n",
        "Nuestro objetivo es acompañarlos en el proceso del aprendizaje: en cada sesión daremos nociones básicas de cada uno de los temas puesto que es imposible cubrir completamente un tema en tan poco tiempo.\n",
        "Pero esperamos que, con lo visto en clase, trabajo autónomo y nuestra asesoría permanente, puedan avanzar en el aprendizaje del tema que más les interesa.\n",
        "\n",
        "Esperamos que cada uno cuente con un conjunto de datos (tesis, proyecto de investigación) al que puedan aplicarle los conocimientos adquiridos a medida que sean vistos para que al final del curso nos puedan presentar el proyecto terminado.\n",
        "\n",
        "Para lograr todo esto contamos con un canal de comunicación en **[Slack](https://join.slack.com/t/mlaplicensist-c9d9617/shared_invite/zt-p7qs69h1-0nMH93EfMEgCN9VLaXLauw)**\n",
        " al cual serán invitados mendiante el correo electrónico que nos proporcionaron.\n",
        "Además aquí dejamos los correos electrónicos de cada uno de los profesores:\n",
        "\n",
        "*  Anel Galaviz : anelglvz@gmail.com\n",
        "*  Gustavo Restrepo : garestrear@unal.edu.co\n",
        "* Guillermo Ramirez : jgramireg@unal.edu.co\n",
        "* Mario Moctezuma: m.a.mocte@gmail.com\n",
        "*  Max Mitre: maxmitre91@gmail.com\n",
        "* Natalia Cadavid: ncadavia@unal.edu.co\n",
        "* Sebastian Vélez: svelezv@unal.edu.co\n",
        "* Wincy Guerra: waguerra@unal.edu.co\n",
        "* Javier Moreno: javamo93@gmail.com"
      ]
    },
    {
      "cell_type": "markdown",
      "metadata": {
        "id": "SSIwijZ3MB9x"
      },
      "source": [
        "## **¿ Cómo se usa?**\n",
        "Hay muchas formas de usar Python, debido a la cantidad de versiones, programas y páginas que te permiten editar y ejecutar comandos del lenguaje.\n",
        "\n",
        "Por ejemplo:\n",
        "* Con esta herramienta de Google llamada **Colab o Colaboratory**, puedes usar Python en línea y correr tus códigos en servidores de Google.C.\n",
        "* Puedes descargar \"ANACONDA\", la distribución de Python más popular en el mundo (https://www.anaconda.com/products/individual), en tu PC, la cual trae otros sofwares de interés en la computación científica como R.\n",
        "* Puedes usar \"la ventanita negra\" (command prompt) de tu computador para instalar un compilador de Python y trabajar desde ahí. Si usas linux o MAC es posible que ya tengas Python. Por supuesto también puede instalarse un editor de código adicional para que se vea mejor. \n",
        "\n",
        "Por ahora estamos locos por empezar a programar así que no hablaremos más del tema y seguiremos en Colab.\n",
        "\n",
        ">### Más sobre Colab\n",
        "Desde tu google Drive, le das en \"Nuevo\", luego le das en \"mas opciones\" y luego búscas la opción \"Google Colaboratory\". Después de que se abra el archivo las cosas están listas para que te conviertas en programador(a).\n",
        "Un Colab se divide en cajones celdas, hay celdas para escribir texto, como esta en la que estás leyendo y hay celdas para escribir códigos como las que verás mas abajo. "
      ]
    },
    {
      "cell_type": "markdown",
      "metadata": {
        "id": "rPRuHAcNMsa5"
      },
      "source": [
        "# **Nociones preliminares.**\n",
        "\n",
        "\n",
        "Empezamos haciendo unas pequeñas definiciones y viendo cómo funciona cada uno de los objetivos definidos.\n",
        "\n",
        "## **1. print()**\n",
        "Esta es la función que usaremos para imprimir o mostrar algo en la pantalla del usuario.\n",
        "Para entenderlo mejor ejecutaremos los siguientes códigos:\n",
        "* \n",
        "```\n",
        "print(\"Hola mundo!\")\n",
        "```\n",
        "\n",
        "\n",
        "* ``` \n",
        "print(\"Aprenderemos Python\")\n",
        "```\n",
        "* ```\n",
        "print(3+5)\n",
        "```\n",
        "* \n",
        "``` \n",
        "print(5+2==7)\n",
        "```"
      ]
    },
    {
      "cell_type": "code",
      "metadata": {
        "colab": {
          "base_uri": "https://localhost:8080/"
        },
        "id": "V1yDAMzZJker",
        "outputId": "e823de96-3510-491f-9578-6e554b924028"
      },
      "source": [
        "##***************************************************** Tu turno ***************************************************** ##\n",
        "# Escribe comandos similares a los de arriba y ejecuta la celda dando click en la flechita de la izquierda o presionando ctrl+Intro.\n",
        "print(\"lo que se nos ocurra\")\n",
        "print(3+6)\n",
        "print(5+3==8)"
      ],
      "execution_count": null,
      "outputs": [
        {
          "output_type": "stream",
          "text": [
            "lo que se nos ocurra\n",
            "9\n",
            "True\n"
          ],
          "name": "stdout"
        }
      ]
    },
    {
      "cell_type": "markdown",
      "metadata": {
        "id": "TDuqbUCHM4Si"
      },
      "source": [
        "# **2. Variables**\n",
        "Es el sitio donde guardamos cierto dato. Por ejemplo\n",
        "```x=3```\n",
        "significa que vamos a guardar el número $3$ en la variable $x$.\n",
        "\n",
        "**Tu turno**: Asignemos a la variable ```Python``` el valor ```'me gusta'```.\n",
        "\n",
        "**Tu turno**: Hagamos ahora ```x=6``` y ```z=44```.\n",
        "\n",
        "**Tu turno**: ¿Qué valor tiene la variable ```desconocido = x+z```?"
      ]
    },
    {
      "cell_type": "code",
      "metadata": {
        "id": "a7Hxp7b0NImr"
      },
      "source": [
        "##***************************************************** Tu turno ***************************************************** ##\n",
        "# Completa las instrucciones reemplazando la raya por el valor adecuado\n",
        "Python = \"otro valor\"\n",
        "z = 6\n",
        "x=44\n",
        "desconocido = x+z\n",
        "Hoy = True\n"
      ],
      "execution_count": null,
      "outputs": []
    },
    {
      "cell_type": "code",
      "metadata": {
        "colab": {
          "base_uri": "https://localhost:8080/"
        },
        "id": "oUMYpdUPKxOR",
        "outputId": "7e36e6a5-ca05-4a2b-bd8d-249c36751e13"
      },
      "source": [
        "print(Hoy)"
      ],
      "execution_count": null,
      "outputs": [
        {
          "output_type": "stream",
          "text": [
            "True\n"
          ],
          "name": "stdout"
        }
      ]
    },
    {
      "cell_type": "code",
      "metadata": {
        "colab": {
          "base_uri": "https://localhost:8080/"
        },
        "id": "aFr-5mmwLGSB",
        "outputId": "6c61ee28-9e43-4334-a03d-0d0455085e2a"
      },
      "source": [
        "desconocido"
      ],
      "execution_count": null,
      "outputs": [
        {
          "output_type": "execute_result",
          "data": {
            "text/plain": [
              "50"
            ]
          },
          "metadata": {
            "tags": []
          },
          "execution_count": 14
        }
      ]
    },
    {
      "cell_type": "markdown",
      "metadata": {
        "id": "B8N5tu38y8dd"
      },
      "source": [
        "# **3. Tipos de datos.**\n",
        "Hay varios tipos de datos:\n",
        "* **Int:** números enteros como $0$, $-34$, $26$.\n",
        "* **Float:** son los números reales, es decir, los números enteros junto con los números decimales: $2/3$, $-9.45$, $5.0$\n",
        "* **Booleanos:** son solo dos valores: Verdadero o Falso, pero siempre los escribiremos en inglés: $True$ y $False$ (a veces se entienden como 1 y 0 -por ejemplo, intenta ejecutar $True + True$). Hay que tener cuidado de escribirlos siempre con la primera letra mayúscula.\n",
        "* **String:** es decir, cadenas. Son los datos que expresamos colocándolos siempre entre comillas \"string\" o 'string'. Aquí podemos usar letras, números o símbolos. Por ejemplo: \"Jorge\", \"cinco\", \"Python3.1\", \"Aprenderemos mucho!!\", \"5\"."
      ]
    },
    {
      "cell_type": "markdown",
      "metadata": {
        "id": "WqHLpNEpy9jj"
      },
      "source": [
        "## ¿Cómo convertir un dato de un tipo a otro?\n",
        "\n",
        "Para saber de qué tipo es un dato usamos la función ```type()```.\n",
        "\n",
        "Y para cambiar el tipo de un dato usamos las funciones ```int()```, ```str()```, ```float()``` y ```bool()```."
      ]
    },
    {
      "cell_type": "code",
      "metadata": {
        "colab": {
          "base_uri": "https://localhost:8080/"
        },
        "id": "AyntWEXAz0Cl",
        "outputId": "1ddf0d58-17f6-42fc-a50b-7cb50a230e12"
      },
      "source": [
        "entero = -56\n",
        "decimal = 4.56\n",
        "cadenas = \"mi nombre\"\n",
        "booleano = True\n",
        "\n",
        "print(type(cadenas))\n",
        "\n",
        "print(bool(0))\n",
        "\n",
        "print(int(decimal))\n",
        "\n",
        "print(str(decimal))\n",
        "\n",
        "print(float(entero))"
      ],
      "execution_count": null,
      "outputs": [
        {
          "output_type": "stream",
          "text": [
            "<class 'str'>\n",
            "False\n",
            "4\n",
            "4.56\n",
            "-56.0\n"
          ],
          "name": "stdout"
        }
      ]
    },
    {
      "cell_type": "code",
      "metadata": {
        "colab": {
          "base_uri": "https://localhost:8080/"
        },
        "id": "MqrRzbkCNmJo",
        "outputId": "33a5267b-b5ad-4b24-b5b4-2bc609cd33d9"
      },
      "source": [
        "print(type(str(decimal)))"
      ],
      "execution_count": null,
      "outputs": [
        {
          "output_type": "stream",
          "text": [
            "<class 'str'>\n"
          ],
          "name": "stdout"
        }
      ]
    },
    {
      "cell_type": "markdown",
      "metadata": {
        "id": "8zFb83gaNLE4"
      },
      "source": [
        "\n",
        "# **4. Listas**\n",
        "Una lista es una sucesión de datos ordenados. Las listas se ordenan desde la posición $0$ en adelante. Por ejemplo:\n",
        "```\n",
        "[5,-3,'jorge',34, True]\n",
        "```\n",
        "es una lista con $5$ datos. Note que el dato $5$ está en la posición $0$ y el dato \"jorge\" está en la posición $2$.\n",
        "\n",
        "Asignemos a la variable *prueba* la lista anterior:\n",
        "```\n",
        "prueba = [5,-3,'jorge',34, True]\n",
        "```\n",
        "\n",
        "Para acceder a un dato de una lista usamos el nombre de la lista o la variable a la que fue asignada (en este caso *prueba*) junto con la posición del dato al que queremos acceder. Por ejemplo, si queremos acceder al dato $34$ que está en la posición (**Tu turno**?) escribimos:\n",
        "```\n",
        "prueba[3]\n",
        "```\n",
        "Para ver el resultado escribimos ```print(prueba[3])```."
      ]
    },
    {
      "cell_type": "code",
      "metadata": {
        "colab": {
          "base_uri": "https://localhost:8080/"
        },
        "id": "s6zV67cnNTwr",
        "outputId": "09a87dfd-4c21-4e86-d46e-e4df12eb6fd8"
      },
      "source": [
        "##***************************************************** Tu turno ***************************************************** ##\n",
        "# Crea la lista\n",
        "prueba = [5,-3, \"jorge\", 34, True, 34] # estoy definiendo un arreglo\n",
        "# Accede al dato 'jorge'.\n",
        "print(prueba[3])\n",
        "# Accede al último dato.\n",
        "print(prueba[5])\n",
        "#print(prueba)\n",
        "print(prueba.index(34))"
      ],
      "execution_count": null,
      "outputs": [
        {
          "output_type": "stream",
          "text": [
            "34\n",
            "34\n",
            "3\n"
          ],
          "name": "stdout"
        }
      ]
    },
    {
      "cell_type": "markdown",
      "metadata": {
        "id": "2UoEC-V6L9yI"
      },
      "source": [
        "## **Sublistas**\n",
        "\n",
        "No siempre queremos la lista completa. Python nos permite tomar la sublista que deseemos mediante la notación ```lista[a:b]```. En este caso Python crea una nueva lista que consta del elemento ubicado en la posición *a* hasta el elemento que está **antes de la posición *b***."
      ]
    },
    {
      "cell_type": "code",
      "metadata": {
        "id": "MGoeU_uVMZaM"
      },
      "source": [
        "lista = [0,1,2,3,4,5,6,7,8,9,10,11]\n"
      ],
      "execution_count": null,
      "outputs": []
    },
    {
      "cell_type": "code",
      "metadata": {
        "colab": {
          "base_uri": "https://localhost:8080/"
        },
        "id": "d-pZvlKzMdxz",
        "outputId": "057eedc6-e179-415d-a00e-2b0889b550a3"
      },
      "source": [
        "lista_5_9 = lista[5:10]\n",
        "lista_5_9"
      ],
      "execution_count": null,
      "outputs": [
        {
          "output_type": "execute_result",
          "data": {
            "text/plain": [
              "[5, 6, 7, 8, 9]"
            ]
          },
          "metadata": {
            "tags": []
          },
          "execution_count": 31
        }
      ]
    },
    {
      "cell_type": "markdown",
      "metadata": {
        "id": "DFYIqQfZNG0h"
      },
      "source": [
        "## ¿Y si solo quiero el elemento 1, 3 y 7?\n",
        "\n",
        "Para esto usamos la función ```lista.append(nuevo elemento)```.\n",
        "\n",
        "Creamos una lista vacía ```lista_1_3_7=[]``` y usamos la función append para agregar los elementos que deseemos."
      ]
    },
    {
      "cell_type": "code",
      "metadata": {
        "colab": {
          "base_uri": "https://localhost:8080/"
        },
        "id": "aS5zaQOtMz4W",
        "outputId": "c297ab8a-f6ec-45b8-9cd9-4b83ce73ffb1"
      },
      "source": [
        "lista_1_3_7=[]\n",
        "lista_1_3_7"
      ],
      "execution_count": null,
      "outputs": [
        {
          "output_type": "execute_result",
          "data": {
            "text/plain": [
              "[]"
            ]
          },
          "metadata": {
            "tags": []
          },
          "execution_count": 46
        }
      ]
    },
    {
      "cell_type": "code",
      "metadata": {
        "colab": {
          "base_uri": "https://localhost:8080/"
        },
        "id": "jCnvtTY9NgwS",
        "outputId": "19a25b18-d2b0-4fa5-f9ab-c2d5f618ebb7"
      },
      "source": [
        "lista_1_3_7.append(lista[1])\n",
        "lista_1_3_7.append(lista[7])\n",
        "lista_1_3_7.append(lista[3])\n",
        "lista_1_3_7"
      ],
      "execution_count": null,
      "outputs": [
        {
          "output_type": "execute_result",
          "data": {
            "text/plain": [
              "[1, 7, 3, 1, 7, 3]"
            ]
          },
          "metadata": {
            "tags": []
          },
          "execution_count": 48
        }
      ]
    },
    {
      "cell_type": "code",
      "metadata": {
        "id": "7eAU4M7yVDrX"
      },
      "source": [
        "lista_1_3_7.remove(7)"
      ],
      "execution_count": null,
      "outputs": []
    },
    {
      "cell_type": "code",
      "metadata": {
        "colab": {
          "base_uri": "https://localhost:8080/"
        },
        "id": "Id0w86bPVcV0",
        "outputId": "b8d532ab-bdf3-4760-f91f-8aed452f91bf"
      },
      "source": [
        "lista_1_3_7.remove(7)\n",
        "lista_1_3_7"
      ],
      "execution_count": null,
      "outputs": [
        {
          "output_type": "execute_result",
          "data": {
            "text/plain": [
              "[1, 3, 1, 3]"
            ]
          },
          "metadata": {
            "tags": []
          },
          "execution_count": 54
        }
      ]
    },
    {
      "cell_type": "markdown",
      "metadata": {
        "id": "aBtFkkc2NrS1"
      },
      "source": [
        "## ¿Cómo ordenar una lista?\n",
        "\n",
        "Python cuenta con el comando ```lista.sort(reverse = False)```.\n",
        "El parámetro reverse le indica a la función si quiere que se ordene la lista de mayor a menor."
      ]
    },
    {
      "cell_type": "code",
      "metadata": {
        "id": "3oWa8SSeOJyy"
      },
      "source": [
        "#Intenta ordenar la lista lista_1_3_7 de mayor a menor\n",
        "lista_1_3_7.sort(reverse = True)"
      ],
      "execution_count": null,
      "outputs": []
    },
    {
      "cell_type": "code",
      "metadata": {
        "colab": {
          "base_uri": "https://localhost:8080/"
        },
        "id": "cZJ-B6LrOVU7",
        "outputId": "2e4943c8-b94c-490a-bcda-b5df8df25f62"
      },
      "source": [
        "print(lista_1_3_7)"
      ],
      "execution_count": null,
      "outputs": [
        {
          "output_type": "execute_result",
          "data": {
            "text/plain": [
              "[7, 3, 1]"
            ]
          },
          "metadata": {
            "tags": []
          },
          "execution_count": 42
        }
      ]
    },
    {
      "cell_type": "markdown",
      "metadata": {
        "id": "bTe1wFrpO4e3"
      },
      "source": [
        "Para más información sobre listas, puedes consultar [aquí](https://www.w3schools.com/python/python_lists_methods.asp)."
      ]
    },
    {
      "cell_type": "markdown",
      "metadata": {
        "id": "brmmWQ3aNoEq"
      },
      "source": [
        "## **5. len() y range()**\n",
        "Debes conocer estas funciones porque serán muy útiles a lo largo de este curso. Vamos a intentar descubrir por nosotros mismos para qué son.\n",
        "Primero definamos la siguiente lista:\n",
        "```\n",
        " lista = [5,-3,'jorge',34, True]\n",
        " ```\n",
        "\n",
        "\n",
        "* **¿Qué pasa si hacemos  ```len(lista)```?**"
      ]
    },
    {
      "cell_type": "code",
      "metadata": {
        "colab": {
          "base_uri": "https://localhost:8080/"
        },
        "id": "ZJI1WHpzNtAY",
        "outputId": "7f3bcba7-ebf5-459e-a64c-fff39a64baa1"
      },
      "source": [
        "##***************************************************** Tu turno ***************************************************** ##\n",
        "# Escribe la instrucción, ejecútala y comenta en frente qué crees que significa. \n",
        "lista = [5,-3,'jorge',34, True]\n",
        "print(len(lista))"
      ],
      "execution_count": null,
      "outputs": [
        {
          "output_type": "stream",
          "text": [
            "5\n"
          ],
          "name": "stdout"
        }
      ]
    },
    {
      "cell_type": "markdown",
      "metadata": {
        "id": "hTDk9DNTNxFP"
      },
      "source": [
        "La función **range(n)** te ayuda a generar rápidamente un conjunto de números que empiezan en cero y terminan justo antes de n con incrementos de uno en uno.\n",
        "Por ejemplo, range(5) hace que python internamente genere los números [0,1,2,3,4]. Python no los muestra aunque uses print(range(5)) pero ahí están.\n",
        "\n",
        "\n",
        "* **¿Qué pasa si hacemos  ```range(7)```?**\n",
        "\n",
        "* **¿Qué pasa si hacemos  ```range(len(lista))```?**"
      ]
    },
    {
      "cell_type": "code",
      "metadata": {
        "colab": {
          "base_uri": "https://localhost:8080/"
        },
        "id": "G9QhyrAQN04O",
        "outputId": "0ac0be55-5484-43e0-c6d5-76f96be94a7e"
      },
      "source": [
        "##***************************************************** Tu turno ***************************************************** ##\n",
        "# Escribe los comandos, ejecuta y responde las dos preguntas anteriores. \n",
        "print(range(7))\n",
        "print(range(len(lista)))"
      ],
      "execution_count": null,
      "outputs": [
        {
          "output_type": "stream",
          "text": [
            "range(0, 7)\n",
            "range(0, 5)\n"
          ],
          "name": "stdout"
        }
      ]
    },
    {
      "cell_type": "markdown",
      "metadata": {
        "id": "LMVtbvjNN7eB"
      },
      "source": [
        "*Nota:* En algunas versiones de Python siempre es necesario usar el comando print( ) para poder ver los resultados. En Colab no es necesario aunque sólo se te imprime el último resultado.\n",
        "\n",
        "**En resumen:**\n",
        "* La función ```len(lista)``` calcula la longitud de una lista dada.\n",
        "*La función ```range(n)``` genera una lista con los primeros $n$ números enteros empezando desde cero (es decir que va desde $0$ hasta $n-1$). En realidad esta función es un iterador."
      ]
    },
    {
      "cell_type": "code",
      "metadata": {
        "colab": {
          "base_uri": "https://localhost:8080/"
        },
        "id": "M9mcEz4rN-5Q",
        "outputId": "9f1dc909-bfe1-42e7-f792-b099cb115fa8"
      },
      "source": [
        "##***************************************************** Tu turno ***************************************************** ##\n",
        "# Ejecuta las siguientes instrucciones y explica los resultados obtenidos\n",
        "print(4 in range(5))\n",
        "# \n",
        "print(3.5 in range(5))\n",
        "#"
      ],
      "execution_count": null,
      "outputs": [
        {
          "output_type": "stream",
          "text": [
            "True\n",
            "False\n"
          ],
          "name": "stdout"
        }
      ]
    },
    {
      "cell_type": "markdown",
      "metadata": {
        "id": "Y_nfe7kWOf7o"
      },
      "source": [
        "# **6. ¿Para qué las funciones range() y len()?**\n",
        "## Loops.\n",
        "\n",
        "Vamos a crear un arreglo con los nombres de los profesores:\n",
        "```\n",
        "profesores = [\"anel\", \"natalia\", \"wincy\", \"gustavo\", \"guillermo\", \"sebastian\", \"javier\", \"max\", \"mario\"]\n",
        "```\n",
        "Y queremos asignarle una calificación por la calidad de su clase: para esto creamos otro arreglo que se llame calificación\n",
        "```\n",
        "calificación = [? , ? , ? , ?, ?, ?, ?, ?, ?]\n",
        "```\n",
        "\n",
        "Podemos asignar la calificiación 1 por 1 o podemos crear un ```for```que nos permita hacer esto automáticamente.\n",
        "\n",
        "**Nota: aquí parece mejor opción hacerlo 1 a 1, pero en un conjunto de datos con 2.000 entradas parecerá mejor hacer un loop.**\n",
        "\n",
        "# ¿Cómo es la estructura de un ```for```?\n",
        "\n",
        "```\n",
        "for (iterante) in (iterable):\n",
        "    (accion que queremos que se repita tantas veces como el iterador diga)\n",
        "\n",
        "#Aquí continua el código que va fuera del for\n",
        "```\n",
        "\n",
        "**Precaución: no olvidar los dos puntos (:)**\n"
      ]
    },
    {
      "cell_type": "code",
      "metadata": {
        "id": "x3pZXNH7V5nA"
      },
      "source": [
        "profesores = [\"anel\", \"natalia\", \"wincy\", \"gustavo\", \"guillermo\", \"sebastian\", \"javier\", \"max\", \"mario\"]"
      ],
      "execution_count": null,
      "outputs": []
    },
    {
      "cell_type": "code",
      "metadata": {
        "colab": {
          "base_uri": "https://localhost:8080/"
        },
        "id": "wC16e0_DVWip",
        "outputId": "6076403a-f813-4b65-e441-c4273d06c1f9"
      },
      "source": [
        "for i in range(len(profesores)):\n",
        "  print(i)\n",
        "  print(i+8)\n",
        "  suma = i\n",
        "  print(\"Esto está fuera del for\")\n",
        "print(suma)"
      ],
      "execution_count": null,
      "outputs": [
        {
          "output_type": "stream",
          "text": [
            "0\n",
            "8\n",
            "Esto está fuera del for\n",
            "1\n",
            "9\n",
            "Esto está fuera del for\n",
            "2\n",
            "10\n",
            "Esto está fuera del for\n",
            "3\n",
            "11\n",
            "Esto está fuera del for\n",
            "4\n",
            "12\n",
            "Esto está fuera del for\n",
            "5\n",
            "13\n",
            "Esto está fuera del for\n",
            "6\n",
            "14\n",
            "Esto está fuera del for\n",
            "7\n",
            "15\n",
            "Esto está fuera del for\n",
            "8\n",
            "16\n",
            "Esto está fuera del for\n",
            "8\n"
          ],
          "name": "stdout"
        }
      ]
    },
    {
      "cell_type": "code",
      "metadata": {
        "colab": {
          "base_uri": "https://localhost:8080/"
        },
        "id": "LoaTZTF3V1zV",
        "outputId": "1c2afa23-3d2f-445a-e56f-e4a3886c60b5"
      },
      "source": [
        "for profesor in profesores:\n",
        "  print(profesor)"
      ],
      "execution_count": null,
      "outputs": [
        {
          "output_type": "stream",
          "text": [
            "anel\n",
            "natalia\n",
            "wincy\n",
            "gustavo\n",
            "guillermo\n",
            "sebastian\n",
            "javier\n",
            "max\n",
            "mario\n"
          ],
          "name": "stdout"
        }
      ]
    },
    {
      "cell_type": "code",
      "metadata": {
        "colab": {
          "base_uri": "https://localhost:8080/"
        },
        "id": "MThgheRkahCb",
        "outputId": "20860300-661b-4208-fcbb-eaa5c24f61bb"
      },
      "source": [
        "profesores"
      ],
      "execution_count": null,
      "outputs": [
        {
          "output_type": "execute_result",
          "data": {
            "text/plain": [
              "['anel',\n",
              " 'natalia',\n",
              " 'wincy',\n",
              " 'gustavo',\n",
              " 'guillermo',\n",
              " 'sebastian',\n",
              " 'javier',\n",
              " 'max',\n",
              " 'mario']"
            ]
          },
          "metadata": {
            "tags": []
          },
          "execution_count": 68
        }
      ]
    },
    {
      "cell_type": "code",
      "metadata": {
        "colab": {
          "base_uri": "https://localhost:8080/"
        },
        "id": "7UsP0sl9WCCN",
        "outputId": "e6f4f069-3237-420c-e7b9-7f15e6df2c6c"
      },
      "source": [
        "notas=[]\n",
        "for profesor in profesores:\n",
        "  notas.append(len(profesor))\n",
        "\n",
        "print(\"Las notas de los profesores son\", notas)"
      ],
      "execution_count": null,
      "outputs": [
        {
          "output_type": "stream",
          "text": [
            "Las notas de los profesores son [4, 7, 5, 7, 9, 9, 6, 3, 5]\n"
          ],
          "name": "stdout"
        }
      ]
    },
    {
      "cell_type": "code",
      "metadata": {
        "colab": {
          "base_uri": "https://localhost:8080/"
        },
        "id": "_InOXORaa-18",
        "outputId": "377e63a8-a64c-4688-b498-299b94d0b50c"
      },
      "source": [
        "promedio = 0\n",
        "for x in notas:\n",
        "  promedio = promedio + x\n",
        "\n",
        "resultado = promedio / len(notas)\n",
        "print(resultado)\n"
      ],
      "execution_count": null,
      "outputs": [
        {
          "output_type": "stream",
          "text": [
            "6.111111111111111\n"
          ],
          "name": "stdout"
        }
      ]
    },
    {
      "cell_type": "code",
      "metadata": {
        "colab": {
          "base_uri": "https://localhost:8080/"
        },
        "id": "7kNekHXCWWKB",
        "outputId": "983b4d8a-14bc-4de1-9eac-5fa63db22108"
      },
      "source": [
        "for i in range(len(notas)):\n",
        "  print(\"La nota del profesor\", profesores[i], \"es\", notas[i])\n",
        "  "
      ],
      "execution_count": null,
      "outputs": [
        {
          "output_type": "stream",
          "text": [
            "La nota del profesor anel es 4\n",
            "La nota del profesor natalia es 7\n",
            "La nota del profesor wincy es 5\n",
            "La nota del profesor gustavo es 7\n",
            "La nota del profesor guillermo es 9\n",
            "La nota del profesor sebastian es 9\n",
            "La nota del profesor javier es 6\n",
            "La nota del profesor max es 3\n",
            "La nota del profesor mario es 5\n"
          ],
          "name": "stdout"
        }
      ]
    },
    {
      "cell_type": "code",
      "metadata": {
        "colab": {
          "base_uri": "https://localhost:8080/"
        },
        "id": "Zm8x-hBO7Xve",
        "outputId": "5940e1a8-0ef4-4bf7-d0b4-9012017de252"
      },
      "source": [
        "Todo=[]\n",
        "for i in range(len(notas)):\n",
        "  if notas[i]>=7:\n",
        "    print(\"Profesor \", profesores[i], \" aprobo con \", notas[i])\n",
        "    Todo.append([notas[i],profesores[i]])\n",
        "  else:\n",
        "    print(\"Profesor \", profesores[i], \" no aprobo con \", notas[i])\n",
        "    Todo.append([notas[i],profesores[i]])\n",
        "Todo.sort()"
      ],
      "execution_count": null,
      "outputs": [
        {
          "output_type": "stream",
          "text": [
            "Profesor  anel  no aprobo con  3\n",
            "Profesor  natalia  no aprobo con  4\n",
            "Profesor  wincy  no aprobo con  5\n",
            "Profesor  gustavo  no aprobo con  5\n",
            "Profesor  guillermo  no aprobo con  6\n",
            "Profesor  sebastian  aprobo con  7\n",
            "Profesor  javier  aprobo con  7\n",
            "Profesor  max  aprobo con  9\n",
            "Profesor  mario  aprobo con  9\n"
          ],
          "name": "stdout"
        },
        {
          "output_type": "execute_result",
          "data": {
            "text/plain": [
              "[[3, 'anel'],\n",
              " [4, 'natalia'],\n",
              " [5, 'wincy'],\n",
              " [5, 'gustavo'],\n",
              " [6, 'guillermo'],\n",
              " [7, 'sebastian'],\n",
              " [7, 'javier'],\n",
              " [9, 'max'],\n",
              " [9, 'mario']]"
            ]
          },
          "metadata": {
            "tags": []
          },
          "execution_count": 13
        }
      ]
    },
    {
      "cell_type": "code",
      "metadata": {
        "colab": {
          "base_uri": "https://localhost:8080/"
        },
        "id": "xAOyVMoz8XDd",
        "outputId": "94933792-77ce-4c49-f0cf-0333949ebfce"
      },
      "source": [
        "Todo.sort()\n",
        "Todo"
      ],
      "execution_count": null,
      "outputs": [
        {
          "output_type": "execute_result",
          "data": {
            "text/plain": [
              "[[3, 'anel'],\n",
              " [4, 'natalia'],\n",
              " [5, 'gustavo'],\n",
              " [5, 'wincy'],\n",
              " [6, 'guillermo'],\n",
              " [7, 'javier'],\n",
              " [7, 'sebastian'],\n",
              " [9, 'mario'],\n",
              " [9, 'max']]"
            ]
          },
          "metadata": {
            "tags": []
          },
          "execution_count": 15
        }
      ]
    },
    {
      "cell_type": "code",
      "metadata": {
        "colab": {
          "base_uri": "https://localhost:8080/"
        },
        "id": "FPyG8ZVm9NnM",
        "outputId": "575be05e-75ee-4cfb-b911-260ff0199ed4"
      },
      "source": [
        "for i in Todo:\n",
        "  if i[0]>=7:\n",
        "    print(\"El profesor \", i[1], \"aprobo con \", i[0])\n",
        "  else:\n",
        "    print(\"El profesor \", i[1], \"no aprobo con\", i[0])"
      ],
      "execution_count": null,
      "outputs": [
        {
          "output_type": "stream",
          "text": [
            "El profesor  3 no aprobo con anel\n",
            "El profesor  4 no aprobo con natalia\n",
            "El profesor  5 no aprobo con gustavo\n",
            "El profesor  5 no aprobo con wincy\n",
            "El profesor  6 no aprobo con guillermo\n",
            "El profesor  javier aprobo con  7\n",
            "El profesor  sebastian aprobo con  7\n",
            "El profesor  mario aprobo con  9\n",
            "El profesor  max aprobo con  9\n"
          ],
          "name": "stdout"
        }
      ]
    },
    {
      "cell_type": "code",
      "metadata": {
        "colab": {
          "base_uri": "https://localhost:8080/"
        },
        "id": "4qMrzbuyb6ZT",
        "outputId": "c6eed5d8-4aee-4204-adec-35a91a149c1e"
      },
      "source": [
        "lista = [x for x in range(7)]\n",
        "lista"
      ],
      "execution_count": null,
      "outputs": [
        {
          "output_type": "execute_result",
          "data": {
            "text/plain": [
              "[0, 1, 2, 3, 4, 5, 6]"
            ]
          },
          "metadata": {
            "tags": []
          },
          "execution_count": 72
        }
      ]
    },
    {
      "cell_type": "markdown",
      "metadata": {
        "id": "KwDZ2-KvW7pF"
      },
      "source": [
        "Note que cuando el profesor es una mujer, nuestro código escribe *profesor* en vez de *profesora*. Para solucionar esto podemos usar un *if*"
      ]
    },
    {
      "cell_type": "markdown",
      "metadata": {
        "id": "Rpfx1CkSXKG4"
      },
      "source": [
        "# **7. Condicionales: if, else.**\n",
        "\n",
        "Un condicional nos permite activar o no cierta porción de nuestro código siempre que se cumpla o incumpla una condición dada.\n",
        "\n",
        "Por ejemplo:\n",
        "```\n",
        "if (condicion)==True/False:\n",
        "  #realiza la porción de código\n",
        "  # que pongamos en estas líneas.\n",
        "\n",
        "else:\n",
        "  #si no se cumple la condición\n",
        "  #ejecuta esta otra porcion.\n",
        "```\n",
        "\n",
        "**Nota: no es necesario poner el ```else``` siempre. Se pueden poner varios ```if``` seguidos.**\n",
        "**Precaución: no olvidar los dos puntos (:)**"
      ]
    },
    {
      "cell_type": "code",
      "metadata": {
        "colab": {
          "base_uri": "https://localhost:8080/"
        },
        "id": "Wl3um0D-WrAf",
        "outputId": "8670cebd-cf48-4e21-8358-0111fe5c7a60"
      },
      "source": [
        "for i in range(len(notas)):\n",
        "  if profesores[i] in [\"natalia\", \"anel\"]:\n",
        "    print(\"La nota de la profesora\", i, \"es\", notas[i])\n",
        "  else:\n",
        "    print(\"La nota del profesor\", profesores[i], \"es\", notas[i])"
      ],
      "execution_count": null,
      "outputs": [
        {
          "output_type": "stream",
          "text": [
            "La nota de la profesora 0 es 4\n",
            "La nota de la profesora 1 es 7\n",
            "La nota del profesor wincy es 5\n",
            "La nota del profesor gustavo es 7\n",
            "La nota del profesor guillermo es 9\n",
            "La nota del profesor sebastian es 9\n",
            "La nota del profesor javier es 6\n",
            "La nota del profesor max es 3\n",
            "La nota del profesor mario es 5\n"
          ],
          "name": "stdout"
        }
      ]
    },
    {
      "cell_type": "markdown",
      "metadata": {
        "id": "8L2gLUEBZTtB"
      },
      "source": [
        "# ¿Cuáles profesores aprobaron, teniendo en cuenta que se aprueba con 7 o más?"
      ]
    },
    {
      "cell_type": "code",
      "metadata": {
        "colab": {
          "base_uri": "https://localhost:8080/"
        },
        "id": "VQZAthTGZGNI",
        "outputId": "249e5c10-b840-40a1-a16d-ba8a7f95f1a8"
      },
      "source": [
        "## Inténtalo!\n",
        "for i in range(len(profesores)):\n",
        "  if notas[i]>=7:\n",
        "    print(profesores[i])\n"
      ],
      "execution_count": null,
      "outputs": [
        {
          "output_type": "stream",
          "text": [
            "natalia\n",
            "gustavo\n",
            "guillermo\n",
            "sebastian\n"
          ],
          "name": "stdout"
        }
      ]
    },
    {
      "cell_type": "markdown",
      "metadata": {
        "id": "9zIWxfzeZk4v"
      },
      "source": [
        "Los loops y los condicionales nos ayudan a filtrar la información de nuestro conjunto de datos. Esto es útil para clasificar, cambiar o identificar factores que nos permitan hacer un mejor análisis de nuestros datos."
      ]
    },
    {
      "cell_type": "markdown",
      "metadata": {
        "id": "EO1WBW9T007u"
      },
      "source": [
        "# **8. Diccionarios**\n",
        "\n",
        "Los diccionarios son usados para guardar información. Para ellos usamos una llave (*key*) y a cada llave le asignamos un valor.\n",
        "Tal valor puede ser un arreglo, una cadena, otro diccionario...\n",
        "\n",
        "```\n",
        "diccionario ={ llave1 : valor1, llave2 : valor2, ...}\n",
        "```\n",
        "Para acceder a cada valor usamos la misma notación que en los arreglos solo que en vez de usar el índice, usamos la llave.\n",
        "```\n",
        "diccionario[llave1]\n",
        "``` \n",
        "\n",
        "**Precaución:** las llaves no pueden estar repetidas."
      ]
    },
    {
      "cell_type": "code",
      "metadata": {
        "id": "wey5_c9PZjcs"
      },
      "source": [
        "Datos_personales = {\"direccion\" : \"calle 25 # 72a-48\", \"edad\" : 27, \"correo\" : \"javamo93@gmail.com\", \"calificaciones\" : [2,4,5,2,2,5]}"
      ],
      "execution_count": null,
      "outputs": []
    },
    {
      "cell_type": "code",
      "metadata": {
        "colab": {
          "base_uri": "https://localhost:8080/",
          "height": 35
        },
        "id": "a51Rxlg7ANCx",
        "outputId": "7133e26a-b81f-4b11-8195-239a724a43fa"
      },
      "source": [
        "Datos_personales[\"direccion\"]"
      ],
      "execution_count": null,
      "outputs": [
        {
          "output_type": "execute_result",
          "data": {
            "application/vnd.google.colaboratory.intrinsic+json": {
              "type": "string"
            },
            "text/plain": [
              "'calle 25 # 72a-48'"
            ]
          },
          "metadata": {
            "tags": []
          },
          "execution_count": 30
        }
      ]
    },
    {
      "cell_type": "code",
      "metadata": {
        "colab": {
          "base_uri": "https://localhost:8080/"
        },
        "id": "x8jy5lkaARDM",
        "outputId": "2760b974-fab3-4130-d720-b7d6fe78ab86"
      },
      "source": [
        "Datos_personales[\"calificaciones\"]"
      ],
      "execution_count": null,
      "outputs": [
        {
          "output_type": "execute_result",
          "data": {
            "text/plain": [
              "[2, 4, 5, 2, 2, 5]"
            ]
          },
          "metadata": {
            "tags": []
          },
          "execution_count": 31
        }
      ]
    },
    {
      "cell_type": "code",
      "metadata": {
        "colab": {
          "base_uri": "https://localhost:8080/"
        },
        "id": "rsKShTqKATxW",
        "outputId": "ea1134af-ea16-42f5-f99e-1343ea4b9e1a"
      },
      "source": [
        "Datos_personales[\"calificaciones\"][3]"
      ],
      "execution_count": null,
      "outputs": [
        {
          "output_type": "execute_result",
          "data": {
            "text/plain": [
              "2"
            ]
          },
          "metadata": {
            "tags": []
          },
          "execution_count": 32
        }
      ]
    },
    {
      "cell_type": "markdown",
      "metadata": {
        "id": "3-mMkiXzPQHq"
      },
      "source": [
        "## Para agregar un nuevo item al diccionario:\n",
        "\n",
        "Es sencillo: usamos la nueva llave y le asignamos el nuevo valor:\n",
        "```\n",
        "diccionario[\"nueva llave\"] = nuevo valor (arreglo, diccionario, cadena, número...)\n",
        "```"
      ]
    },
    {
      "cell_type": "code",
      "metadata": {
        "id": "HsFRcrKpPm8f"
      },
      "source": [
        "#Agrégale algo nuevo al diccionario Datos_personales\n",
        "Datos_personales[\"  \"]=??"
      ],
      "execution_count": null,
      "outputs": []
    },
    {
      "cell_type": "code",
      "metadata": {
        "id": "hyiKuC50PwAL"
      },
      "source": [
        "Datos_personales"
      ],
      "execution_count": null,
      "outputs": []
    },
    {
      "cell_type": "markdown",
      "metadata": {
        "id": "uFVhTXQdAbO1"
      },
      "source": [
        "Sobre los diccionarios también podemos iterar"
      ]
    },
    {
      "cell_type": "code",
      "metadata": {
        "colab": {
          "base_uri": "https://localhost:8080/"
        },
        "id": "G9v7Uu6QAfKw",
        "outputId": "1505cd36-c18a-4281-ef0d-16b12678f0ae"
      },
      "source": [
        "for key in Datos_personales:\n",
        "  print(key)"
      ],
      "execution_count": null,
      "outputs": [
        {
          "output_type": "stream",
          "text": [
            "direccion\n",
            "edad\n",
            "correo\n",
            "calificaciones\n"
          ],
          "name": "stdout"
        }
      ]
    },
    {
      "cell_type": "code",
      "metadata": {
        "colab": {
          "base_uri": "https://localhost:8080/"
        },
        "id": "9l5gKxRPA9_A",
        "outputId": "0b3021a8-b8d7-4c7d-b293-04a137faf65e"
      },
      "source": [
        "for key in Datos_personales:\n",
        "  print(Datos_personales[key])"
      ],
      "execution_count": null,
      "outputs": [
        {
          "output_type": "stream",
          "text": [
            "calle 25 # 72a-48\n",
            "27\n",
            "javamo93@gmail.com\n",
            "[2, 4, 5, 2, 2, 5]\n"
          ],
          "name": "stdout"
        }
      ]
    },
    {
      "cell_type": "markdown",
      "metadata": {
        "id": "QT2qfDEWQcBg"
      },
      "source": [
        "Para más información sobre diccionarios puedes consultar [aquí](https://www.w3schools.com/python/python_dictionaries_methods.asp)."
      ]
    },
    {
      "cell_type": "markdown",
      "metadata": {
        "id": "QiULA_GV1art"
      },
      "source": [
        "# **9. Funciones lambda y map**"
      ]
    },
    {
      "cell_type": "markdown",
      "metadata": {
        "id": "VKaEySg3CTPc"
      },
      "source": [
        "Supongamos que tenemos el siguiente problema:\n",
        "\n",
        "Tenemos un arreglo con los salarios de todos los empleaños de una compañía y somos los encargados de actualizar el salario gracias a un aumento del 16% que hubo para todos los trabajares de la compañía.\n",
        "\n",
        "La compañía tiene 2367 trabajadores. ¿Qué hacer?\n",
        "\n",
        "**Respuesta:** \n",
        "* Un for.\n",
        "*  Una función.\n",
        "*  Un mapeo."
      ]
    },
    {
      "cell_type": "code",
      "metadata": {
        "id": "v9yPk8FHC-Iy"
      },
      "source": [
        "salarios = [100, 387, 56, 190, 280, 1290, 289, 54, 634, 235, 274, 234, 642, 237, 237, 12, 0, 78594, 235, 938]"
      ],
      "execution_count": null,
      "outputs": []
    },
    {
      "cell_type": "code",
      "metadata": {
        "id": "Jpalk3yYDJ4l"
      },
      "source": [
        "#Solución 1\n"
      ],
      "execution_count": null,
      "outputs": []
    },
    {
      "cell_type": "markdown",
      "metadata": {
        "id": "ezwolY2TDNkR"
      },
      "source": [
        "## **Lambda función**\n",
        "\n",
        "Las funciones lambda son funciones *anónimas* que solo pueden tener cualquier número de argumentos pero solo una expresión\n",
        "\n",
        "![image.png](https://i1.faceprep.in/Companies-1/python-lambda-functions-new.png)\n",
        "\n",
        "*Imagen tomada de https://i1.faceprep.in/Companies-1/python-lambda-functions-new.png\n"
      ]
    },
    {
      "cell_type": "markdown",
      "metadata": {
        "id": "997KlgJ0EEdb"
      },
      "source": [
        "Vamos a crear una función lambda que tome una variable x y me devuelva x por 1.16"
      ]
    },
    {
      "cell_type": "code",
      "metadata": {
        "colab": {
          "base_uri": "https://localhost:8080/"
        },
        "id": "emSK40A-EKw0",
        "outputId": "48668f0f-cd9c-45bb-f5c1-c308e121d6f3"
      },
      "source": [
        "aumento = lambda x: 1.16*x\n",
        "\n",
        "aumento(100)"
      ],
      "execution_count": null,
      "outputs": [
        {
          "output_type": "execute_result",
          "data": {
            "text/plain": [
              "115.99999999999999"
            ]
          },
          "metadata": {
            "tags": []
          },
          "execution_count": 37
        }
      ]
    },
    {
      "cell_type": "code",
      "metadata": {
        "id": "TzMwxwLSEUnQ"
      },
      "source": [
        "# Solucion 2 usando un for y una lambda función"
      ],
      "execution_count": null,
      "outputs": []
    },
    {
      "cell_type": "markdown",
      "metadata": {
        "id": "3XKnojqqE1aw"
      },
      "source": [
        "## **Función Map**\n",
        "\n",
        "La función toma como argumento una función y un iterador y retornar otro iterador.\n",
        "\n",
        "``` map(funcion, iterador)```\n",
        "\n",
        "Este iterador que retorna se puede convertir a una lista usando el comando ```list()```."
      ]
    },
    {
      "cell_type": "code",
      "metadata": {
        "colab": {
          "base_uri": "https://localhost:8080/"
        },
        "id": "UP8JZw6DE14z",
        "outputId": "538cf362-c841-43f0-b235-5f15af9224f3"
      },
      "source": [
        "nuevos_salarios = map(aumento, salarios)\n",
        "print(nuevos_salarios)"
      ],
      "execution_count": null,
      "outputs": [
        {
          "output_type": "stream",
          "text": [
            "<map object at 0x7f9f69f42f90>\n"
          ],
          "name": "stdout"
        }
      ]
    },
    {
      "cell_type": "code",
      "metadata": {
        "colab": {
          "base_uri": "https://localhost:8080/"
        },
        "id": "LvN0MuTnFAXC",
        "outputId": "62f8fea9-cc56-4df3-8962-97d31ab33556"
      },
      "source": [
        "nuevos_salarios = list(nuevos_salarios)\n",
        "print(list(nuevos_salarios))"
      ],
      "execution_count": null,
      "outputs": [
        {
          "output_type": "stream",
          "text": [
            "[115.99999999999999, 448.91999999999996, 64.96, 220.39999999999998, 324.79999999999995, 1496.3999999999999, 335.23999999999995, 62.63999999999999, 735.4399999999999, 272.59999999999997, 317.84, 271.44, 744.7199999999999, 274.91999999999996, 274.91999999999996, 13.919999999999998, 0.0, 91169.04, 272.59999999999997, 1088.08]\n"
          ],
          "name": "stdout"
        }
      ]
    },
    {
      "cell_type": "markdown",
      "metadata": {
        "id": "DZHalI6-Fsvq"
      },
      "source": [
        "## **¿Cuánto fue el aumento de cada salario?**\n",
        "\n",
        "¿Lo puedes hacer en una sola línea?\n",
        "\n",
        "Ayuda: usar una nueva función lambda que "
      ]
    },
    {
      "cell_type": "code",
      "metadata": {
        "colab": {
          "base_uri": "https://localhost:8080/"
        },
        "id": "vUNgOv4GGGo5",
        "outputId": "6f7940e5-6e81-4980-e553-aa8440788f57"
      },
      "source": [
        "print(list(map(lambda x,y: y-x, salarios, nuevos_salarios)))"
      ],
      "execution_count": null,
      "outputs": [
        {
          "output_type": "stream",
          "text": [
            "[15.999999999999986, 61.91999999999996, 8.959999999999994, 30.399999999999977, 44.799999999999955, 206.39999999999986, 46.23999999999995, 8.639999999999993, 101.43999999999994, 37.599999999999966, 43.839999999999975, 37.44, 102.71999999999991, 37.91999999999996, 37.91999999999996, 1.9199999999999982, 0.0, 12575.039999999994, 37.599999999999966, 150.07999999999993]\n"
          ],
          "name": "stdout"
        }
      ]
    },
    {
      "cell_type": "markdown",
      "metadata": {
        "id": "4y4ROAf31Ar5"
      },
      "source": [
        "# **10. Numpy**\n",
        "\n",
        "Esta librería convertirá a Python en \"Una súper calculadora\".\n",
        "\n",
        "---\n",
        "\n",
        "\n",
        "\n",
        "Una librería es un conjunto de funciones y métodos que ya están predefinidas y nos ayudarán a hacer los cálculos de forma más sencilla.\n",
        "\n",
        "\n",
        "Empezamos cargando la librería, es decir, dándole a Python el poder de usar estas funciones. Para esto utilizamos el comando **import** y agregamos el nombre de la librería que queremos, que en este caso es **numpy**\n",
        "\n",
        "```import numpy as np```\n",
        "\n"
      ]
    },
    {
      "cell_type": "code",
      "metadata": {
        "id": "5Pcvp8VUGN2v"
      },
      "source": [
        "import numpy as np\n"
      ],
      "execution_count": null,
      "outputs": []
    },
    {
      "cell_type": "markdown",
      "metadata": {
        "id": "jx3QPWEHGPxd"
      },
      "source": [
        "Siempre que carguemos una libreria podemos ponerle un *alias* que nos permitirá usarlas de forma abreviada. \n",
        "\n",
        "En el caso de Numpy usamos el *alias* de *np*. Esto es una convención que se usa entre la mayoría de programadores de Python.\n",
        "\n",
        "Otra librería que usaremos en la próxima sesión será la de ***pandas***. A esta libería se le suele asignar el *alias* *pd*\n",
        "\n",
        "```import pandas as pd```"
      ]
    },
    {
      "cell_type": "markdown",
      "metadata": {
        "id": "-HozQWrbHKEl"
      },
      "source": [
        "## **Instalar paquetes.**\n",
        "\n",
        "Para instalar un paquete con el que Colab no cuente, usamos la línea de código\n",
        "```\n",
        "!pip install (paquete)\n",
        "```\n",
        "Por ejemplo, si queremos instalar el paquete *tensorflow* hacemos lo siguiente:"
      ]
    },
    {
      "cell_type": "code",
      "metadata": {
        "colab": {
          "base_uri": "https://localhost:8080/"
        },
        "id": "ZyXmyV6-HF1b",
        "outputId": "ff90a0c1-2b3b-46be-c1c2-c58b9f3df6ef"
      },
      "source": [
        "!pip install tensorflow"
      ],
      "execution_count": null,
      "outputs": [
        {
          "output_type": "stream",
          "text": [
            "Requirement already satisfied: tensorflow in /usr/local/lib/python3.7/dist-packages (2.4.1)\n",
            "Requirement already satisfied: google-pasta~=0.2 in /usr/local/lib/python3.7/dist-packages (from tensorflow) (0.2.0)\n",
            "Requirement already satisfied: astunparse~=1.6.3 in /usr/local/lib/python3.7/dist-packages (from tensorflow) (1.6.3)\n",
            "Requirement already satisfied: tensorflow-estimator<2.5.0,>=2.4.0 in /usr/local/lib/python3.7/dist-packages (from tensorflow) (2.4.0)\n",
            "Requirement already satisfied: numpy~=1.19.2 in /usr/local/lib/python3.7/dist-packages (from tensorflow) (1.19.5)\n",
            "Requirement already satisfied: wheel~=0.35 in /usr/local/lib/python3.7/dist-packages (from tensorflow) (0.36.2)\n",
            "Requirement already satisfied: tensorboard~=2.4 in /usr/local/lib/python3.7/dist-packages (from tensorflow) (2.4.1)\n",
            "Requirement already satisfied: wrapt~=1.12.1 in /usr/local/lib/python3.7/dist-packages (from tensorflow) (1.12.1)\n",
            "Requirement already satisfied: protobuf>=3.9.2 in /usr/local/lib/python3.7/dist-packages (from tensorflow) (3.12.4)\n",
            "Requirement already satisfied: keras-preprocessing~=1.1.2 in /usr/local/lib/python3.7/dist-packages (from tensorflow) (1.1.2)\n",
            "Requirement already satisfied: gast==0.3.3 in /usr/local/lib/python3.7/dist-packages (from tensorflow) (0.3.3)\n",
            "Requirement already satisfied: typing-extensions~=3.7.4 in /usr/local/lib/python3.7/dist-packages (from tensorflow) (3.7.4.3)\n",
            "Requirement already satisfied: flatbuffers~=1.12.0 in /usr/local/lib/python3.7/dist-packages (from tensorflow) (1.12)\n",
            "Requirement already satisfied: six~=1.15.0 in /usr/local/lib/python3.7/dist-packages (from tensorflow) (1.15.0)\n",
            "Requirement already satisfied: absl-py~=0.10 in /usr/local/lib/python3.7/dist-packages (from tensorflow) (0.12.0)\n",
            "Requirement already satisfied: grpcio~=1.32.0 in /usr/local/lib/python3.7/dist-packages (from tensorflow) (1.32.0)\n",
            "Requirement already satisfied: h5py~=2.10.0 in /usr/local/lib/python3.7/dist-packages (from tensorflow) (2.10.0)\n",
            "Requirement already satisfied: opt-einsum~=3.3.0 in /usr/local/lib/python3.7/dist-packages (from tensorflow) (3.3.0)\n",
            "Requirement already satisfied: termcolor~=1.1.0 in /usr/local/lib/python3.7/dist-packages (from tensorflow) (1.1.0)\n",
            "Requirement already satisfied: werkzeug>=0.11.15 in /usr/local/lib/python3.7/dist-packages (from tensorboard~=2.4->tensorflow) (1.0.1)\n",
            "Requirement already satisfied: requests<3,>=2.21.0 in /usr/local/lib/python3.7/dist-packages (from tensorboard~=2.4->tensorflow) (2.23.0)\n",
            "Requirement already satisfied: markdown>=2.6.8 in /usr/local/lib/python3.7/dist-packages (from tensorboard~=2.4->tensorflow) (3.3.4)\n",
            "Requirement already satisfied: tensorboard-plugin-wit>=1.6.0 in /usr/local/lib/python3.7/dist-packages (from tensorboard~=2.4->tensorflow) (1.8.0)\n",
            "Requirement already satisfied: google-auth-oauthlib<0.5,>=0.4.1 in /usr/local/lib/python3.7/dist-packages (from tensorboard~=2.4->tensorflow) (0.4.4)\n",
            "Requirement already satisfied: setuptools>=41.0.0 in /usr/local/lib/python3.7/dist-packages (from tensorboard~=2.4->tensorflow) (54.2.0)\n",
            "Requirement already satisfied: google-auth<2,>=1.6.3 in /usr/local/lib/python3.7/dist-packages (from tensorboard~=2.4->tensorflow) (1.28.1)\n",
            "Requirement already satisfied: idna<3,>=2.5 in /usr/local/lib/python3.7/dist-packages (from requests<3,>=2.21.0->tensorboard~=2.4->tensorflow) (2.10)\n",
            "Requirement already satisfied: chardet<4,>=3.0.2 in /usr/local/lib/python3.7/dist-packages (from requests<3,>=2.21.0->tensorboard~=2.4->tensorflow) (3.0.4)\n",
            "Requirement already satisfied: certifi>=2017.4.17 in /usr/local/lib/python3.7/dist-packages (from requests<3,>=2.21.0->tensorboard~=2.4->tensorflow) (2020.12.5)\n",
            "Requirement already satisfied: urllib3!=1.25.0,!=1.25.1,<1.26,>=1.21.1 in /usr/local/lib/python3.7/dist-packages (from requests<3,>=2.21.0->tensorboard~=2.4->tensorflow) (1.24.3)\n",
            "Requirement already satisfied: importlib-metadata; python_version < \"3.8\" in /usr/local/lib/python3.7/dist-packages (from markdown>=2.6.8->tensorboard~=2.4->tensorflow) (3.10.1)\n",
            "Requirement already satisfied: requests-oauthlib>=0.7.0 in /usr/local/lib/python3.7/dist-packages (from google-auth-oauthlib<0.5,>=0.4.1->tensorboard~=2.4->tensorflow) (1.3.0)\n",
            "Requirement already satisfied: cachetools<5.0,>=2.0.0 in /usr/local/lib/python3.7/dist-packages (from google-auth<2,>=1.6.3->tensorboard~=2.4->tensorflow) (4.2.1)\n",
            "Requirement already satisfied: rsa<5,>=3.1.4; python_version >= \"3.6\" in /usr/local/lib/python3.7/dist-packages (from google-auth<2,>=1.6.3->tensorboard~=2.4->tensorflow) (4.7.2)\n",
            "Requirement already satisfied: pyasn1-modules>=0.2.1 in /usr/local/lib/python3.7/dist-packages (from google-auth<2,>=1.6.3->tensorboard~=2.4->tensorflow) (0.2.8)\n",
            "Requirement already satisfied: zipp>=0.5 in /usr/local/lib/python3.7/dist-packages (from importlib-metadata; python_version < \"3.8\"->markdown>=2.6.8->tensorboard~=2.4->tensorflow) (3.4.1)\n",
            "Requirement already satisfied: oauthlib>=3.0.0 in /usr/local/lib/python3.7/dist-packages (from requests-oauthlib>=0.7.0->google-auth-oauthlib<0.5,>=0.4.1->tensorboard~=2.4->tensorflow) (3.1.0)\n",
            "Requirement already satisfied: pyasn1>=0.1.3 in /usr/local/lib/python3.7/dist-packages (from rsa<5,>=3.1.4; python_version >= \"3.6\"->google-auth<2,>=1.6.3->tensorboard~=2.4->tensorflow) (0.4.8)\n"
          ],
          "name": "stdout"
        }
      ]
    },
    {
      "cell_type": "markdown",
      "metadata": {
        "id": "z3cmRzBCH_nz"
      },
      "source": [
        "## **Funciones aplicadas a arreglos Numpy** \n",
        "Numpy tiene la gran ventaja de que podemos usar un arreglo hecho con numpy para hacer el cálculo de forma más sencilla. \n",
        "\n",
        "Para esto usaremos el comando ```np.array([aqui ponemos el array])```. Repitamos los calculos de la actualización de salario usando un arreglo de numpy."
      ]
    },
    {
      "cell_type": "code",
      "metadata": {
        "colab": {
          "base_uri": "https://localhost:8080/"
        },
        "id": "Wirebpp8IU8F",
        "outputId": "bd5ba7be-0017-49c3-f9f3-25cf792432aa"
      },
      "source": [
        "salarios_numpy = np.array(salarios)\n",
        "salarios_numpy"
      ],
      "execution_count": null,
      "outputs": [
        {
          "output_type": "execute_result",
          "data": {
            "text/plain": [
              "array([  100,   387,    56,   190,   280,  1290,   289,    54,   634,\n",
              "         235,   274,   234,   642,   237,   237,    12,     0, 78594,\n",
              "         235,   938])"
            ]
          },
          "metadata": {
            "tags": []
          },
          "execution_count": 6
        }
      ]
    },
    {
      "cell_type": "code",
      "metadata": {
        "colab": {
          "base_uri": "https://localhost:8080/"
        },
        "id": "gv5GKpy4IgCQ",
        "outputId": "00f66a06-a5d3-487f-d966-4ee76a3da049"
      },
      "source": [
        "salarios"
      ],
      "execution_count": null,
      "outputs": [
        {
          "output_type": "execute_result",
          "data": {
            "text/plain": [
              "[100,\n",
              " 387,\n",
              " 56,\n",
              " 190,\n",
              " 280,\n",
              " 1290,\n",
              " 289,\n",
              " 54,\n",
              " 634,\n",
              " 235,\n",
              " 274,\n",
              " 234,\n",
              " 642,\n",
              " 237,\n",
              " 237,\n",
              " 12,\n",
              " 0,\n",
              " 78594,\n",
              " 235,\n",
              " 938]"
            ]
          },
          "metadata": {
            "tags": []
          },
          "execution_count": 7
        }
      ]
    },
    {
      "cell_type": "markdown",
      "metadata": {
        "id": "M6ddMZt0IjMt"
      },
      "source": [
        "Como queremos multiplicar cada entrada por 1.16, tomamos el arreglo en numpy y lo multiplicamos por 1.16. (Sí, así de fácil!)\n",
        "\n",
        "En general será\n",
        "```\n",
        "arreglo_nuevo = arreglo_numpy * (funcion que se le quiere aplicar a cada entrada)\n",
        "```"
      ]
    },
    {
      "cell_type": "code",
      "metadata": {
        "colab": {
          "base_uri": "https://localhost:8080/"
        },
        "id": "iM558mouI3tP",
        "outputId": "2f9d576e-3b94-45bd-88d5-f1d592c45d6a"
      },
      "source": [
        "salario_actualizado_numpy = salarios_numpy *1.16\n",
        "salario_actualizado_numpy"
      ],
      "execution_count": null,
      "outputs": [
        {
          "output_type": "execute_result",
          "data": {
            "text/plain": [
              "array([1.160000e+02, 4.489200e+02, 6.496000e+01, 2.204000e+02,\n",
              "       3.248000e+02, 1.496400e+03, 3.352400e+02, 6.264000e+01,\n",
              "       7.354400e+02, 2.726000e+02, 3.178400e+02, 2.714400e+02,\n",
              "       7.447200e+02, 2.749200e+02, 2.749200e+02, 1.392000e+01,\n",
              "       0.000000e+00, 9.116904e+04, 2.726000e+02, 1.088080e+03])"
            ]
          },
          "metadata": {
            "tags": []
          },
          "execution_count": 8
        }
      ]
    },
    {
      "cell_type": "markdown",
      "metadata": {
        "id": "WNC98SfwJIRP"
      },
      "source": [
        "Otros ejemplos:"
      ]
    },
    {
      "cell_type": "code",
      "metadata": {
        "colab": {
          "base_uri": "https://localhost:8080/"
        },
        "id": "4Zf8RCijJKEk",
        "outputId": "540adbff-60d4-4f50-bb36-6cb06276b568"
      },
      "source": [
        "arreglo_aleatorio = np.random.rand(4) #genera un arreglo de 4 elementos con números aleatorios entre 0 y 1.\n",
        "arreglo_aleatorio"
      ],
      "execution_count": null,
      "outputs": [
        {
          "output_type": "execute_result",
          "data": {
            "text/plain": [
              "array([0.11303702, 0.11846482, 0.61277561, 0.33765272])"
            ]
          },
          "metadata": {
            "tags": []
          },
          "execution_count": 10
        }
      ]
    },
    {
      "cell_type": "code",
      "metadata": {
        "colab": {
          "base_uri": "https://localhost:8080/"
        },
        "id": "0uIUZyXoJybW",
        "outputId": "f254cb30-bed0-4901-8f98-4f8db663b36d"
      },
      "source": [
        "arreglo_aleatorio = np.random.rand(4)*100 #genera un arreglo de 4 elementos con números aleatorios entre 0 y 100.\n",
        "arreglo_aleatorio"
      ],
      "execution_count": null,
      "outputs": [
        {
          "output_type": "execute_result",
          "data": {
            "text/plain": [
              "array([84.29863987,  9.03859201, 58.08715996, 30.19460566])"
            ]
          },
          "metadata": {
            "tags": []
          },
          "execution_count": 11
        }
      ]
    },
    {
      "cell_type": "code",
      "metadata": {
        "colab": {
          "base_uri": "https://localhost:8080/"
        },
        "id": "K-Nqu4sgJ2Sc",
        "outputId": "51970daa-abd1-4339-dca6-8d63917b1160"
      },
      "source": [
        "seno_de = np.sin(arreglo_aleatorio) #aplica la función seno a cada entrada del arreglo.\n",
        "seno_de"
      ],
      "execution_count": null,
      "outputs": [
        {
          "output_type": "execute_result",
          "data": {
            "text/plain": [
              "array([ 0.50066063,  0.37665801,  0.99947827, -0.93955245])"
            ]
          },
          "metadata": {
            "tags": []
          },
          "execution_count": 14
        }
      ]
    },
    {
      "cell_type": "code",
      "metadata": {
        "colab": {
          "base_uri": "https://localhost:8080/"
        },
        "id": "iFllHruvKMTA",
        "outputId": "e01a25e0-212a-4c9a-d4af-ec42fa02b377"
      },
      "source": [
        "raiz_cuadrada = np.sqrt(arreglo_aleatorio)#aplia la raíz cuadrada a cada entrada del arreglo.\n",
        "raiz_cuadrada"
      ],
      "execution_count": null,
      "outputs": [
        {
          "output_type": "execute_result",
          "data": {
            "text/plain": [
              "array([9.18142908, 3.00642512, 7.62149329, 5.49496184])"
            ]
          },
          "metadata": {
            "tags": []
          },
          "execution_count": 15
        }
      ]
    },
    {
      "cell_type": "code",
      "metadata": {
        "colab": {
          "base_uri": "https://localhost:8080/"
        },
        "id": "UKvdB2FZKUl_",
        "outputId": "82a11dc8-4598-4262-ee4c-8eaa3fa35d5a"
      },
      "source": [
        "cambio_salario = salario_actualizado_numpy - salarios_numpy\n",
        "cambio_salario"
      ],
      "execution_count": null,
      "outputs": [
        {
          "output_type": "execute_result",
          "data": {
            "text/plain": [
              "array([1.600000e+01, 6.192000e+01, 8.960000e+00, 3.040000e+01,\n",
              "       4.480000e+01, 2.064000e+02, 4.624000e+01, 8.640000e+00,\n",
              "       1.014400e+02, 3.760000e+01, 4.384000e+01, 3.744000e+01,\n",
              "       1.027200e+02, 3.792000e+01, 3.792000e+01, 1.920000e+00,\n",
              "       0.000000e+00, 1.257504e+04, 3.760000e+01, 1.500800e+02])"
            ]
          },
          "metadata": {
            "tags": []
          },
          "execution_count": 16
        }
      ]
    },
    {
      "cell_type": "code",
      "metadata": {
        "colab": {
          "base_uri": "https://localhost:8080/"
        },
        "id": "LvysXVyQKuBG",
        "outputId": "8d66dd26-48bb-4a58-8fef-6c450dde60d8"
      },
      "source": [
        "arreglo_enteros = np.random.randint(3, 17, 5)#genera un arreglo de números enteros desde el 3 hasta el 17 con 5 entradas.\n",
        "arreglo_enteros"
      ],
      "execution_count": null,
      "outputs": [
        {
          "output_type": "execute_result",
          "data": {
            "text/plain": [
              "array([14,  3,  4,  9,  9])"
            ]
          },
          "metadata": {
            "tags": []
          },
          "execution_count": 17
        }
      ]
    },
    {
      "cell_type": "markdown",
      "metadata": {
        "id": "6pBECr0YLeYB"
      },
      "source": [
        "Las capacidades que tiene Numpy son enormes. Te invitamos a que consultes más en la web. [Aquí](https://damianavila.github.io/Python-Cientifico-HCC/3_NumPy.html) te dejamos un inicio para que puedas ver operaciones de álgebra lineal y otras operaciones que tiene Numpy."
      ]
    },
    {
      "cell_type": "markdown",
      "metadata": {
        "id": "cbZawM8xHCVd"
      },
      "source": [
        ""
      ]
    }
  ]
}