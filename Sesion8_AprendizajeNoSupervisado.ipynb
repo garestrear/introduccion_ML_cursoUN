{
  "nbformat": 4,
  "nbformat_minor": 0,
  "metadata": {
    "colab": {
      "name": "Sesion8_AprendizajeNoSupervisado.ipynb",
      "provenance": [],
      "collapsed_sections": [],
      "include_colab_link": true
    },
    "kernelspec": {
      "display_name": "Python 3",
      "language": "python",
      "name": "python3"
    },
    "language_info": {
      "codemirror_mode": {
        "name": "ipython",
        "version": 3
      },
      "file_extension": ".py",
      "mimetype": "text/x-python",
      "name": "python",
      "nbconvert_exporter": "python",
      "pygments_lexer": "ipython3",
      "version": "3.8.5"
    }
  },
  "cells": [
    {
      "cell_type": "markdown",
      "metadata": {
        "id": "view-in-github",
        "colab_type": "text"
      },
      "source": [
        "<a href=\"https://colab.research.google.com/github/garestrear/introduccion_ML_cursoUN/blob/main/Sesion8_AprendizajeNoSupervisado.ipynb\" target=\"_parent\"><img src=\"https://colab.research.google.com/assets/colab-badge.svg\" alt=\"Open In Colab\"/></a>"
      ]
    },
    {
      "cell_type": "markdown",
      "metadata": {
        "id": "mSkBAAXcGSye"
      },
      "source": [
        "# <center> <h1> <strong>  Sesiones 8 y 9: Aprendizaje no supervisado </strong> </h1> \n",
        "\n",
        "---\n",
        "\n",
        "</center>"
      ]
    },
    {
      "cell_type": "markdown",
      "metadata": {
        "id": "p9xlC7y02sqU"
      },
      "source": [
        "\n",
        "________________\n",
        "# <center> Aprendizaje supervisado </center>\n",
        "________________"
      ]
    },
    {
      "cell_type": "markdown",
      "metadata": {
        "id": "AzYDO__GRQy4"
      },
      "source": [
        "<div align='justify'>\n",
        "<h2> En el aprendizaje supervisado suponemos que existe una función $f$ entre las características $X$ y las etiquetas $Y$: \n",
        "$$Y = f(X)$$\n",
        "$f$ es desconocida y entonces los objetivos del aprendizaje supervisado se centran en encontrar un modelo $\\hat{f}$ que aproxime lo mejor posible a $f$: $$\\hat{f} \\approx f.$$\n",
        "$\\hat{f}$ puede ser una regresión, un árbol de decisión, ...</h2>\n",
        "</div>"
      ]
    },
    {
      "cell_type": "markdown",
      "metadata": {
        "id": "n_31tz17P8DV"
      },
      "source": [
        "<p align=\"center\">\n",
        "<img src=\"https://raw.githubusercontent.com/garestrear/ninja-pythonist/master/NoSupervisado/Supervisado.png\">\n",
        "</p>"
      ]
    },
    {
      "cell_type": "markdown",
      "metadata": {
        "id": "tCDqHexD2i2d"
      },
      "source": [
        "________________\n",
        "# <center> Aprendizaje no supervisado </center>\n",
        "________________"
      ]
    },
    {
      "cell_type": "markdown",
      "metadata": {
        "id": "wF3wfowQaDu4"
      },
      "source": [
        "<h2> En el aprendizaje no supervisado contamos con las características $X$, pero no con las etiquetas $Y$. </h2>"
      ]
    },
    {
      "cell_type": "markdown",
      "metadata": {
        "id": "1-1LprZD5Fer"
      },
      "source": [
        "<p align=\"center\">\n",
        "<img src=\"https://raw.githubusercontent.com/garestrear/ninja-pythonist/master/NoSupervisado/NoSupervisado.png\">\n",
        "</p>"
      ]
    },
    {
      "cell_type": "markdown",
      "metadata": {
        "id": "HjOwM4H7c1vD"
      },
      "source": [
        "<div align='justify'>\n",
        "<h2>El objetivo de un algoritmo de aprendizaje no supervisado es crear un modelo que tome las características $X$ como entrada y nos devuelva unas nuevas características o  un valor que se puede utilizar para resolver un problema práctico. Por ejemplo, en la <u><em>reducción de dimensionalidad</em></u>, la salida del modelo serán una cantidad de características inferior  a la entrada original $X$. En el <u><em> agrupamiento </em></u>, el modelo devuelve la identificación del grupo para cada observación en el conjunto de datos.</h2>\n",
        "</div>"
      ]
    },
    {
      "cell_type": "markdown",
      "metadata": {
        "id": "ZDIPHWOWjvjY"
      },
      "source": [
        "________________\n",
        "# <center> Reducción de dimensionalidad </center>\n",
        "________________\n"
      ]
    },
    {
      "cell_type": "markdown",
      "metadata": {
        "id": "heEgl7HZYv4y"
      },
      "source": [
        "<p align=\"center\">\n",
        "<img src=\"https://raw.githubusercontent.com/garestrear/ninja-pythonist/master/NoSupervisado/PCA00(1).png\">\n",
        "</p>"
      ]
    },
    {
      "cell_type": "markdown",
      "metadata": {
        "id": "28ox4gVPfT4W"
      },
      "source": [
        "<div align='justify'>\n",
        "<h2>\n",
        "La reducción de dimensionalidad es el proceso de tomar datos en un espacio de alta dimensión y llevarlos a un nuevo espacio cuya dimensionalidad es mucho más pequeña.\n",
        "</h2>\n",
        "\n",
        "<h2>\n",
        "Hay varias razones para reducir la dimensionalidad de los datos:\n",
        "</h2>\n",
        "<h2>\n",
        "$\\circ$ filtrar características no tan relevantes y conservar la mayor cantidad posible de las interesantes,\n",
        "</h2>\n",
        "<h2>\n",
        "$\\circ$ los datos de alta dimensión imponen desafíos computacionales,\n",
        "</h2>\n",
        "<h2>\n",
        "$\\circ$ la reducción de dimensionalidad es ideal para explorar y mejorar nuestra comprensión sobre un conjunto de datos.\n",
        "</h2> \n",
        "</div>"
      ]
    },
    {
      "cell_type": "markdown",
      "metadata": {
        "id": "lfCpjEK1d68U"
      },
      "source": [
        "## <center> <u> <h2> Análisis de componente principales ─ PCA </h2> </u> </center>"
      ]
    },
    {
      "cell_type": "markdown",
      "metadata": {
        "id": "QvqlzaKIcztI"
      },
      "source": [
        "<p align=\"center\">\n",
        "<img src=\"https://raw.githubusercontent.com/garestrear/ninja-pythonist/da6bb5487f6dfd7807c81a68e7d43da178642843/NoSupervisado/PCA0.svg\">\n",
        "</p>"
      ]
    },
    {
      "cell_type": "markdown",
      "metadata": {
        "id": "kBlBlwocepdo"
      },
      "source": [
        "<center> <h2> PCA geométricamente </h2> </center>\n",
        "\n",
        "<img src=\"https://raw.githubusercontent.com/garestrear/ninja-pythonist/master/NoSupervisado/grafica_celulas_2.png\">\n",
        "\n",
        "<img src=\"https://raw.githubusercontent.com/garestrear/ninja-pythonist/master/NoSupervisado/grafica_celulas_2_0.png\">\n",
        "\n",
        "<img src=\"https://raw.githubusercontent.com/garestrear/ninja-pythonist/master/NoSupervisado/grafica_celulas_2_1.png\">\n",
        "\n",
        "</p>\n",
        "<div align='justify'>\n",
        "<h2>\n",
        "Supongamos que tenemos un conjunto de observaciones para las que se dispone de dos variables. El vector que define la primera componente principal $Z_1$ sigue la dirección en la que las observaciones tienen más varianza (línea roja en el caso del dibujo). La proyección de cada observación sobre esa dirección equivale al valor de la primera componente para dicha observación (principal component score).   \n",
        "<br>\n",
        "La segunda componente $Z_2$ sigue la segunda dirección en la que los datos muestran mayor varianza y que no está correlacionada con la primera componente (línea verde en el caso del dibujo).\n",
        "<br>\n",
        "Cada componente principal $Z_i$ se obtiene por combinación lineal de las variables originales. Se pueden entender como nuevas variables obtenidas al combinar de una determinada forma las variables originales.\n",
        "<br>\n",
        "La condición de no correlación entre componentes principales equivale a perpendicularidad.\n",
        "</h2>\n",
        "</div>\n"
      ]
    },
    {
      "cell_type": "markdown",
      "metadata": {
        "id": "Te9oCraZoXhJ"
      },
      "source": [
        "<center> <h2> Cálculo de las PCA </h2> </center>\n",
        "\n",
        "</p>\n",
        "<div align='justify'>\n",
        "<h2>\n",
        "Cada componente principal se obtiene por combinación lineal de las variables originales. Por ejemplo, la primera componente principal de un conjunto de variables $X_1, \\cdots, X_p$ es\n",
        "$$\n",
        "Z_1=\\phi_{11}X_{1}+\\phi_{21}X_{2}+ \\cdots +\\phi_{p1}X_{p}, \\quad \\sum_{j=1}^p\\phi_{j1}^2 = 1^*\n",
        "$$\n",
        "<br>\n",
        "Entonces dado un conjunto de datos $X$ de tamaño ${n\\times p}$, el proceso a seguir para calcular la primera componente principal es:\n",
        "<br>\n",
        "$\\circ$ Centrar las variables: se resta a cada valor la media de la variable a la que pertenece. Con esto se consigue que todas las variables tengan media cero.\n",
        "<br>\n",
        "$\\circ$ Se resuelve un problema de optimización para encontrar el valor de los coeficientes con los que se maximiza la varianza. Es decir, queremos elegir $\\phi_1$ de modo que se maximice la varianza de $Z_1$ sujeta a la restricción\n",
        "$\\sum_{j=1}^p\\phi_{j1}^2 = 1$\n",
        "<br>\n",
        "$\\circ$ El segundo componente principal,\n",
        "$$\n",
        "Z_2=\\phi_{12}X_{1}+\\phi_{22}X_{2}+ \\cdots +\\phi_{p2}X_{p}, \\quad \\sum_{j=1}^p\\phi_{j2}^2 \n",
        "$$\n",
        "se obtiene mediante un argumento parecido. Pero además queremos que $Z_2$ no esté correlacionado con $Z_1$.\n",
        "<br>\n",
        "<br>\n",
        "Finalmente, resolver estos problemas de optimización se reducen al cálculo de vectores y valores propios de una matriz de covarianzas.\n",
        "</h2>\n",
        "</div>\n",
        "*Restringimos la suma de los cuadrados de los coeficientes, ya que no hacerlo podría resultar en una varianza arbitrariamente grande.\n"
      ]
    },
    {
      "cell_type": "markdown",
      "metadata": {
        "id": "m3NEKuFdSUTZ"
      },
      "source": [
        "<center> <h2> Volviendo a lo intuitivo </h2> </center>\n",
        "\n",
        "<h2> Algunas células\n",
        "<p align=\"center\">\n",
        "<img src=\"https://raw.githubusercontent.com/garestrear/ninja-pythonist/master/NoSupervisado/celulas.png\">\n",
        "&emsp;\n",
        "&emsp;\n",
        "&emsp;\n",
        "&emsp;\n",
        "&emsp;\n",
        "&emsp;\n",
        "<img src=\"https://raw.githubusercontent.com/garestrear/ninja-pythonist/master/NoSupervisado/celulas2.png\">\n",
        "</p>"
      ]
    },
    {
      "cell_type": "markdown",
      "metadata": {
        "id": "qEZL0CvVSqqr"
      },
      "source": [
        "<h2> Los datos </h2>\n",
        "\n",
        "<p align=\"center\">\n",
        "<img src=\"https://raw.githubusercontent.com/garestrear/ninja-pythonist/master/NoSupervisado/tabla_celulas.png\">\n",
        "</br>\n",
        "<img src=\"https://raw.githubusercontent.com/garestrear/ninja-pythonist/master/NoSupervisado/grafica_celulas_1.png\">\n",
        "\n",
        "<img src=\"https://raw.githubusercontent.com/garestrear/ninja-pythonist/master/NoSupervisado/grafica_celulas_2.png\">\n",
        "\n",
        "<img src=\"https://raw.githubusercontent.com/garestrear/ninja-pythonist/master/NoSupervisado/grafica_celulas_3.png\">\n",
        "</p>\n",
        "\n",
        "<p align=\"center\">\n",
        "<img src=\"https://raw.githubusercontent.com/garestrear/ninja-pythonist/master/NoSupervisado/grafica_celulas_4.png\">\n",
        "</p>\n",
        "\n",
        "<br>\n",
        "<h2> <center> ¿Qué hacemos si hay 4 ó más células?</center></h2>\n",
        "\n",
        "<h2> Un gráfico de análisis de componentes principales convierte las correlaciones entre todas las células en un gráfico 2-D o 3-D.  </h2>\n",
        "\n",
        "\n",
        "<p align=\"center\">\n",
        "<img src=\"https://raw.githubusercontent.com/garestrear/ninja-pythonist/master/NoSupervisado/PCA.png\">\n",
        "</p>\n",
        "<div align='justify'>\n",
        "<h2> Las células que tienen correlaciones elevadas se agrupan juntas.\n",
        "<br>\n",
        "Los ejes están clasificados por orden de importancia. Las diferencias a lo largo del primer eje de análisis de componentes principales (PC1) son más importantes que las diferencias a lo largo del segundo  eje de análisis de componentes principales (PC2).   </h2>\n",
        "</div>\n",
        "\n",
        "\n",
        "<p align=\"center\">\n",
        "<img src=\"https://raw.githubusercontent.com/garestrear/ninja-pythonist/master/NoSupervisado/PCA2.png\">\n",
        "</p>\n",
        "\n",
        "\n",
        "[Ver video ](https://www.youtube.com/watch?v=HMOI_lkzW08)"
      ]
    },
    {
      "cell_type": "markdown",
      "metadata": {
        "id": "G-Ge1XrDiRBX"
      },
      "source": [
        "<div align='justify'>\n",
        "<h2>\n",
        "<u> Un poco más de detalle:</u> las componentes principales son vectores que definen un nuevo sistema de coordenadas en el que el primer eje va en la dirección de la varianza más alta en los datos. El segundo eje es ortogonal al primero y va en la dirección de la segunda varianza más alta en los datos. El tercer eje sería ortogonal tanto al primer como al segundo eje e iría en la dirección de la tercera varianza más alta y así sucesivamente.\n",
        "</h2>"
      ]
    },
    {
      "cell_type": "markdown",
      "metadata": {
        "id": "CXonrIIn61fS"
      },
      "source": [
        "<div align='justify'>\n",
        "<h2>\n",
        "<strong> Observación:</strong> El proceso de PCA identifica las direcciones con mayor varianza. Como la varianza de una variable se mide en sus mismas unidades elevadas al cuadrado, si antes de calcular las componentes no se estandarizan todas las variables para que tengan media $0$ y desviación estándar $1$, aquellas variables cuya escala sea mayor dominarán al resto. Por lo tanto es recomendable estandarizar siempre los datos.\n",
        "<h2>\n",
        "</div>"
      ]
    },
    {
      "cell_type": "markdown",
      "metadata": {
        "id": "WBLDvtrq7dgU"
      },
      "source": [
        "<div align='justify'>\n",
        "<h2>\n",
        "<strong> Pregunta:</strong> Si tenemos observaciones atípicas en nuestros datos (valores muy grandes o muy pequeños) ¿creen que el PCA se verá afectado?.\n",
        "<br> \n",
        "<strong> Pregunta:</strong> ¿Servirá de algo usar PCA en variables que no presentan ninguna correlación?\n",
        "<h2>\n",
        "</div>"
      ]
    },
    {
      "cell_type": "markdown",
      "metadata": {
        "id": "7Jr7NFAlpoKw"
      },
      "source": [
        "## <center> <u> <h2> PCA en scikit-learn </h2> </u> </center>"
      ]
    },
    {
      "cell_type": "markdown",
      "metadata": {
        "id": "KjJOlkx9qxmx"
      },
      "source": [
        "<div align='justify'>\n",
        "<h2> scikit-learn tiene una implementación de PCA:\n",
        "<br>\n",
        "$\\circ$ el método <u>fit()</u> aprende cómo mover y rotar los datos para que estén alineados con los ejes coordenados y tengan media $0$\n",
        "<br>\n",
        "$\\circ$ el método <u>transform()</u> lleva a cabo la transformación que se aprendió con el método <u>fit()</u>,\n",
        "<br>\n",
        "$\\circ$ antes de usar PCA es importante estandarizar los datos \n",
        "$$z = (x - u) / s$$\n",
        "donde \n",
        "<br>\n",
        "$u$ es la media de las muestras de entrenamiento o cero si `with_mean = False`, \n",
        "<br>\n",
        "$s$ es la desviación estándar de las muestras de entrenamiento o uno si `with_std = False`,\n",
        "<br>\n",
        "Esto lo hacemos con `StandardScaler`\n",
        "<br>   </h2>\n",
        "<h2>\n",
        "<strong> Pregunta:</strong>\n",
        "¿Podremos usar PCA en muestras nuevas?\n",
        "</h2>"
      ]
    },
    {
      "cell_type": "code",
      "metadata": {
        "id": "KB6hp96Q3ZDm"
      },
      "source": [
        "import pandas as pd "
      ],
      "execution_count": null,
      "outputs": []
    },
    {
      "cell_type": "code",
      "metadata": {
        "id": "ayjRGG_O30Aa"
      },
      "source": [
        "# Cada fila representa medidas para un pez individual entre ellas peso (g), \n",
        "# largo (cm), altura (?), cociente entre altura y largo,...\n",
        "fish = pd.read_csv('fish.csv', header = None)\n",
        "display(fish.sample(5))\n",
        "print(\"\")\n",
        "samples = fish.drop(columns=[0])\n",
        "display(samples.sample(5))\n",
        "\n",
        "# Guardamos las especies en una nueva lista\n",
        "especies = fish[0]\n",
        "# especies.value_counts()\n",
        "\n",
        "# datos de http://jse.amstat.org/jse_data_archive.htm"
      ],
      "execution_count": null,
      "outputs": []
    },
    {
      "cell_type": "markdown",
      "metadata": {
        "id": "x_-_vgrkrBQ3"
      },
      "source": [
        "1. estandarizar\n",
        "2. PCA\n",
        "pipeline"
      ]
    },
    {
      "cell_type": "code",
      "metadata": {
        "id": "_Isv-L0leawr"
      },
      "source": [
        "# Importando los paquetes necesario\n",
        "from sklearn.decomposition import PCA\n",
        "from sklearn.preprocessing import StandardScaler\n",
        "from sklearn.pipeline import make_pipeline\n",
        "import matplotlib.pyplot as plt\n",
        "\n",
        "# Estandarizar las características\n",
        "scaler_1 = StandardScaler()\n",
        "\n",
        "# Creamos una instancia de PCA\n",
        "pca_1 = PCA()\n",
        "\n",
        "# Creamos pipeline\n",
        "pipeline_1 = make_pipeline(scaler_1, pca_1)\n",
        "\n",
        "# Ajustamos el pipeline a nuestros datos\n",
        "pipeline_1.fit(samples)\n",
        "\n",
        "# Extraemos el modelo entrenado del pipeline\n",
        "modelo_pca = pipeline_1.named_steps['pca']\n",
        "\n",
        "# Graficamos\n",
        "features = range(pca_1.n_components_)\n",
        "plt.bar(features, pca_1.explained_variance_ratio_)\n",
        "plt.xlabel('Característica de PCA')\n",
        "plt.ylabel('Varianza')\n",
        "plt.xticks(features)\n",
        "plt.show()\n"
      ],
      "execution_count": null,
      "outputs": []
    },
    {
      "cell_type": "code",
      "metadata": {
        "id": "mUepvGy_EaAT"
      },
      "source": [
        "# Se extrae el modelo entrenado del pipeline\n",
        "data = modelo_pca.components_\n",
        "print(data)\n",
        "print(pca_1.explained_variance_ratio_)\n",
        "print(pca_1.explained_variance_ratio_[0]+pca_1.explained_variance_ratio_[1])"
      ],
      "execution_count": null,
      "outputs": []
    },
    {
      "cell_type": "markdown",
      "metadata": {
        "id": "nz_WQhon0hnZ"
      },
      "source": [
        "<div align='justify'>\n",
        "<h2>\n",
        "La dimensión intrínseca de los datos es el número de características de PCA con varianza significativa.\n",
        "<br>\n",
        "<strong> Pregunta:</strong>\n",
        "Según la gráfica anterior sería razonable decir que la dimensión intrínseca del conjunto de datos es ¿1, 2, 3,...?\n",
        "</h2>"
      ]
    },
    {
      "cell_type": "markdown",
      "metadata": {
        "id": "jQo00J57X57w"
      },
      "source": [
        "<div align='justify'>\n",
        "<h2>\n",
        "¿Qué haremos en la siguiente celda de código?\n",
        "<br>\n",
        "Vamos a realizar una reducción de dimensionalidad, para ello necesitamos saber:\n",
        "<br>\n",
        "$\\circ$ ¿Cuántas características de PCA vamos a conservar? por ejemplo la dimensión intrínseca de los datos.\n",
        "</h2>"
      ]
    },
    {
      "cell_type": "code",
      "metadata": {
        "id": "QLqYdf2Wx7Aj"
      },
      "source": [
        "# Importando los paquetes\n",
        "from sklearn.decomposition import PCA\n",
        "\n",
        "# Creamos una instancia de PCA: pca\n",
        "pca_2 = PCA(n_components=2)\n",
        "\n",
        "# Creamos pipeline\n",
        "pipeline_2 = make_pipeline(scaler_1, pca_2)\n",
        "\n",
        "# Ajustamos el pipeline a nuestros datos\n",
        "pipeline_2.fit(samples)\n",
        "\n",
        "# Hallamos las características de PCA\n",
        "pca_2_features = pipeline_2.transform(samples)\n",
        "\n",
        "# imprimimos \n",
        "print(pca_2_features.shape)"
      ],
      "execution_count": null,
      "outputs": []
    },
    {
      "cell_type": "code",
      "metadata": {
        "id": "tCsuXANOcVYZ"
      },
      "source": [
        "# Aquí solo transformamos las categorías especies en categorías numéricas\n",
        "# para usarlas en la siguiente grafica\n",
        "especies_unicas = especies.unique()\n",
        "dic_esp = {especies_unicas[k]:k for k in range(len(especies_unicas))}\n",
        "species = especies.apply(lambda x: dic_esp[x])"
      ],
      "execution_count": null,
      "outputs": []
    },
    {
      "cell_type": "code",
      "metadata": {
        "id": "4SX_h5qxZA22"
      },
      "source": [
        "import matplotlib.pyplot as plt\n",
        "xs = pca_2_features[:,0]\n",
        "ys = pca_2_features[:,1]\n",
        "plt.scatter(xs, ys, c=species)\n",
        "plt.show()"
      ],
      "execution_count": null,
      "outputs": []
    },
    {
      "cell_type": "markdown",
      "metadata": {
        "id": "DEiB6yhaT6h9"
      },
      "source": [
        "<h2> <u>Respecto a los parámetros </u></h2>\n",
        "\n",
        "\n",
        "```\n",
        "sklearn.decomposition.PCA(n_components=None, svd_solver='auto', tol=0.0, iterated_power='auto', random_state=None)\n",
        "```\n",
        "\n",
        "\n",
        "* svd_solver: El método con el que resuelve la descopmosición en valores singulares (SVD)\n",
        "   * auto: Escoge el método basado en X.shape (la forma de nuestros datos) y n_components (número de componentes que queremos mantener, se ve abajo):\n",
        "     * Si los datos son mayores que 500x500 y el número de componentes a extraer es menor que el 80% de la dimensión menor de los datos, entonces usa el método 'randomized'.\n",
        "     * Si no se cumple lo anteriorm entonces se calcula el SVD exacto y se trunca posteriormente.\n",
        "   * full: Calcula el SVD usando scipy.linalg.svd y selecciona las componentes con postprocesamiento.\n",
        "   * arpack: Calcula el SVD truncado a n_components usando el método ARPACK de scipy.sparse.linalg.svds. se requiere que 0 < n_components < min(X.shape)\n",
        "   * randomized: Calcula SVD aleatorizado con el método de Halko...\n",
        "\n",
        "* n_compnents: El número de componentes que se quieren mantener, si no se especifica, todos los componentes se mantienen (n_components == min(n_samples, n_features) - 1).\n",
        "  * n_components == 'mle' y svd_solver == 'full', se usa el estimador de maxima verosimilitud (MLE) de Minka para calcular la dimensión.\n",
        "  * 0 < n_components < 1 y svd_solver == 'full', selecciona el número de componentes tal que la varianza necesaria es mayor que el porcentaje especificado en la variable n_components.\n",
        "  * Si tomamos svd_solver == 'arpack', entonces el número de componentes debe ser estricatament emenor que el mínimo entre el número de características y el número de muestras."
      ]
    },
    {
      "cell_type": "markdown",
      "metadata": {
        "id": "DaNnhaqTq8tK"
      },
      "source": [
        "________________\n",
        "# <center> Agrupamiento ─ Clustering </center>\n",
        "________________"
      ]
    },
    {
      "cell_type": "markdown",
      "metadata": {
        "id": "G2S8As1Rq8-z"
      },
      "source": [
        "<div align='justify'>\n",
        "<h2>\n",
        "$\\circ$ Una vez se han reducido el conjunto de características originales a un conjunto más pequeño y manejable, podemos encontrar patrones interesantes agrupando instancias similares de datos. \n",
        "</h2>\n",
        "<h2>\n",
        "$\\circ$ El objetivo aquí es agrupar datos con base en su similitud: comparar cuán similar es una observación a otras observaciones. No se usan etiquetas.\n",
        "</h2>\n",
        "<h2>\n",
        "$\\circ$ Así un <strong> grupo (cluster) </strong> en este contexto hace referencia a un conjunto de datos con características similares. \n",
        "</h2>\n",
        "<h2>\n",
        "$\\circ$ El agrupamiento (clustering) se puede lograr con una variedad de algoritmos de aprendizaje no supervisados. Exploraremos los algoritmos <em> k-medias (k-means)</em> y <em>agrupamiento jerárquico (hierarchical clustering)</em>.\n",
        "</h2>\n",
        "</div>"
      ]
    },
    {
      "cell_type": "markdown",
      "metadata": {
        "id": "Xjd7Xs1FNJdc"
      },
      "source": [
        "<center> <h2> <u> k-medias ─ k-means </u> </h2> </center>\n"
      ]
    },
    {
      "cell_type": "markdown",
      "metadata": {
        "id": "eHS2rMbRTNRP"
      },
      "source": [
        "<p align=\"center\">\n",
        "<img src=\"https://raw.githubusercontent.com/garestrear/ninja-pythonist/master/NoSupervisado/K-means.png\">\n",
        "</p>\n",
        "\n",
        "\n",
        "<p align=\"center\">\n",
        "<img src=\"https://raw.githubusercontent.com/garestrear/ninja-pythonist/master/NoSupervisado/GraficaInercia.png\">\n",
        "</p>\n"
      ]
    },
    {
      "cell_type": "markdown",
      "metadata": {
        "id": "iLQXBBh_N_Ye"
      },
      "source": [
        "<div align='justify'>\n",
        "<h2>\n",
        "$\\circ$ El agrupamiento k-medias es un método para encontrar grupos y centros de grupos en un conjunto de datos sin etiquetar. Se elige el número deseado de centros de grupos. Dado un conjunto inicial de centros, el algoritmo alterna los pasos: \n",
        "</h2>\n",
        "<h2>\n",
        "1. Para cada centro identificamos el subconjunto de puntos de entrenamiento (su grupo) que están más cerca de él que cualquier otro centro;\n",
        "</h2>\n",
        "<h2>\n",
        "2. Se calcula el centro del grupo así: se calculan las medias de cada característica para los puntos de datos de cada grupo, y este vector de medias se convierte en el nuevo centro de ese grupo.\n",
        "</h2>\n",
        "<h2>\n",
        "Estos dos pasos se repiten hasta la convergencia. Normalmente, los centros iniciales son observaciones elegidas aleatoriamente de los datos de entrenamiento. \n",
        "</h2>\n",
        "<h2>\n",
        "$\\circ$ Diferentes ejecuciones de k-medias darán como resultado asignaciones de grupos ligeramente diferentes pues esta inicialización aleatoria es una fuente de aleatoriedad, lo que resulta en asignaciones de agrupamiento ligeramente diferentes, de una ejecución de k-medias a otra. \n",
        "</h2>\n",
        "\n",
        "<h2>\n",
        "$\\circ$ El valor de k, el número de grupos, es un hiperparámetro que debe ser ajustado por el analista de datos. Existen algunas técnicas para seleccionar k. Ninguno de ellas ha demostrado ser óptima. La mayoría requiere que el analista haga una \"suposición fundamentada\" al observar algunas métricas o al examinar visualmente las asignaciones de grupos.\n",
        "</h2>\n",
        "<h2>\n",
        "$\\circ$ El algoritmo optimiza los grupos minimizando la variación dentro del grupo (también conocida como inercia) de modo que la suma de las variaciones dentro del grupo en todos los k grupos sea lo más pequeña posible:\n",
        "$$\\sum_{i=0}^{n}\\min_{\\mu_j \\in C}(||x_i - \\mu_j||^2)$$\n",
        "$K$ grupos disjuntos $C$, cada uno descrito por la media $\\mu_j$.\n",
        "</h2>\n",
        "<h2>\n",
        "$\\circ$ Un buen agrupamiento busca que no haya muchos grupos y que dentro de cada grupo los datos no estén muy dispersos. Para esto hacemos una gráfica de k's vs inercia, como la última figura.\n",
        "</h2>\n",
        "<h2>\n",
        "$\\circ$ En K-medias la varianza de una característica corresponde a su influencia, por lo tanto debemos transformar las características para que tengan media $0$ y varianza $1$.\n",
        "</h2>"
      ]
    },
    {
      "cell_type": "markdown",
      "metadata": {
        "id": "oT67toSmRlJy"
      },
      "source": [
        "<h2>\n",
        "<strong> Pregunta:</strong>\n",
        "¿Podremos usar KMeans en datos nuevos?\n",
        "<br>\n",
        "<strong> Pregunta:</strong>\n",
        "¿Qué distancias?\n",
        "\n",
        "[¿Qué distancias?](https://stats.stackexchange.com/questions/81481/why-does-k-means-clustering-algorithm-use-only-euclidean-distance-metric)\n",
        "</h2>"
      ]
    },
    {
      "cell_type": "markdown",
      "metadata": {
        "id": "7ISLdnUj5Y04"
      },
      "source": [
        "<div align='justify'>\n",
        "<h2>\n",
        "¿Qué haremos en la siguiente celda de código?\n",
        "<br>\n",
        "Tenemos observaciones de medidas de peces. Cada fila representa un pez individual. Las medidas, como el peso en gramos, la longitud en centímetros y la relación porcentual de altura a longitud, tienen escalas muy diferentes. Para agrupar estos datos de manera eficaz, primero debemos estandarizar estas características para proceder a agrupar los datos. Usaremos un `pipeline` para hacer estos dos pasos.\n",
        "</h2>"
      ]
    },
    {
      "cell_type": "code",
      "metadata": {
        "colab": {
          "base_uri": "https://localhost:8080/"
        },
        "id": "eJK0qzi88kI7",
        "outputId": "1ad2347b-0d51-4335-e865-90a4c6b8118c"
      },
      "source": [
        "# Importando los paquetes\n",
        "from sklearn.pipeline import make_pipeline\n",
        "from sklearn.preprocessing import StandardScaler\n",
        "from sklearn.cluster import KMeans\n",
        "\n",
        "# Estandarizar las características: media 0 y varianza 1\n",
        "scaler_2 = StandardScaler()\n",
        "\n",
        "# Creamos una instancia de kmeans con k=4\n",
        "kmeans = KMeans(n_clusters=4)\n",
        "\n",
        "# Creamos pipeline, primero estandarizamos, luego agrupamos\n",
        "pipeline_3 = make_pipeline(scaler_2, kmeans)\n",
        "\n",
        "# Ajustamos el pipeline a nuestros datos\n",
        "pipeline_3.fit(samples)\n",
        "\n",
        "# Calculamos las etiquetas de los grupos\n",
        "labels = pipeline_3.predict(samples)\n",
        "\n",
        "# Veamos cómo agrupo KMeans\n",
        "labels_2 = pd.Series(labels)\n",
        "print('Así agrupó nuestro algoritmo KMeans')\n",
        "print(labels_2.value_counts())"
      ],
      "execution_count": null,
      "outputs": [
        {
          "output_type": "stream",
          "text": [
            "Así agrupó nuestro algoritmo KMeans\n",
            "2    34\n",
            "0    21\n",
            "1    17\n",
            "3    13\n",
            "dtype: int64\n"
          ],
          "name": "stdout"
        }
      ]
    },
    {
      "cell_type": "code",
      "metadata": {
        "colab": {
          "base_uri": "https://localhost:8080/"
        },
        "id": "57bQkceiLVg3",
        "outputId": "587eafeb-b3df-445d-c169-c02f28f63260"
      },
      "source": [
        "print('REALIDAD')\n",
        "print(especies.value_counts())\n",
        "print('')\n",
        "print('KMeans')\n",
        "print(labels_2.value_counts())\n",
        "\n",
        "# Creamos un DataFrame con las etiquetas y especies como columnas\n",
        "df = pd.DataFrame({'KMeans': labels, 'REALIDAD': especies})\n",
        "print('')\n",
        "# Create crosstab\n",
        "ct = pd.crosstab(df['REALIDAD'], df ['KMeans'])\n",
        "print(\"\")\n",
        "print(ct)"
      ],
      "execution_count": null,
      "outputs": [
        {
          "output_type": "stream",
          "text": [
            "REALIDAD\n",
            "Bream    34\n",
            "Roach    20\n",
            "Pike     17\n",
            "Smelt    14\n",
            "Name: 0, dtype: int64\n",
            "\n",
            "KMeans\n",
            "2    34\n",
            "0    21\n",
            "1    17\n",
            "3    13\n",
            "dtype: int64\n",
            "\n",
            "\n",
            "KMeans     0   1   2   3\n",
            "REALIDAD                \n",
            "Bream      1   0  33   0\n",
            "Pike       0  17   0   0\n",
            "Roach     19   0   1   0\n",
            "Smelt      1   0   0  13\n"
          ],
          "name": "stdout"
        }
      ]
    },
    {
      "cell_type": "markdown",
      "metadata": {
        "id": "Mk1wxKEH8Hhp"
      },
      "source": [
        "<div align='justify'>\n",
        "<h2>\n",
        "¿Qué haremos en la siguiente celda de código?\n",
        "<br>\n",
        "Recordemos que en un buen agrupamiento las observaciones dentro de cada grupo no están dispersas y que medimos cuan dispersas están las observaciones dentro de cada grupo por medio de la \"inercia\". \n",
        "<br>\n",
        "La inercia de un modelo KMeans es medida automáticamente cuando el método `fit` es usado y está disponible como un atributo.\n",
        "</h2>"
      ]
    },
    {
      "cell_type": "code",
      "metadata": {
        "colab": {
          "base_uri": "https://localhost:8080/",
          "height": 308
        },
        "id": "2CnZV-3ORqNm",
        "outputId": "d25ac1e0-c3db-4474-8ac7-8441f9e3b5c3"
      },
      "source": [
        "# Diferentes valores de k, desde 1 hasta 5\n",
        "ks = range(1,6)\n",
        "\n",
        "# En la lista inercia guardaremos la inercia para cada valor de k\n",
        "inercias = []\n",
        "\n",
        "for k in ks:\n",
        "  # Creamos una instancia de KMeans con k clusters\n",
        "  model = KMeans(n_clusters = k)\n",
        "\n",
        "  # Ajustamos el modelo a los datos\n",
        "  model.fit(samples)\n",
        "  \n",
        "  # Guardamos la inercia en la lista inercias\n",
        "  inercias.append(model.inertia_)\n",
        "\n",
        "# Grafica de ks vs inercias\n",
        "plt.plot(ks, inercias, '-o')\n",
        "plt.xlabel('número de grupos, k') \n",
        "plt.ylabel('inercia')\n",
        "plt.xticks(ks)\n",
        "plt.show()\n",
        "\n",
        "print(inercias)"
      ],
      "execution_count": null,
      "outputs": [
        {
          "output_type": "display_data",
          "data": {
            "image/png": "[encoded data removed]",
            "text/plain": [
              "<Figure size 432x288 with 1 Axes>"
            ]
          },
          "metadata": {
            "tags": [],
            "needs_background": "light"
          }
        },
        {
          "output_type": "stream",
          "text": [
            "[12236483.035294117, 4415811.592684728, 1923693.8383257918, 920717.9972610723, 527667.6159730295]\n"
          ],
          "name": "stdout"
        }
      ]
    },
    {
      "cell_type": "markdown",
      "metadata": {
        "id": "4L-K_0CtqKa3"
      },
      "source": [
        "<center> <h3><u> Hiperparámetros </u> </h3></center>\n",
        "\n",
        "```\n",
        "class sklearn.cluster.KMeans(n_clusters=8, init='k-means++', \n",
        "n_init=10, max_iter=300, tol=0.0001, precompute_distances='auto',\n",
        "verbose=0, random_state=None, copy_x=True, n_jobs=None, algorithm='auto')\n",
        "```\n",
        "<div align='justify'>\n",
        "<h2>\n",
        "<strong>random_state</strong>: \n",
        "Esto está estableciendo una semilla aleatoria. Es útil si queremos reproducir clústeres exactos una y otra vez. Podemos configurarlo en cualquier número que queramos.\n",
        "<br>\n",
        "<strong>n_clusters</strong>:\n",
        "Necesitamos proporcionar al algoritmo la cantidad de grupos que queremos. La literatura estándar sugiere que usemos el método del codo para determinar cuántos grupos necesitamos.\n",
        "<br>\n",
        "<strong>init</strong>:\n",
        "Aquí es donde puede establecer los centroides iniciales.\n",
        "<br>\n",
        "<strong>n_init</strong>: Por defecto es 10, por lo que el algoritmo inicializará los centroides 10 veces y seleccionará el valor más convergente como el mejor ajuste.\n",
        "<br>\n",
        "<strong>tol</strong>: Si establecemos esto en un valor más alto, entonces implica que estamos dispuestos a tolerar un cambio mayor en la inercia, antes de declarar la convergencia (algo así como qué tan rápido estamos convergiendo). Entonces, si el cambio de inercia es menor que el valor especificado por tol, entonces el algoritmo dejará de iterar y declarará convergencia incluso si ha completado menos de max_iter rondas. Manténgalo en un valor bajo para escanear todo el espacio de funciones.\n",
        "<br>\n",
        "<strong>max_iter</strong>: Hay n_init ejecuciones en general y cada ejecución itera max_iter veces.\n",
        "<br>\n",
        "Los demás hiperparámetros son sobre la eficiencia computacional, por lo que si tiene un conjunto de datos muy grande, sería mejor que los mantuviera en los valores predeterminados.\n",
        "</div>"
      ]
    },
    {
      "cell_type": "markdown",
      "metadata": {
        "id": "tS6Ad73ZNzOw"
      },
      "source": [
        "<center> <h2> <u>Agrupamiento jerárquico ─ Hierarchical clustering</u></h2></center>"
      ]
    },
    {
      "cell_type": "markdown",
      "metadata": {
        "id": "5VfKosF4mNDW"
      },
      "source": [
        "<div align='justify'>\n",
        "<h2>\n",
        "Una posible desventaja de la agrupación de K-medias es que requiere que pre-especifiquemos el número de agrupaciones K. La agrupación jerárquica es un enfoque alternativo que no requiere que nos comprometamos con una elección particular de K. La agrupación jerárquica tiene una ventaja adicional sobre K-medias porque da como resultado una representación atractiva de las observaciones basada en árboles, llamada dendrograma. \n",
        "</h2>\n"
      ]
    },
    {
      "cell_type": "markdown",
      "metadata": {
        "id": "RFBWILj7mdbG"
      },
      "source": [
        "<p align=\"center\">\n",
        "<img src=\"https://raw.githubusercontent.com/garestrear/ninja-pythonist/master/NoSupervisado/agrupamiento_jerarquico_aglomerativo.png\">\n",
        "</p>"
      ]
    },
    {
      "cell_type": "markdown",
      "metadata": {
        "id": "ulKu7a7yOAIO"
      },
      "source": [
        "<div align='justify'>\n",
        "<h2>\n",
        "$\\circ$ Los métodos de agrupamiento jerárquico producen representaciones jerárquicas en las que los grupos en cada nivel de la jerarquía se crean fusionando grupos en el siguiente nivel inferior. En el nivel más bajo, cada grupo contiene una única observación. En el nivel más alto, solo hay un grupo que contiene todos los datos.\n",
        "</h2>\n",
        "\n",
        "<h2>\n",
        "$\\circ$ Las estrategias para la agrupación jerárquica se dividen en dos paradigmas básicos: aglomerativo (de abajo hacia arriba) y divisivo (de arriba hacia abajo). Nos centraremos en agrupamiento aglomerativo.\n",
        "</h2>\n",
        "\n",
        "\n",
        "<h2>\n",
        "$\\circ$ Los algoritmos de agrupamiento aglomerativo comienzan con cada observación representado un grupo único. En cada uno de los N-1 pasos, los dos grupos más cercanos (menos disímiles) se fusionan en un solo grupo, produciendo un grupo menos en el siguiente nivel. Por lo tanto, se debe definir una medida de disimilitud entre dos grupos de observaciones. \n",
        "</h2>\n",
        "\n"
      ]
    },
    {
      "cell_type": "markdown",
      "metadata": {
        "id": "wb-oZ-ou1C9t"
      },
      "source": [
        "<center> <h3><u> Agrupamiento aglomerativo </u> </h3></center>"
      ]
    },
    {
      "cell_type": "code",
      "metadata": {
        "id": "5oh1_H_IYbYy",
        "cellView": "form"
      },
      "source": [
        "#@title Cargamos los datos en esta celda, pero los ocultamos \n",
        "# Nuestros datos son sobre granos (contiene medidas como área, perímetro, \n",
        "# longitud y varias otras) de muestras de grano\n",
        "# https://archive.ics.uci.edu/ml/datasets/seeds\n",
        "grains = pd.read_csv('grains.csv', header = None)\n",
        "grains = grains.drop(columns=[7])\n",
        "\n",
        "# Creamos una lista que contiene cada fila de grain como una lista\n",
        "ar = [list(grains.iloc[k].values) for k in range(len(grains))]\n",
        "\n",
        "#  La lista de varieties contiene la variedad de cada muestra de grano\n",
        "varieties = pd.read_csv('varieties.csv', header = None)\n",
        "varieties = varieties.drop(columns=[1])\n",
        "\n",
        "# Creamos una lista conteniendo el nombre de las variedad de cada observación\n",
        "var = list(varieties[0])"
      ],
      "execution_count": null,
      "outputs": []
    },
    {
      "cell_type": "code",
      "metadata": {
        "colab": {
          "base_uri": "https://localhost:8080/",
          "height": 481
        },
        "id": "MWfGO9eujKCM",
        "outputId": "6c1f5a5a-89d6-424d-c0ac-400929b4e002"
      },
      "source": [
        "# Importamos los paquetes necesarios\n",
        "from scipy.cluster.hierarchy import linkage, dendrogram\n",
        "import matplotlib.pyplot as plt\n",
        "\n",
        "# Creamos una instancia de fig para que se vea mejor el dendrograma\n",
        "fig = plt.subplots(1,1, figsize=(27,7))\n",
        "\n",
        "# Calculamos el enlace: mergings\n",
        "mergings = linkage(ar, method = 'complete')\n",
        "\n",
        "# Graficamos el dendrograma usando las variedades como etiquetas\n",
        "dendrogram(mergings, labels=var, leaf_rotation=90, leaf_font_size=10)\n",
        "\n",
        "plt.show()"
      ],
      "execution_count": null,
      "outputs": [
        {
          "output_type": "display_data",
          "data": {
            "image/png": "[encoded data removed]",
            "text/plain": [
              "<Figure size 1944x504 with 1 Axes>"
            ]
          },
          "metadata": {
            "tags": [],
            "needs_background": "light"
          }
        }
      ]
    },
    {
      "cell_type": "markdown",
      "metadata": {
        "id": "uWOeEljwwt1n"
      },
      "source": [
        "<div align='justify'>\n",
        "<h2>\n",
        "<strong>Pregunta</strong>:¿para qué servirán los numeritos del eje \"y\"?\n",
        "</div>"
      ]
    },
    {
      "cell_type": "code",
      "metadata": {
        "id": "SarO-eNgcoN4"
      },
      "source": [
        "linkage?"
      ],
      "execution_count": null,
      "outputs": []
    },
    {
      "cell_type": "markdown",
      "metadata": {
        "id": "MBQ626Z2ivfx"
      },
      "source": [
        "<div align='justify'>\n",
        "<h2>\n",
        "<strong>method</strong>: es la forma en que se calcula la distancia entre grupos \n",
        "<br>\n",
        "<strong>metric</strong>: métrica usada en method\n",
        "<br>\n",
        "<strong>optimal_ordering</strong>: Si True, la matriz de enlace se reordenará para que la distancia entre hojas sucesivas sea mínima. Esto da como resultado una estructura de árbol más intuitiva cuando se visualizan los datos. por defecto es Falso, porque este algoritmo puede ser lento, particularmente en grandes conjuntos de datos.\n",
        "</h2>"
      ]
    },
    {
      "cell_type": "markdown",
      "metadata": {
        "id": "i09m-Yq8g7l4"
      },
      "source": [
        "![clusterjerarquico.png](data:image/png;base64,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)"
      ]
    },
    {
      "cell_type": "markdown",
      "metadata": {
        "id": "O9sHE3ZEoou1"
      },
      "source": [
        "<div align='justify'>\n",
        "<h2>\n",
        "El agrupamiento jerárquico no es solo una herramienta visual. Podemos extraer  los agrupamientos en estados intermedios del agrupamiento jerárquico. Las etiquetas de estos grupos intermedios pueden ser usados en otros cálculos.\n",
        "<br>\n",
        "Un estado intermedio de un agrupamiento en este caso es especificado al escoger una altura en el dendograma. El eje y del dendrograma codifica la distancia entre grupos fusionados y la distancia entre grupos está definida por un método \"linkage method\".\n",
        "<br>\n",
        "`complete linkage method`: la distancia entre los grupos es  la máxima distancia entre sus observaciones.\n",
        "<br>\n",
        "Diferentes `linkage methodes` producen diferentes  agrupamientos jerárquicos\n",
        "</h2>"
      ]
    },
    {
      "cell_type": "markdown",
      "metadata": {
        "id": "PhTwcpp1r0Q8"
      },
      "source": [
        "<p align=\"center\">\n",
        "<img src=\"https://raw.githubusercontent.com/garestrear/ninja-pythonist/master/\n",
        "NoSupervisado/linkage_methods.png\">\n",
        "</p>\n",
        "\n",
        "\n"
      ]
    },
    {
      "cell_type": "markdown",
      "metadata": {
        "id": "Wxmg0aWMpKAH"
      },
      "source": [
        "<div align='justify'>\n",
        "<h2>\n",
        "<strong>Pregunta</strong>:¿Creen que es buena idea estandarizar antes? ¿Qué tal si los datos son...?\n",
        "<br>\n",
        "<strong>Pregunta</strong>:¿Qué tipo de metódo se debe utilizar?\n",
        "<br>\n",
        "<strong>Pregunta</strong>:¿Qué tipo de métrica se debe utilizar?\n",
        "<br>\n",
        "</h2>\n",
        "</div>"
      ]
    },
    {
      "cell_type": "markdown",
      "metadata": {
        "id": "pZEf_-tIsEKF"
      },
      "source": [
        "<div align='justify'>\n",
        "<h2>\n",
        "Las etiquetas de grupos  para cualquier estado intermedio en el agrupamiento jerárquico pueden ser extraídas usando la función `fcluster()` la cuál devuelve un arreglo en numpy de las etiquetas de los grupos.\n",
        "</h2>"
      ]
    },
    {
      "cell_type": "code",
      "metadata": {
        "colab": {
          "base_uri": "https://localhost:8080/"
        },
        "id": "trhoohpmN8jW",
        "outputId": "8d081f70-74a0-4480-9f9d-13898263398e"
      },
      "source": [
        "# Importando los paquetes necesarios\n",
        "from scipy.cluster.hierarchy import linkage, dendrogram, fcluster\n",
        "\n",
        "# Usando fcluster para extraer las etiquetas\n",
        "labels_3 = fcluster(mergings, 6, criterion = 'distance')\n",
        "\n",
        "# Creando df con  etiquetas y variedades como columnas\n",
        "df2 = pd.DataFrame({'etiquetas':labels_3, 'variedades': var})\n",
        "\n",
        "# Creando crosstab\n",
        "ct2 = pd.crosstab(df2['etiquetas'], df2['variedades'])\n",
        "\n",
        "#mostrando ct2\n",
        "print(ct2)"
      ],
      "execution_count": null,
      "outputs": [
        {
          "output_type": "stream",
          "text": [
            "variedades  Canadian wheat  Kama wheat  Rosa wheat\n",
            "etiquetas                                         \n",
            "1                       14           3           0\n",
            "2                        0           0          14\n",
            "3                        0          11           0\n"
          ],
          "name": "stdout"
        }
      ]
    },
    {
      "cell_type": "markdown",
      "metadata": {
        "id": "w0uouAVPppZ4"
      },
      "source": [
        "<div align='justify'>\n",
        "<h2>\n",
        "<strong>Conclusiones, observaciones, preguntas...</strong>\n",
        "<br>\n",
        "<u>Ventajas de la agrupación jerárquica</u>\n",
        "<ul>\n",
        "<li><h2>No es necesario especificar el número de grupos antes del análisis.</h2></li>\n",
        "<li><h2>El dendrograma brinda una representación visual de los grupos que es informativa y proporciona información sobre las observaciones y los grupos.</li>\n",
        "</h2></ul>\n",
        "<br>\n",
        "<u><h2>Desventajas de la agrupación jerárquica</h2></u>\n",
        "<ul>\n",
        "<li><h2>Complejidad computacional $O(n^2 logn)$ donde n es el número de observaciones. Traducción: es difícil realizar agrupaciones jerárquicas en grandes conjuntos de datos.</h2></li>\n",
        "</ul>\n",
        "<br>\n",
        "<u><h2>Ventajas de la agrupación KMedias</h2></u>\n",
        "<ul>\n",
        "<li><h2>Computacionalmente rápido y, por lo tanto, podemos analizar conjuntos de datos más grandes.</h2></li>\n",
        "<li><h2>El dendrograma brinda una representación visual de los grupos que es informativa y proporciona información sobre las observaciones y los grupos.<h2></li>\n",
        "</ul>\n",
        "<u><h2>Desventaja de la agrupación Kmedias</h2></u>\n",
        "<ul>\n",
        "<li><h2>Es necesario especificar el número de grupos antes del análisis.</h2></li>\n",
        "<u><h2>Pregunta:</h2></u>\n",
        "<h2>¿Se podrá usar agrupación jerárquica en nuevos datos como KMeans?</h2>\n",
        "\n",
        "\n",
        "<h2>En sklearn también hay clustering jerárquico.</h2>"
      ]
    }
  ]
}