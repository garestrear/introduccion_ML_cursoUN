{
  "nbformat": 4,
  "nbformat_minor": 0,
  "metadata": {
    "colab": {
      "name": "Pandas_UNAL.ipynb",
      "provenance": [],
      "authorship_tag": "ABX9TyN4J9e8KQg8Sip/vBsvbSug",
      "include_colab_link": true
    },
    "kernelspec": {
      "name": "python3",
      "display_name": "Python 3"
    },
    "language_info": {
      "name": "python"
    }
  },
  "cells": [
    {
      "cell_type": "markdown",
      "metadata": {
        "id": "view-in-github",
        "colab_type": "text"
      },
      "source": [
        "<a href=\"https://colab.research.google.com/github/garestrear/introduccion_ML_cursoUN/blob/main/Sesion2_Pandas.ipynb\" target=\"_parent\"><img src=\"https://colab.research.google.com/assets/colab-badge.svg\" alt=\"Open In Colab\"/></a>"
      ]
    },
    {
      "cell_type": "code",
      "metadata": {
        "colab": {
          "base_uri": "https://localhost:8080/"
        },
        "id": "h687lBDyVHgZ",
        "outputId": "ef89cfb3-727c-4426-cb65-4a70b51cc6eb"
      },
      "source": [
        "from urllib.request import urlretrieve\n",
        "url = 'https://ndownloader.figshare.com/files/2292172'\n",
        "urlretrieve(url, 'surveys.csv')\n"
      ],
      "execution_count": null,
      "outputs": [
        {
          "output_type": "execute_result",
          "data": {
            "text/plain": [
              "('surveys.csv', <http.client.HTTPMessage at 0x7f18a5c32e50>)"
            ]
          },
          "metadata": {
            "tags": []
          },
          "execution_count": 1
        }
      ]
    },
    {
      "cell_type": "markdown",
      "metadata": {
        "id": "YIsHV1XDsPU_"
      },
      "source": [
        "# **¡¡Bienvenidos!!**\n",
        "\n",
        "\n",
        "En esta primera sesión vamos a aprender:\n",
        "\n",
        "\n",
        "*   DataFrames.\n",
        "*   Manejo de bases de datos.\n",
        "*   Herramientas descriptivas de bases de datos.\n",
        "*   Limpieza y preparación de bases de datos para análisis más elaborados.\n",
        "\n",
        "Para desarrollar todo esto haremos uso de la biblioteca de Python llamada Pandas.\n",
        "\n",
        "**Pandas** es una librería (biblioteca) de Python para el análisis y la manipulación de conjuntos de datos. Con Pandas podemos estructurar las bases de datos para tener un manejo más rápido y más claro de los datos.\n",
        "\n",
        "Su nombre se deriva del término \"*panel data*\" usado en econometría para conjuntos de datos que incluyen observaciones sobre múltiples periodos de tiempo para los mismos individuos.\n",
        "\n",
        "La herramienta más importante en el manejo de bases de datos usando **Pandas** es el uso de los **DataFrames**. Primero nos familizaremos con esta nueva estructura para así poder usar sus propiedades.\n",
        "\n"
      ]
    },
    {
      "cell_type": "markdown",
      "metadata": {
        "id": "vOFaHxBos8XD"
      },
      "source": [
        "# **1. Lo primero: ¿Qué es un DataFrame?**\n",
        "![alt text](https://media.geeksforgeeks.org/wp-content/uploads/finallpandas.png)\n",
        "\n",
        "Un **DataFrame** es una estructura de datos de dos dimensiones (filas y columnas) indexadas, parecidos a una tabla, una matriz o una hoja de cálculo de excel.\n",
        "\n",
        "Las filas están indexadas con números naturales. Por ejemplo, en el **DataFrame** tenemos que las filas están indexadas desde el 0 hasta el 6 y las columnas están indexadas desde el 0 hasta el 4 (por qué?).\n",
        "\n",
        "Las columnas también estarán indexadas por el nombre de la respectiva columna, por ejemplo, con los nombres *Name*, *Team*, *Number*...\n",
        "Y los elementos dentro del **DataFrame** son los datos."
      ]
    },
    {
      "cell_type": "markdown",
      "metadata": {
        "id": "Ojc9uEsXyjZr"
      },
      "source": [
        "# **2. ¡A la carga!**\n",
        "Vamos a cargar nuestra primera (y no la última) base de datos. Para esto debemos hacer lo siguiente (casi siempre):\n",
        "\n",
        "\n",
        "1.   Cargar nuestra biblioteca **Pandas**.\n",
        "2.   Cargar nuestra base de datos usando el siguiente comando: ``` pd.read_csv(\"name.csv\") ```\n",
        "\n",
        "En este caso vamos a cargar una base de datos que está en formato csv (*comma-separated values*). En este tipo de archivo de texto cada línea es una fila del **DataFrame** y cada dato está separado de otro dato por una coma.\n",
        "\n",
        "\n"
      ]
    },
    {
      "cell_type": "code",
      "metadata": {
        "id": "FgJc6go7sJVZ"
      },
      "source": [
        "import pandas as pd"
      ],
      "execution_count": null,
      "outputs": []
    },
    {
      "cell_type": "code",
      "metadata": {
        "id": "9yCbU6Hm0oP6"
      },
      "source": [
        "primer_df = pd.read_csv(\"surveys.csv\")\n",
        "#primer_df.to_excel(\"nuevabase.xlsx\")"
      ],
      "execution_count": null,
      "outputs": []
    },
    {
      "cell_type": "markdown",
      "metadata": {
        "id": "88el9VM41f7z"
      },
      "source": [
        "Listo! Así de fácil cargamos nuestra primera base de datos. Para visualizarla solo debemos escribir el nombre de la variable donde guardamos nuestra base de datos:\n",
        "```\n",
        "primer_df\n",
        "```\n"
      ]
    },
    {
      "cell_type": "code",
      "metadata": {
        "colab": {
          "base_uri": "https://localhost:8080/",
          "height": 402
        },
        "id": "4hVUpKv31zuz",
        "outputId": "17ab7e2d-94fc-4bae-af2d-b014ef084b77"
      },
      "source": [
        "primer_df"
      ],
      "execution_count": null,
      "outputs": [
        {
          "output_type": "execute_result",
          "data": {
            "text/html": [
              "<div>\n",
              "<style scoped>\n",
              "    .dataframe tbody tr th:only-of-type {\n",
              "        vertical-align: middle;\n",
              "    }\n",
              "\n",
              "    .dataframe tbody tr th {\n",
              "        vertical-align: top;\n",
              "    }\n",
              "\n",
              "    .dataframe thead th {\n",
              "        text-align: right;\n",
              "    }\n",
              "</style>\n",
              "<table border=\"1\" class=\"dataframe\">\n",
              "  <thead>\n",
              "    <tr style=\"text-align: right;\">\n",
              "      <th></th>\n",
              "      <th>record_id</th>\n",
              "      <th>month</th>\n",
              "      <th>day</th>\n",
              "      <th>year</th>\n",
              "      <th>plot_id</th>\n",
              "      <th>species_id</th>\n",
              "      <th>sex</th>\n",
              "      <th>hindfoot_length</th>\n",
              "      <th>weight</th>\n",
              "    </tr>\n",
              "  </thead>\n",
              "  <tbody>\n",
              "    <tr>\n",
              "      <th>0</th>\n",
              "      <td>1</td>\n",
              "      <td>7</td>\n",
              "      <td>16</td>\n",
              "      <td>1977</td>\n",
              "      <td>2</td>\n",
              "      <td>NL</td>\n",
              "      <td>M</td>\n",
              "      <td>32.0</td>\n",
              "      <td>NaN</td>\n",
              "    </tr>\n",
              "    <tr>\n",
              "      <th>1</th>\n",
              "      <td>2</td>\n",
              "      <td>7</td>\n",
              "      <td>16</td>\n",
              "      <td>1977</td>\n",
              "      <td>3</td>\n",
              "      <td>NL</td>\n",
              "      <td>M</td>\n",
              "      <td>33.0</td>\n",
              "      <td>NaN</td>\n",
              "    </tr>\n",
              "    <tr>\n",
              "      <th>2</th>\n",
              "      <td>3</td>\n",
              "      <td>7</td>\n",
              "      <td>16</td>\n",
              "      <td>1977</td>\n",
              "      <td>2</td>\n",
              "      <td>DM</td>\n",
              "      <td>F</td>\n",
              "      <td>37.0</td>\n",
              "      <td>NaN</td>\n",
              "    </tr>\n",
              "    <tr>\n",
              "      <th>3</th>\n",
              "      <td>4</td>\n",
              "      <td>7</td>\n",
              "      <td>16</td>\n",
              "      <td>1977</td>\n",
              "      <td>7</td>\n",
              "      <td>DM</td>\n",
              "      <td>M</td>\n",
              "      <td>36.0</td>\n",
              "      <td>NaN</td>\n",
              "    </tr>\n",
              "    <tr>\n",
              "      <th>4</th>\n",
              "      <td>5</td>\n",
              "      <td>7</td>\n",
              "      <td>16</td>\n",
              "      <td>1977</td>\n",
              "      <td>3</td>\n",
              "      <td>DM</td>\n",
              "      <td>M</td>\n",
              "      <td>35.0</td>\n",
              "      <td>NaN</td>\n",
              "    </tr>\n",
              "    <tr>\n",
              "      <th>...</th>\n",
              "      <td>...</td>\n",
              "      <td>...</td>\n",
              "      <td>...</td>\n",
              "      <td>...</td>\n",
              "      <td>...</td>\n",
              "      <td>...</td>\n",
              "      <td>...</td>\n",
              "      <td>...</td>\n",
              "      <td>...</td>\n",
              "    </tr>\n",
              "    <tr>\n",
              "      <th>35544</th>\n",
              "      <td>35545</td>\n",
              "      <td>12</td>\n",
              "      <td>31</td>\n",
              "      <td>2002</td>\n",
              "      <td>15</td>\n",
              "      <td>AH</td>\n",
              "      <td>NaN</td>\n",
              "      <td>NaN</td>\n",
              "      <td>NaN</td>\n",
              "    </tr>\n",
              "    <tr>\n",
              "      <th>35545</th>\n",
              "      <td>35546</td>\n",
              "      <td>12</td>\n",
              "      <td>31</td>\n",
              "      <td>2002</td>\n",
              "      <td>15</td>\n",
              "      <td>AH</td>\n",
              "      <td>NaN</td>\n",
              "      <td>NaN</td>\n",
              "      <td>NaN</td>\n",
              "    </tr>\n",
              "    <tr>\n",
              "      <th>35546</th>\n",
              "      <td>35547</td>\n",
              "      <td>12</td>\n",
              "      <td>31</td>\n",
              "      <td>2002</td>\n",
              "      <td>10</td>\n",
              "      <td>RM</td>\n",
              "      <td>F</td>\n",
              "      <td>15.0</td>\n",
              "      <td>14.0</td>\n",
              "    </tr>\n",
              "    <tr>\n",
              "      <th>35547</th>\n",
              "      <td>35548</td>\n",
              "      <td>12</td>\n",
              "      <td>31</td>\n",
              "      <td>2002</td>\n",
              "      <td>7</td>\n",
              "      <td>DO</td>\n",
              "      <td>M</td>\n",
              "      <td>36.0</td>\n",
              "      <td>51.0</td>\n",
              "    </tr>\n",
              "    <tr>\n",
              "      <th>35548</th>\n",
              "      <td>35549</td>\n",
              "      <td>12</td>\n",
              "      <td>31</td>\n",
              "      <td>2002</td>\n",
              "      <td>5</td>\n",
              "      <td>NaN</td>\n",
              "      <td>NaN</td>\n",
              "      <td>NaN</td>\n",
              "      <td>NaN</td>\n",
              "    </tr>\n",
              "  </tbody>\n",
              "</table>\n",
              "<p>35549 rows × 9 columns</p>\n",
              "</div>"
            ],
            "text/plain": [
              "       record_id  month  day  year  ...  species_id  sex hindfoot_length  weight\n",
              "0              1      7   16  1977  ...          NL    M            32.0     NaN\n",
              "1              2      7   16  1977  ...          NL    M            33.0     NaN\n",
              "2              3      7   16  1977  ...          DM    F            37.0     NaN\n",
              "3              4      7   16  1977  ...          DM    M            36.0     NaN\n",
              "4              5      7   16  1977  ...          DM    M            35.0     NaN\n",
              "...          ...    ...  ...   ...  ...         ...  ...             ...     ...\n",
              "35544      35545     12   31  2002  ...          AH  NaN             NaN     NaN\n",
              "35545      35546     12   31  2002  ...          AH  NaN             NaN     NaN\n",
              "35546      35547     12   31  2002  ...          RM    F            15.0    14.0\n",
              "35547      35548     12   31  2002  ...          DO    M            36.0    51.0\n",
              "35548      35549     12   31  2002  ...         NaN  NaN             NaN     NaN\n",
              "\n",
              "[35549 rows x 9 columns]"
            ]
          },
          "metadata": {
            "tags": []
          },
          "execution_count": 4
        }
      ]
    },
    {
      "cell_type": "markdown",
      "metadata": {
        "id": "3Z2TOa8_22zl"
      },
      "source": [
        "En caso de que tengamos nuestros datos en una hoja de **excel** podemos cargarlos usando el siguiente comando:\n",
        "\n",
        "``` excel_df = pd.read_excel(\"name.xlsx\", sheet_name = \"nombre_hoja\")```\n",
        "\n",
        "Para más información los invitamos a consultar la documentación de **Pandas** para leer archivos de excel: [por ejemplo aquí.](https://pandas.pydata.org/docs/reference/api/pandas.read_excel.html)"
      ]
    },
    {
      "cell_type": "markdown",
      "metadata": {
        "id": "jDTGpoRE2BFk"
      },
      "source": [
        "En este caso Python nos muestra las primeras 5 filas y las últimas 5 filas. También podemos escribir los siguientes comandos:\n",
        "* ``` primer_df.head(6) ```\n",
        "* ``` primer_df.tail(6) ```\n",
        "* ``` primer_df.sample(7) ```\n",
        "\n",
        "¿Qué resultado obtuviste?"
      ]
    },
    {
      "cell_type": "code",
      "metadata": {
        "colab": {
          "base_uri": "https://localhost:8080/",
          "height": 284
        },
        "id": "V8_qCPfB2rUm",
        "outputId": "71646afb-f791-4e2c-d20d-b828b3dd9d55"
      },
      "source": [
        "primer_df.head(8)"
      ],
      "execution_count": null,
      "outputs": [
        {
          "output_type": "execute_result",
          "data": {
            "text/html": [
              "<div>\n",
              "<style scoped>\n",
              "    .dataframe tbody tr th:only-of-type {\n",
              "        vertical-align: middle;\n",
              "    }\n",
              "\n",
              "    .dataframe tbody tr th {\n",
              "        vertical-align: top;\n",
              "    }\n",
              "\n",
              "    .dataframe thead th {\n",
              "        text-align: right;\n",
              "    }\n",
              "</style>\n",
              "<table border=\"1\" class=\"dataframe\">\n",
              "  <thead>\n",
              "    <tr style=\"text-align: right;\">\n",
              "      <th></th>\n",
              "      <th>record_id</th>\n",
              "      <th>month</th>\n",
              "      <th>day</th>\n",
              "      <th>year</th>\n",
              "      <th>plot_id</th>\n",
              "      <th>species_id</th>\n",
              "      <th>sex</th>\n",
              "      <th>hindfoot_length</th>\n",
              "      <th>weight</th>\n",
              "    </tr>\n",
              "  </thead>\n",
              "  <tbody>\n",
              "    <tr>\n",
              "      <th>0</th>\n",
              "      <td>1</td>\n",
              "      <td>7</td>\n",
              "      <td>16</td>\n",
              "      <td>1977</td>\n",
              "      <td>2</td>\n",
              "      <td>NL</td>\n",
              "      <td>M</td>\n",
              "      <td>32.0</td>\n",
              "      <td>NaN</td>\n",
              "    </tr>\n",
              "    <tr>\n",
              "      <th>1</th>\n",
              "      <td>2</td>\n",
              "      <td>7</td>\n",
              "      <td>16</td>\n",
              "      <td>1977</td>\n",
              "      <td>3</td>\n",
              "      <td>NL</td>\n",
              "      <td>M</td>\n",
              "      <td>33.0</td>\n",
              "      <td>NaN</td>\n",
              "    </tr>\n",
              "    <tr>\n",
              "      <th>2</th>\n",
              "      <td>3</td>\n",
              "      <td>7</td>\n",
              "      <td>16</td>\n",
              "      <td>1977</td>\n",
              "      <td>2</td>\n",
              "      <td>DM</td>\n",
              "      <td>F</td>\n",
              "      <td>37.0</td>\n",
              "      <td>NaN</td>\n",
              "    </tr>\n",
              "    <tr>\n",
              "      <th>3</th>\n",
              "      <td>4</td>\n",
              "      <td>7</td>\n",
              "      <td>16</td>\n",
              "      <td>1977</td>\n",
              "      <td>7</td>\n",
              "      <td>DM</td>\n",
              "      <td>M</td>\n",
              "      <td>36.0</td>\n",
              "      <td>NaN</td>\n",
              "    </tr>\n",
              "    <tr>\n",
              "      <th>4</th>\n",
              "      <td>5</td>\n",
              "      <td>7</td>\n",
              "      <td>16</td>\n",
              "      <td>1977</td>\n",
              "      <td>3</td>\n",
              "      <td>DM</td>\n",
              "      <td>M</td>\n",
              "      <td>35.0</td>\n",
              "      <td>NaN</td>\n",
              "    </tr>\n",
              "    <tr>\n",
              "      <th>5</th>\n",
              "      <td>6</td>\n",
              "      <td>7</td>\n",
              "      <td>16</td>\n",
              "      <td>1977</td>\n",
              "      <td>1</td>\n",
              "      <td>PF</td>\n",
              "      <td>M</td>\n",
              "      <td>14.0</td>\n",
              "      <td>NaN</td>\n",
              "    </tr>\n",
              "    <tr>\n",
              "      <th>6</th>\n",
              "      <td>7</td>\n",
              "      <td>7</td>\n",
              "      <td>16</td>\n",
              "      <td>1977</td>\n",
              "      <td>2</td>\n",
              "      <td>PE</td>\n",
              "      <td>F</td>\n",
              "      <td>NaN</td>\n",
              "      <td>NaN</td>\n",
              "    </tr>\n",
              "    <tr>\n",
              "      <th>7</th>\n",
              "      <td>8</td>\n",
              "      <td>7</td>\n",
              "      <td>16</td>\n",
              "      <td>1977</td>\n",
              "      <td>1</td>\n",
              "      <td>DM</td>\n",
              "      <td>M</td>\n",
              "      <td>37.0</td>\n",
              "      <td>NaN</td>\n",
              "    </tr>\n",
              "  </tbody>\n",
              "</table>\n",
              "</div>"
            ],
            "text/plain": [
              "   record_id  month  day  year  plot_id species_id sex  hindfoot_length  weight\n",
              "0          1      7   16  1977        2         NL   M             32.0     NaN\n",
              "1          2      7   16  1977        3         NL   M             33.0     NaN\n",
              "2          3      7   16  1977        2         DM   F             37.0     NaN\n",
              "3          4      7   16  1977        7         DM   M             36.0     NaN\n",
              "4          5      7   16  1977        3         DM   M             35.0     NaN\n",
              "5          6      7   16  1977        1         PF   M             14.0     NaN\n",
              "6          7      7   16  1977        2         PE   F              NaN     NaN\n",
              "7          8      7   16  1977        1         DM   M             37.0     NaN"
            ]
          },
          "metadata": {
            "tags": []
          },
          "execution_count": 12
        }
      ]
    },
    {
      "cell_type": "code",
      "metadata": {
        "colab": {
          "base_uri": "https://localhost:8080/",
          "height": 225
        },
        "id": "F8nIaijT2uBV",
        "outputId": "225a29a6-0386-4d20-b7eb-2f4816c0abb4"
      },
      "source": [
        "primer_df.tail(6)"
      ],
      "execution_count": null,
      "outputs": [
        {
          "output_type": "execute_result",
          "data": {
            "text/html": [
              "<div>\n",
              "<style scoped>\n",
              "    .dataframe tbody tr th:only-of-type {\n",
              "        vertical-align: middle;\n",
              "    }\n",
              "\n",
              "    .dataframe tbody tr th {\n",
              "        vertical-align: top;\n",
              "    }\n",
              "\n",
              "    .dataframe thead th {\n",
              "        text-align: right;\n",
              "    }\n",
              "</style>\n",
              "<table border=\"1\" class=\"dataframe\">\n",
              "  <thead>\n",
              "    <tr style=\"text-align: right;\">\n",
              "      <th></th>\n",
              "      <th>record_id</th>\n",
              "      <th>month</th>\n",
              "      <th>day</th>\n",
              "      <th>year</th>\n",
              "      <th>plot_id</th>\n",
              "      <th>species_id</th>\n",
              "      <th>sex</th>\n",
              "      <th>hindfoot_length</th>\n",
              "      <th>weight</th>\n",
              "    </tr>\n",
              "  </thead>\n",
              "  <tbody>\n",
              "    <tr>\n",
              "      <th>35543</th>\n",
              "      <td>35544</td>\n",
              "      <td>12</td>\n",
              "      <td>31</td>\n",
              "      <td>2002</td>\n",
              "      <td>15</td>\n",
              "      <td>US</td>\n",
              "      <td>NaN</td>\n",
              "      <td>NaN</td>\n",
              "      <td>NaN</td>\n",
              "    </tr>\n",
              "    <tr>\n",
              "      <th>35544</th>\n",
              "      <td>35545</td>\n",
              "      <td>12</td>\n",
              "      <td>31</td>\n",
              "      <td>2002</td>\n",
              "      <td>15</td>\n",
              "      <td>AH</td>\n",
              "      <td>NaN</td>\n",
              "      <td>NaN</td>\n",
              "      <td>NaN</td>\n",
              "    </tr>\n",
              "    <tr>\n",
              "      <th>35545</th>\n",
              "      <td>35546</td>\n",
              "      <td>12</td>\n",
              "      <td>31</td>\n",
              "      <td>2002</td>\n",
              "      <td>15</td>\n",
              "      <td>AH</td>\n",
              "      <td>NaN</td>\n",
              "      <td>NaN</td>\n",
              "      <td>NaN</td>\n",
              "    </tr>\n",
              "    <tr>\n",
              "      <th>35546</th>\n",
              "      <td>35547</td>\n",
              "      <td>12</td>\n",
              "      <td>31</td>\n",
              "      <td>2002</td>\n",
              "      <td>10</td>\n",
              "      <td>RM</td>\n",
              "      <td>F</td>\n",
              "      <td>15.0</td>\n",
              "      <td>14.0</td>\n",
              "    </tr>\n",
              "    <tr>\n",
              "      <th>35547</th>\n",
              "      <td>35548</td>\n",
              "      <td>12</td>\n",
              "      <td>31</td>\n",
              "      <td>2002</td>\n",
              "      <td>7</td>\n",
              "      <td>DO</td>\n",
              "      <td>M</td>\n",
              "      <td>36.0</td>\n",
              "      <td>51.0</td>\n",
              "    </tr>\n",
              "    <tr>\n",
              "      <th>35548</th>\n",
              "      <td>35549</td>\n",
              "      <td>12</td>\n",
              "      <td>31</td>\n",
              "      <td>2002</td>\n",
              "      <td>5</td>\n",
              "      <td>NaN</td>\n",
              "      <td>NaN</td>\n",
              "      <td>NaN</td>\n",
              "      <td>NaN</td>\n",
              "    </tr>\n",
              "  </tbody>\n",
              "</table>\n",
              "</div>"
            ],
            "text/plain": [
              "       record_id  month  day  year  ...  species_id  sex hindfoot_length  weight\n",
              "35543      35544     12   31  2002  ...          US  NaN             NaN     NaN\n",
              "35544      35545     12   31  2002  ...          AH  NaN             NaN     NaN\n",
              "35545      35546     12   31  2002  ...          AH  NaN             NaN     NaN\n",
              "35546      35547     12   31  2002  ...          RM    F            15.0    14.0\n",
              "35547      35548     12   31  2002  ...          DO    M            36.0    51.0\n",
              "35548      35549     12   31  2002  ...         NaN  NaN             NaN     NaN\n",
              "\n",
              "[6 rows x 9 columns]"
            ]
          },
          "metadata": {
            "tags": []
          },
          "execution_count": 13
        }
      ]
    },
    {
      "cell_type": "code",
      "metadata": {
        "colab": {
          "base_uri": "https://localhost:8080/",
          "height": 254
        },
        "id": "vq9CyzqN2wDp",
        "outputId": "1c8c28bd-fe24-406b-948d-cbd61fb70d42"
      },
      "source": [
        "primer_df.sample(7)"
      ],
      "execution_count": null,
      "outputs": [
        {
          "output_type": "execute_result",
          "data": {
            "text/html": [
              "<div>\n",
              "<style scoped>\n",
              "    .dataframe tbody tr th:only-of-type {\n",
              "        vertical-align: middle;\n",
              "    }\n",
              "\n",
              "    .dataframe tbody tr th {\n",
              "        vertical-align: top;\n",
              "    }\n",
              "\n",
              "    .dataframe thead th {\n",
              "        text-align: right;\n",
              "    }\n",
              "</style>\n",
              "<table border=\"1\" class=\"dataframe\">\n",
              "  <thead>\n",
              "    <tr style=\"text-align: right;\">\n",
              "      <th></th>\n",
              "      <th>record_id</th>\n",
              "      <th>month</th>\n",
              "      <th>day</th>\n",
              "      <th>year</th>\n",
              "      <th>plot_id</th>\n",
              "      <th>species_id</th>\n",
              "      <th>sex</th>\n",
              "      <th>hindfoot_length</th>\n",
              "      <th>weight</th>\n",
              "    </tr>\n",
              "  </thead>\n",
              "  <tbody>\n",
              "    <tr>\n",
              "      <th>26809</th>\n",
              "      <td>26810</td>\n",
              "      <td>9</td>\n",
              "      <td>27</td>\n",
              "      <td>1997</td>\n",
              "      <td>24</td>\n",
              "      <td>PE</td>\n",
              "      <td>F</td>\n",
              "      <td>21.0</td>\n",
              "      <td>20.0</td>\n",
              "    </tr>\n",
              "    <tr>\n",
              "      <th>8566</th>\n",
              "      <td>8567</td>\n",
              "      <td>11</td>\n",
              "      <td>12</td>\n",
              "      <td>1983</td>\n",
              "      <td>12</td>\n",
              "      <td>DS</td>\n",
              "      <td>M</td>\n",
              "      <td>52.0</td>\n",
              "      <td>132.0</td>\n",
              "    </tr>\n",
              "    <tr>\n",
              "      <th>1405</th>\n",
              "      <td>1406</td>\n",
              "      <td>11</td>\n",
              "      <td>4</td>\n",
              "      <td>1978</td>\n",
              "      <td>9</td>\n",
              "      <td>DM</td>\n",
              "      <td>F</td>\n",
              "      <td>37.0</td>\n",
              "      <td>38.0</td>\n",
              "    </tr>\n",
              "    <tr>\n",
              "      <th>32691</th>\n",
              "      <td>32692</td>\n",
              "      <td>9</td>\n",
              "      <td>22</td>\n",
              "      <td>2001</td>\n",
              "      <td>24</td>\n",
              "      <td>NL</td>\n",
              "      <td>M</td>\n",
              "      <td>29.0</td>\n",
              "      <td>185.0</td>\n",
              "    </tr>\n",
              "    <tr>\n",
              "      <th>23168</th>\n",
              "      <td>23169</td>\n",
              "      <td>12</td>\n",
              "      <td>21</td>\n",
              "      <td>1995</td>\n",
              "      <td>2</td>\n",
              "      <td>DM</td>\n",
              "      <td>F</td>\n",
              "      <td>36.0</td>\n",
              "      <td>44.0</td>\n",
              "    </tr>\n",
              "    <tr>\n",
              "      <th>31042</th>\n",
              "      <td>31043</td>\n",
              "      <td>7</td>\n",
              "      <td>2</td>\n",
              "      <td>2000</td>\n",
              "      <td>9</td>\n",
              "      <td>PB</td>\n",
              "      <td>M</td>\n",
              "      <td>26.0</td>\n",
              "      <td>38.0</td>\n",
              "    </tr>\n",
              "    <tr>\n",
              "      <th>30111</th>\n",
              "      <td>30112</td>\n",
              "      <td>12</td>\n",
              "      <td>6</td>\n",
              "      <td>1999</td>\n",
              "      <td>3</td>\n",
              "      <td>PP</td>\n",
              "      <td>M</td>\n",
              "      <td>21.0</td>\n",
              "      <td>12.0</td>\n",
              "    </tr>\n",
              "  </tbody>\n",
              "</table>\n",
              "</div>"
            ],
            "text/plain": [
              "       record_id  month  day  year  ...  species_id sex hindfoot_length  weight\n",
              "26809      26810      9   27  1997  ...          PE   F            21.0    20.0\n",
              "8566        8567     11   12  1983  ...          DS   M            52.0   132.0\n",
              "1405        1406     11    4  1978  ...          DM   F            37.0    38.0\n",
              "32691      32692      9   22  2001  ...          NL   M            29.0   185.0\n",
              "23168      23169     12   21  1995  ...          DM   F            36.0    44.0\n",
              "31042      31043      7    2  2000  ...          PB   M            26.0    38.0\n",
              "30111      30112     12    6  1999  ...          PP   M            21.0    12.0\n",
              "\n",
              "[7 rows x 9 columns]"
            ]
          },
          "metadata": {
            "tags": []
          },
          "execution_count": 14
        }
      ]
    },
    {
      "cell_type": "markdown",
      "metadata": {
        "id": "XVUtIPXQ7nMC"
      },
      "source": [
        "Para conocer más sobre cómo cargar datos csv, te invito a consultar la documentación de python [aquí.](https://pandas.pydata.org/docs/reference/api/pandas.read_csv.html)"
      ]
    },
    {
      "cell_type": "markdown",
      "metadata": {
        "id": "5Sc7AmIDyKak"
      },
      "source": [
        "# **3. Sobre nuestros datos.**\n",
        "\n",
        "Lo más importante en el manejo de bases de datos es conocer los datos. Veremos que muchas cosas dependen del conocimiento del analista de datos y de las decisiones que tome (muchas de estas subjetivas). Por esto vamos a dar una pequeña descripción sobre los datos que usamos en esta lección.\n",
        "\n",
        "\n",
        "Para esta sesión usamos los datos de *“Portal Teaching”* que son subconjunto de los datos estudiados por Ernst et al. [Long-term monitoring and experimental manipulation of a Chihuahuan Desert ecosystem near Portal, Arizona, USA.](http://www.esapubs.org/archive/ecol/E090/118/default.htm)\n",
        "\n",
        "\n",
        "Los datos pueden ser descargados desde la página [surveys.csv](https://ndownloader.figshare.com/files/2292172).\n",
        "\n",
        "\n",
        "Vamos a estudiar la especie y el peso de los animales capturados en sitios dentro de nuestra área de estudio. El conjunto de datos esta guardado en un archivo .csv: cada línea tiene información sobre un solo animal y las columnas representan:\n",
        "\n",
        "Columna. | Descripción.\n",
        "--- | ---\n",
        "record_id | identificador único de la observación\n",
        "month | \tmes de observación\n",
        "day | día de la observación\n",
        "year | año de la observación\n",
        "plot_id | \tID de un sitio en particular\n",
        "species_id | código de dos letras\n",
        "sex | sexo del animal (“M”, “F”)\n",
        "hindfoot_length | tamaño de pata en mm\n",
        "weight | peso del animal en gramos"
      ]
    },
    {
      "cell_type": "markdown",
      "metadata": {
        "id": "mNx0Z0supQTc"
      },
      "source": [
        "## **3.5 Objetivos.**\n",
        "\n",
        "\n",
        "\n",
        "*   ¿Cuántas especies de cada sexo hay?\n",
        "*   ¿Cuánto tiempo pasó desde que se hizo la primera observación hasta que se hizo la última de cada una de las especies?\n",
        "*   ¿Existe algún valor atípico (*outlier*) en el peso de cada especie?\n",
        "\n",
        "\n"
      ]
    },
    {
      "cell_type": "markdown",
      "metadata": {
        "id": "_0nE7C_tBeve"
      },
      "source": [
        "# **4. Conociendo los datos desde Python.**\n",
        "\n",
        "Python tiene comandos que nos permiten hacernos una idea de nuestra base de datos. A continuación describimos algunos de estos."
      ]
    },
    {
      "cell_type": "markdown",
      "metadata": {
        "id": "7ECiFsFqB55o"
      },
      "source": [
        "## ```df.describe(percentiles = [0.25, 0.5, 0.75])```\n",
        "\n",
        "Nos arroja una descripción estadística de nuestros datos.\n",
        "\n",
        "*   **count**: número de datos en cada columna.\n",
        "*   **mean**: la media de cada columna numérica.\n",
        "*   **std**: desviación estandar de cada columna numérica.\n",
        "*   **min**: el mínimo dato (numérico) de cada columna.\n",
        "*   **percentiles**: estos por *default* son 25%, 50% y 75%. Los podemos modificar. Recuerde que el percentil 50% es la mediana.\n",
        "*   **max**: el máximo dato (numérico) de cada columna.\n",
        "\n"
      ]
    },
    {
      "cell_type": "code",
      "metadata": {
        "colab": {
          "base_uri": "https://localhost:8080/",
          "height": 314
        },
        "id": "ZqxMyFAjCBVn",
        "outputId": "6a4abfea-d63b-4b61-8f01-ff222957e6c6"
      },
      "source": [
        "primer_df.describe(percentiles=[0.3, 0.6,0.9])"
      ],
      "execution_count": null,
      "outputs": [
        {
          "output_type": "execute_result",
          "data": {
            "text/html": [
              "<div>\n",
              "<style scoped>\n",
              "    .dataframe tbody tr th:only-of-type {\n",
              "        vertical-align: middle;\n",
              "    }\n",
              "\n",
              "    .dataframe tbody tr th {\n",
              "        vertical-align: top;\n",
              "    }\n",
              "\n",
              "    .dataframe thead th {\n",
              "        text-align: right;\n",
              "    }\n",
              "</style>\n",
              "<table border=\"1\" class=\"dataframe\">\n",
              "  <thead>\n",
              "    <tr style=\"text-align: right;\">\n",
              "      <th></th>\n",
              "      <th>record_id</th>\n",
              "      <th>month</th>\n",
              "      <th>day</th>\n",
              "      <th>year</th>\n",
              "      <th>plot_id</th>\n",
              "      <th>hindfoot_length</th>\n",
              "      <th>weight</th>\n",
              "    </tr>\n",
              "  </thead>\n",
              "  <tbody>\n",
              "    <tr>\n",
              "      <th>count</th>\n",
              "      <td>35549.000000</td>\n",
              "      <td>35549.000000</td>\n",
              "      <td>35549.000000</td>\n",
              "      <td>35549.000000</td>\n",
              "      <td>35549.000000</td>\n",
              "      <td>31438.000000</td>\n",
              "      <td>32283.000000</td>\n",
              "    </tr>\n",
              "    <tr>\n",
              "      <th>mean</th>\n",
              "      <td>17775.000000</td>\n",
              "      <td>6.477847</td>\n",
              "      <td>15.991195</td>\n",
              "      <td>1990.475231</td>\n",
              "      <td>11.397001</td>\n",
              "      <td>29.287932</td>\n",
              "      <td>42.672428</td>\n",
              "    </tr>\n",
              "    <tr>\n",
              "      <th>std</th>\n",
              "      <td>10262.256696</td>\n",
              "      <td>3.396925</td>\n",
              "      <td>8.257366</td>\n",
              "      <td>7.493355</td>\n",
              "      <td>6.799406</td>\n",
              "      <td>9.564759</td>\n",
              "      <td>36.631259</td>\n",
              "    </tr>\n",
              "    <tr>\n",
              "      <th>min</th>\n",
              "      <td>1.000000</td>\n",
              "      <td>1.000000</td>\n",
              "      <td>1.000000</td>\n",
              "      <td>1977.000000</td>\n",
              "      <td>1.000000</td>\n",
              "      <td>2.000000</td>\n",
              "      <td>4.000000</td>\n",
              "    </tr>\n",
              "    <tr>\n",
              "      <th>30%</th>\n",
              "      <td>10665.400000</td>\n",
              "      <td>4.000000</td>\n",
              "      <td>11.000000</td>\n",
              "      <td>1985.000000</td>\n",
              "      <td>6.000000</td>\n",
              "      <td>21.000000</td>\n",
              "      <td>23.000000</td>\n",
              "    </tr>\n",
              "    <tr>\n",
              "      <th>50%</th>\n",
              "      <td>17775.000000</td>\n",
              "      <td>6.000000</td>\n",
              "      <td>16.000000</td>\n",
              "      <td>1990.000000</td>\n",
              "      <td>11.000000</td>\n",
              "      <td>32.000000</td>\n",
              "      <td>37.000000</td>\n",
              "    </tr>\n",
              "    <tr>\n",
              "      <th>60%</th>\n",
              "      <td>21329.800000</td>\n",
              "      <td>7.000000</td>\n",
              "      <td>18.000000</td>\n",
              "      <td>1994.000000</td>\n",
              "      <td>13.000000</td>\n",
              "      <td>35.000000</td>\n",
              "      <td>42.000000</td>\n",
              "    </tr>\n",
              "    <tr>\n",
              "      <th>90%</th>\n",
              "      <td>31994.200000</td>\n",
              "      <td>11.000000</td>\n",
              "      <td>28.000000</td>\n",
              "      <td>2001.000000</td>\n",
              "      <td>21.000000</td>\n",
              "      <td>38.000000</td>\n",
              "      <td>87.000000</td>\n",
              "    </tr>\n",
              "    <tr>\n",
              "      <th>max</th>\n",
              "      <td>35549.000000</td>\n",
              "      <td>12.000000</td>\n",
              "      <td>31.000000</td>\n",
              "      <td>2002.000000</td>\n",
              "      <td>24.000000</td>\n",
              "      <td>70.000000</td>\n",
              "      <td>280.000000</td>\n",
              "    </tr>\n",
              "  </tbody>\n",
              "</table>\n",
              "</div>"
            ],
            "text/plain": [
              "          record_id         month  ...  hindfoot_length        weight\n",
              "count  35549.000000  35549.000000  ...     31438.000000  32283.000000\n",
              "mean   17775.000000      6.477847  ...        29.287932     42.672428\n",
              "std    10262.256696      3.396925  ...         9.564759     36.631259\n",
              "min        1.000000      1.000000  ...         2.000000      4.000000\n",
              "30%    10665.400000      4.000000  ...        21.000000     23.000000\n",
              "50%    17775.000000      6.000000  ...        32.000000     37.000000\n",
              "60%    21329.800000      7.000000  ...        35.000000     42.000000\n",
              "90%    31994.200000     11.000000  ...        38.000000     87.000000\n",
              "max    35549.000000     12.000000  ...        70.000000    280.000000\n",
              "\n",
              "[9 rows x 7 columns]"
            ]
          },
          "metadata": {
            "tags": []
          },
          "execution_count": 17
        }
      ]
    },
    {
      "cell_type": "markdown",
      "metadata": {
        "id": "cMQhPwP3Duc6"
      },
      "source": [
        "## ```df.info()```\n",
        "\n",
        "Este comando nos da información del total de datos y tipo de datos de nuestra base de datos.\n",
        "\n",
        "*   **RangeIndex**: total de filas y su rango de índices.\n",
        "*   **Data columns**: número total de columnas.\n",
        "*   **Non-Null Count**: el número de datos con entradas no nulas, es decir, sin entradas NaN.\n",
        "*   **Dtype**: tipo de dato en cada columna.\n",
        "*   **dtypes**: dice cuantas columnas hay con cierto tipo de datos.\n",
        "*   **memory usage**: uso de memorio hecho por este conjunto de datos."
      ]
    },
    {
      "cell_type": "code",
      "metadata": {
        "colab": {
          "base_uri": "https://localhost:8080/"
        },
        "id": "em92CSoNCJp0",
        "outputId": "8c9b1041-b8cb-4fae-ef99-6c124b099c5c"
      },
      "source": [
        "primer_df.info()"
      ],
      "execution_count": null,
      "outputs": [
        {
          "output_type": "stream",
          "text": [
            "<class 'pandas.core.frame.DataFrame'>\n",
            "RangeIndex: 35549 entries, 0 to 35548\n",
            "Data columns (total 9 columns):\n",
            " #   Column           Non-Null Count  Dtype  \n",
            "---  ------           --------------  -----  \n",
            " 0   record_id        35549 non-null  int64  \n",
            " 1   month            35549 non-null  int64  \n",
            " 2   day              35549 non-null  int64  \n",
            " 3   year             35549 non-null  int64  \n",
            " 4   plot_id          35549 non-null  int64  \n",
            " 5   species_id       34786 non-null  object \n",
            " 6   sex              33038 non-null  object \n",
            " 7   hindfoot_length  31438 non-null  float64\n",
            " 8   weight           32283 non-null  float64\n",
            "dtypes: float64(2), int64(5), object(2)\n",
            "memory usage: 2.4+ MB\n"
          ],
          "name": "stdout"
        }
      ]
    },
    {
      "cell_type": "markdown",
      "metadata": {
        "id": "zmxrVeJcxUCL"
      },
      "source": [
        "#  ¿Cuántas obsevaciones distintas hay en cada columna?\n",
        "\n",
        "Recuerde que nuestro primer objetivo es:\n",
        "\n",
        "*   Cuantas especies de cada sexo hay?\n",
        "\n",
        "Para esto debemos estar seguros que nuestros datos están correctos, es decir, que todas las especies de sexo femenino estén únicamente determinadas por una \"F\" y lo mismo para los machos (\"M\").\n",
        "\n",
        "Para saber esto usamos la función ```pd.unique(primer_df['sex'])```. Esta función nos muestra los valores únicos que aparecen en la columna indicada.\n",
        "\n",
        "\n",
        "\n"
      ]
    },
    {
      "cell_type": "code",
      "metadata": {
        "colab": {
          "base_uri": "https://localhost:8080/"
        },
        "id": "RvFU1gkTyAF7",
        "outputId": "e144a6bf-432e-4b42-f185-272af51363eb"
      },
      "source": [
        "pd.unique(primer_df['sex'])"
      ],
      "execution_count": null,
      "outputs": [
        {
          "output_type": "execute_result",
          "data": {
            "text/plain": [
              "array(['M', 'F', nan, 'Ff', 'Fem', 'Fff', 'Ma', 'Mm', 'MM'], dtype=object)"
            ]
          },
          "metadata": {
            "tags": []
          },
          "execution_count": 19
        }
      ]
    },
    {
      "cell_type": "markdown",
      "metadata": {
        "id": "hS5nNNj8C0Rw"
      },
      "source": [
        "## ¿Dónde están los datos NaN?\n",
        "\n",
        "Usando ```df.info()``` ya sabemos cuantos datos hay en total y cuantos de ellos son no nulos. A continuación veremos cuantos **sí** son nulos y veremos como seleccionarlos.\n",
        "\n",
        "*   Para saber cuántos son nulos solo debemos hacer ```df.isna().sum()```.\n",
        "\n",
        "*   Para seleccionar las filas de una columna de nombre *prueba* cuyas entradas son NaN solo debemos hacer ```df[\"prueba\"].isna()```\n"
      ]
    },
    {
      "cell_type": "code",
      "metadata": {
        "colab": {
          "base_uri": "https://localhost:8080/"
        },
        "id": "jgdVMkSyD0hf",
        "outputId": "49b51692-d656-435a-f633-8e4ceee433f9"
      },
      "source": [
        "primer_df.isna().sum()"
      ],
      "execution_count": null,
      "outputs": [
        {
          "output_type": "execute_result",
          "data": {
            "text/plain": [
              "record_id             0\n",
              "month                 0\n",
              "day                   0\n",
              "year                  0\n",
              "plot_id               0\n",
              "species_id          763\n",
              "sex                2511\n",
              "hindfoot_length    4111\n",
              "weight             3266\n",
              "dtype: int64"
            ]
          },
          "metadata": {
            "tags": []
          },
          "execution_count": 20
        }
      ]
    },
    {
      "cell_type": "code",
      "metadata": {
        "colab": {
          "base_uri": "https://localhost:8080/"
        },
        "id": "9OhHdkHdEjrq",
        "outputId": "6c918dbc-809e-4c47-ebe9-243a9d99e3bf"
      },
      "source": [
        "primer_df[\"sex\"].isna()"
      ],
      "execution_count": null,
      "outputs": [
        {
          "output_type": "execute_result",
          "data": {
            "text/plain": [
              "0        False\n",
              "1        False\n",
              "2        False\n",
              "3        False\n",
              "4        False\n",
              "         ...  \n",
              "35544     True\n",
              "35545     True\n",
              "35546    False\n",
              "35547    False\n",
              "35548     True\n",
              "Name: sex, Length: 35549, dtype: bool"
            ]
          },
          "metadata": {
            "tags": []
          },
          "execution_count": 22
        }
      ]
    },
    {
      "cell_type": "markdown",
      "metadata": {
        "id": "sPnN_D18Euc5"
      },
      "source": [
        "Aqui vemos que ```primer_df[\"sex\"].isna()``` pone True en las filas donde sí hay un dato NaN y False donde no lo hay. Con esto ya podemos hacer una iteración sobre los que son True o trabajar solo con los que son False. Esto lo veremos más adelante."
      ]
    },
    {
      "cell_type": "markdown",
      "metadata": {
        "id": "d3PYra0_KY_D"
      },
      "source": [
        "Seleccionar solo los que tienen NaN."
      ]
    },
    {
      "cell_type": "markdown",
      "metadata": {
        "id": "Ez2QwnnGtbfv"
      },
      "source": [
        "## Media, Moda y Mediana.\n",
        "\n",
        "Para calcular cada uno de estos valores estadísticos tenemos los siguiente comandos:\n",
        "\n",
        "* Media: ```df['columna'].mean()```\n",
        "* Moda: ```df['columna'].mode()```\n",
        "* Mediana: ```df['columna'].median()```\n",
        "\n",
        "**Nota**: en cada uno Python omite los datos cuya entrada es NaN.\n"
      ]
    },
    {
      "cell_type": "code",
      "metadata": {
        "colab": {
          "base_uri": "https://localhost:8080/"
        },
        "id": "KNLN7fpCtqqI",
        "outputId": "9cde7ce9-e76e-4104-9158-ec8a34c50d5f"
      },
      "source": [
        "print(primer_df['hindfoot_length'].mean(skipna=False))\n",
        "print(primer_df['hindfoot_length'].mode())\n",
        "print(primer_df['hindfoot_length'].median(skipna=False))"
      ],
      "execution_count": null,
      "outputs": [
        {
          "output_type": "stream",
          "text": [
            "nan\n",
            "0    36.0\n",
            "dtype: float64\n",
            "nan\n"
          ],
          "name": "stdout"
        }
      ]
    },
    {
      "cell_type": "markdown",
      "metadata": {
        "id": "p-GM6QKnvTH3"
      },
      "source": [
        "## ¿Cuántos datos hay en cada columna?\n",
        "\n",
        "Para confirmar lo anterios sería bueno saber cuántos diferentes datos aparecen una columna. Para esto hacemos\n",
        "> ```df['columna'].value_counts()```"
      ]
    },
    {
      "cell_type": "code",
      "metadata": {
        "colab": {
          "base_uri": "https://localhost:8080/"
        },
        "id": "bqWwS0rZuVGL",
        "outputId": "af747f24-6f8d-4e57-8913-fb5ba327c6c2"
      },
      "source": [
        "primer_df['hindfoot_length'].value_counts()"
      ],
      "execution_count": null,
      "outputs": [
        {
          "output_type": "execute_result",
          "data": {
            "text/plain": [
              "36.0    4071\n",
              "37.0    3277\n",
              "35.0    2649\n",
              "21.0    2504\n",
              "20.0    2304\n",
              "22.0    1704\n",
              "16.0    1538\n",
              "26.0    1359\n",
              "34.0    1358\n",
              "17.0    1285\n",
              "38.0     888\n",
              "19.0     780\n",
              "27.0     762\n",
              "15.0     736\n",
              "33.0     675\n",
              "25.0     606\n",
              "23.0     598\n",
              "32.0     430\n",
              "50.0     391\n",
              "18.0     385\n",
              "51.0     376\n",
              "49.0     358\n",
              "52.0     311\n",
              "48.0     239\n",
              "24.0     222\n",
              "31.0     206\n",
              "39.0     201\n",
              "14.0     201\n",
              "28.0     195\n",
              "47.0     178\n",
              "30.0     132\n",
              "53.0     122\n",
              "29.0      83\n",
              "46.0      62\n",
              "54.0      58\n",
              "13.0      42\n",
              "12.0      36\n",
              "40.0      27\n",
              "45.0      24\n",
              "11.0      17\n",
              "55.0      12\n",
              "44.0       5\n",
              "41.0       4\n",
              "43.0       4\n",
              "10.0       3\n",
              "8.0        3\n",
              "9.0        3\n",
              "58.0       2\n",
              "57.0       2\n",
              "6.0        2\n",
              "42.0       2\n",
              "7.0        2\n",
              "56.0       1\n",
              "70.0       1\n",
              "2.0        1\n",
              "64.0       1\n",
              "Name: hindfoot_length, dtype: int64"
            ]
          },
          "metadata": {
            "tags": []
          },
          "execution_count": 30
        }
      ]
    },
    {
      "cell_type": "markdown",
      "metadata": {
        "id": "IZsw--CLFbDn"
      },
      "source": [
        "# **5. Subconjuntos de DataFrames, agregar nuevos datos o unir con otro DataFrame.**\n",
        "\n",
        "Para seleccionar solo una o varias columnas debemos escribir el nombre de las columnas como una lista.\n",
        "\n",
        " > ``` df[[\"columna1\", \"columna2\"]]```\n",
        "\n",
        "\n",
        "> ``` df[[\"columna\"]] ```\n",
        "\n",
        "* Crea un nuevo DataFrame con las columnas *sex* y *hindfoot_length*.\n",
        "\n",
        "* Crea un nuevo DataFrame con la columna *weight*.\n",
        "\n",
        "\n"
      ]
    },
    {
      "cell_type": "code",
      "metadata": {
        "colab": {
          "base_uri": "https://localhost:8080/",
          "height": 402
        },
        "id": "kQwGwPSAEqJI",
        "outputId": "bfd6ee4f-c1d2-4304-ad0e-b595b9ddf0c6"
      },
      "source": [
        "df_sex_hindfoot = primer_df[[\"sex\", \"hindfoot_length\"]]\n",
        "df_sex_hindfoot"
      ],
      "execution_count": null,
      "outputs": [
        {
          "output_type": "execute_result",
          "data": {
            "text/html": [
              "<div>\n",
              "<style scoped>\n",
              "    .dataframe tbody tr th:only-of-type {\n",
              "        vertical-align: middle;\n",
              "    }\n",
              "\n",
              "    .dataframe tbody tr th {\n",
              "        vertical-align: top;\n",
              "    }\n",
              "\n",
              "    .dataframe thead th {\n",
              "        text-align: right;\n",
              "    }\n",
              "</style>\n",
              "<table border=\"1\" class=\"dataframe\">\n",
              "  <thead>\n",
              "    <tr style=\"text-align: right;\">\n",
              "      <th></th>\n",
              "      <th>sex</th>\n",
              "      <th>hindfoot_length</th>\n",
              "    </tr>\n",
              "  </thead>\n",
              "  <tbody>\n",
              "    <tr>\n",
              "      <th>0</th>\n",
              "      <td>M</td>\n",
              "      <td>32.0</td>\n",
              "    </tr>\n",
              "    <tr>\n",
              "      <th>1</th>\n",
              "      <td>M</td>\n",
              "      <td>33.0</td>\n",
              "    </tr>\n",
              "    <tr>\n",
              "      <th>2</th>\n",
              "      <td>F</td>\n",
              "      <td>37.0</td>\n",
              "    </tr>\n",
              "    <tr>\n",
              "      <th>3</th>\n",
              "      <td>M</td>\n",
              "      <td>36.0</td>\n",
              "    </tr>\n",
              "    <tr>\n",
              "      <th>4</th>\n",
              "      <td>M</td>\n",
              "      <td>35.0</td>\n",
              "    </tr>\n",
              "    <tr>\n",
              "      <th>...</th>\n",
              "      <td>...</td>\n",
              "      <td>...</td>\n",
              "    </tr>\n",
              "    <tr>\n",
              "      <th>35544</th>\n",
              "      <td>NaN</td>\n",
              "      <td>NaN</td>\n",
              "    </tr>\n",
              "    <tr>\n",
              "      <th>35545</th>\n",
              "      <td>NaN</td>\n",
              "      <td>NaN</td>\n",
              "    </tr>\n",
              "    <tr>\n",
              "      <th>35546</th>\n",
              "      <td>F</td>\n",
              "      <td>15.0</td>\n",
              "    </tr>\n",
              "    <tr>\n",
              "      <th>35547</th>\n",
              "      <td>M</td>\n",
              "      <td>36.0</td>\n",
              "    </tr>\n",
              "    <tr>\n",
              "      <th>35548</th>\n",
              "      <td>NaN</td>\n",
              "      <td>NaN</td>\n",
              "    </tr>\n",
              "  </tbody>\n",
              "</table>\n",
              "<p>35549 rows × 2 columns</p>\n",
              "</div>"
            ],
            "text/plain": [
              "       sex  hindfoot_length\n",
              "0        M             32.0\n",
              "1        M             33.0\n",
              "2        F             37.0\n",
              "3        M             36.0\n",
              "4        M             35.0\n",
              "...    ...              ...\n",
              "35544  NaN              NaN\n",
              "35545  NaN              NaN\n",
              "35546    F             15.0\n",
              "35547    M             36.0\n",
              "35548  NaN              NaN\n",
              "\n",
              "[35549 rows x 2 columns]"
            ]
          },
          "metadata": {
            "tags": []
          },
          "execution_count": 31
        }
      ]
    },
    {
      "cell_type": "code",
      "metadata": {
        "colab": {
          "base_uri": "https://localhost:8080/",
          "height": 402
        },
        "id": "TylQ5sU6HmKe",
        "outputId": "657804a1-5b19-4fb4-eb35-91ac1597d257"
      },
      "source": [
        "df_weight = primer_df[[\"weight\"]]\n",
        "df_weight"
      ],
      "execution_count": null,
      "outputs": [
        {
          "output_type": "execute_result",
          "data": {
            "text/html": [
              "<div>\n",
              "<style scoped>\n",
              "    .dataframe tbody tr th:only-of-type {\n",
              "        vertical-align: middle;\n",
              "    }\n",
              "\n",
              "    .dataframe tbody tr th {\n",
              "        vertical-align: top;\n",
              "    }\n",
              "\n",
              "    .dataframe thead th {\n",
              "        text-align: right;\n",
              "    }\n",
              "</style>\n",
              "<table border=\"1\" class=\"dataframe\">\n",
              "  <thead>\n",
              "    <tr style=\"text-align: right;\">\n",
              "      <th></th>\n",
              "      <th>weight</th>\n",
              "    </tr>\n",
              "  </thead>\n",
              "  <tbody>\n",
              "    <tr>\n",
              "      <th>0</th>\n",
              "      <td>NaN</td>\n",
              "    </tr>\n",
              "    <tr>\n",
              "      <th>1</th>\n",
              "      <td>NaN</td>\n",
              "    </tr>\n",
              "    <tr>\n",
              "      <th>2</th>\n",
              "      <td>NaN</td>\n",
              "    </tr>\n",
              "    <tr>\n",
              "      <th>3</th>\n",
              "      <td>NaN</td>\n",
              "    </tr>\n",
              "    <tr>\n",
              "      <th>4</th>\n",
              "      <td>NaN</td>\n",
              "    </tr>\n",
              "    <tr>\n",
              "      <th>...</th>\n",
              "      <td>...</td>\n",
              "    </tr>\n",
              "    <tr>\n",
              "      <th>35544</th>\n",
              "      <td>NaN</td>\n",
              "    </tr>\n",
              "    <tr>\n",
              "      <th>35545</th>\n",
              "      <td>NaN</td>\n",
              "    </tr>\n",
              "    <tr>\n",
              "      <th>35546</th>\n",
              "      <td>14.0</td>\n",
              "    </tr>\n",
              "    <tr>\n",
              "      <th>35547</th>\n",
              "      <td>51.0</td>\n",
              "    </tr>\n",
              "    <tr>\n",
              "      <th>35548</th>\n",
              "      <td>NaN</td>\n",
              "    </tr>\n",
              "  </tbody>\n",
              "</table>\n",
              "<p>35549 rows × 1 columns</p>\n",
              "</div>"
            ],
            "text/plain": [
              "       weight\n",
              "0         NaN\n",
              "1         NaN\n",
              "2         NaN\n",
              "3         NaN\n",
              "4         NaN\n",
              "...       ...\n",
              "35544     NaN\n",
              "35545     NaN\n",
              "35546    14.0\n",
              "35547    51.0\n",
              "35548     NaN\n",
              "\n",
              "[35549 rows x 1 columns]"
            ]
          },
          "metadata": {
            "tags": []
          },
          "execution_count": 32
        }
      ]
    },
    {
      "cell_type": "markdown",
      "metadata": {
        "id": "urhxcl2WYPaQ"
      },
      "source": [
        "Para elegir las filas con cierta propiedad solo debemos pedirle a Python que haga el filtro que queremos\n",
        ">  ```df.loc[[\"column\"] == condition]```\n",
        "\n",
        "Por ejemplo vamos a seleccionar las filas cuya columna *sex* tiene el dato \"F\", es decir, las especies de sexo femenino.\n",
        "\n"
      ]
    },
    {
      "cell_type": "code",
      "metadata": {
        "colab": {
          "base_uri": "https://localhost:8080/",
          "height": 402
        },
        "id": "wiPG4G-_Y3wL",
        "outputId": "8855cb03-2740-4860-8da6-021e0b5113e0"
      },
      "source": [
        "femeninas = primer_df.loc[primer_df[\"sex\"]==\"F\"]\n",
        "femeninas"
      ],
      "execution_count": null,
      "outputs": [
        {
          "output_type": "execute_result",
          "data": {
            "text/html": [
              "<div>\n",
              "<style scoped>\n",
              "    .dataframe tbody tr th:only-of-type {\n",
              "        vertical-align: middle;\n",
              "    }\n",
              "\n",
              "    .dataframe tbody tr th {\n",
              "        vertical-align: top;\n",
              "    }\n",
              "\n",
              "    .dataframe thead th {\n",
              "        text-align: right;\n",
              "    }\n",
              "</style>\n",
              "<table border=\"1\" class=\"dataframe\">\n",
              "  <thead>\n",
              "    <tr style=\"text-align: right;\">\n",
              "      <th></th>\n",
              "      <th>record_id</th>\n",
              "      <th>month</th>\n",
              "      <th>day</th>\n",
              "      <th>year</th>\n",
              "      <th>plot_id</th>\n",
              "      <th>species_id</th>\n",
              "      <th>sex</th>\n",
              "      <th>hindfoot_length</th>\n",
              "      <th>weight</th>\n",
              "    </tr>\n",
              "  </thead>\n",
              "  <tbody>\n",
              "    <tr>\n",
              "      <th>2</th>\n",
              "      <td>3</td>\n",
              "      <td>7</td>\n",
              "      <td>16</td>\n",
              "      <td>1977</td>\n",
              "      <td>2</td>\n",
              "      <td>DM</td>\n",
              "      <td>F</td>\n",
              "      <td>37.0</td>\n",
              "      <td>NaN</td>\n",
              "    </tr>\n",
              "    <tr>\n",
              "      <th>6</th>\n",
              "      <td>7</td>\n",
              "      <td>7</td>\n",
              "      <td>16</td>\n",
              "      <td>1977</td>\n",
              "      <td>2</td>\n",
              "      <td>PE</td>\n",
              "      <td>F</td>\n",
              "      <td>NaN</td>\n",
              "      <td>NaN</td>\n",
              "    </tr>\n",
              "    <tr>\n",
              "      <th>8</th>\n",
              "      <td>9</td>\n",
              "      <td>7</td>\n",
              "      <td>16</td>\n",
              "      <td>1977</td>\n",
              "      <td>1</td>\n",
              "      <td>DM</td>\n",
              "      <td>F</td>\n",
              "      <td>34.0</td>\n",
              "      <td>NaN</td>\n",
              "    </tr>\n",
              "    <tr>\n",
              "      <th>9</th>\n",
              "      <td>10</td>\n",
              "      <td>7</td>\n",
              "      <td>16</td>\n",
              "      <td>1977</td>\n",
              "      <td>6</td>\n",
              "      <td>PF</td>\n",
              "      <td>F</td>\n",
              "      <td>20.0</td>\n",
              "      <td>NaN</td>\n",
              "    </tr>\n",
              "    <tr>\n",
              "      <th>10</th>\n",
              "      <td>11</td>\n",
              "      <td>7</td>\n",
              "      <td>16</td>\n",
              "      <td>1977</td>\n",
              "      <td>5</td>\n",
              "      <td>DS</td>\n",
              "      <td>F</td>\n",
              "      <td>53.0</td>\n",
              "      <td>NaN</td>\n",
              "    </tr>\n",
              "    <tr>\n",
              "      <th>...</th>\n",
              "      <td>...</td>\n",
              "      <td>...</td>\n",
              "      <td>...</td>\n",
              "      <td>...</td>\n",
              "      <td>...</td>\n",
              "      <td>...</td>\n",
              "      <td>...</td>\n",
              "      <td>...</td>\n",
              "      <td>...</td>\n",
              "    </tr>\n",
              "    <tr>\n",
              "      <th>35539</th>\n",
              "      <td>35540</td>\n",
              "      <td>12</td>\n",
              "      <td>31</td>\n",
              "      <td>2002</td>\n",
              "      <td>15</td>\n",
              "      <td>PB</td>\n",
              "      <td>F</td>\n",
              "      <td>26.0</td>\n",
              "      <td>23.0</td>\n",
              "    </tr>\n",
              "    <tr>\n",
              "      <th>35540</th>\n",
              "      <td>35541</td>\n",
              "      <td>12</td>\n",
              "      <td>31</td>\n",
              "      <td>2002</td>\n",
              "      <td>15</td>\n",
              "      <td>PB</td>\n",
              "      <td>F</td>\n",
              "      <td>24.0</td>\n",
              "      <td>31.0</td>\n",
              "    </tr>\n",
              "    <tr>\n",
              "      <th>35541</th>\n",
              "      <td>35542</td>\n",
              "      <td>12</td>\n",
              "      <td>31</td>\n",
              "      <td>2002</td>\n",
              "      <td>15</td>\n",
              "      <td>PB</td>\n",
              "      <td>F</td>\n",
              "      <td>26.0</td>\n",
              "      <td>29.0</td>\n",
              "    </tr>\n",
              "    <tr>\n",
              "      <th>35542</th>\n",
              "      <td>35543</td>\n",
              "      <td>12</td>\n",
              "      <td>31</td>\n",
              "      <td>2002</td>\n",
              "      <td>15</td>\n",
              "      <td>PB</td>\n",
              "      <td>F</td>\n",
              "      <td>27.0</td>\n",
              "      <td>34.0</td>\n",
              "    </tr>\n",
              "    <tr>\n",
              "      <th>35546</th>\n",
              "      <td>35547</td>\n",
              "      <td>12</td>\n",
              "      <td>31</td>\n",
              "      <td>2002</td>\n",
              "      <td>10</td>\n",
              "      <td>RM</td>\n",
              "      <td>F</td>\n",
              "      <td>15.0</td>\n",
              "      <td>14.0</td>\n",
              "    </tr>\n",
              "  </tbody>\n",
              "</table>\n",
              "<p>15685 rows × 9 columns</p>\n",
              "</div>"
            ],
            "text/plain": [
              "       record_id  month  day  year  ...  species_id sex hindfoot_length  weight\n",
              "2              3      7   16  1977  ...          DM   F            37.0     NaN\n",
              "6              7      7   16  1977  ...          PE   F             NaN     NaN\n",
              "8              9      7   16  1977  ...          DM   F            34.0     NaN\n",
              "9             10      7   16  1977  ...          PF   F            20.0     NaN\n",
              "10            11      7   16  1977  ...          DS   F            53.0     NaN\n",
              "...          ...    ...  ...   ...  ...         ...  ..             ...     ...\n",
              "35539      35540     12   31  2002  ...          PB   F            26.0    23.0\n",
              "35540      35541     12   31  2002  ...          PB   F            24.0    31.0\n",
              "35541      35542     12   31  2002  ...          PB   F            26.0    29.0\n",
              "35542      35543     12   31  2002  ...          PB   F            27.0    34.0\n",
              "35546      35547     12   31  2002  ...          RM   F            15.0    14.0\n",
              "\n",
              "[15685 rows x 9 columns]"
            ]
          },
          "metadata": {
            "tags": []
          },
          "execution_count": 33
        }
      ]
    },
    {
      "cell_type": "markdown",
      "metadata": {
        "id": "zugRM1NSZZyv"
      },
      "source": [
        "Y si queremos un solo dato en particular, digamos, el dato de la fila 2 y la columna *hindfoot_length* podemos hacerlos usando los índices de la fila y la columna \n",
        "> ```primer_df.iloc[2,7]```\n",
        "\n",
        "O usando el nombre de la columna y el índice de la fila\n",
        "\n",
        "> ```primer_df.loc[2,\"hindfoot_length\"]```"
      ]
    },
    {
      "cell_type": "code",
      "metadata": {
        "colab": {
          "base_uri": "https://localhost:8080/"
        },
        "id": "bIi5ukRGZ8LW",
        "outputId": "4ba5c05c-1508-4e29-af1e-f1b7d985afe6"
      },
      "source": [
        "primer_df.iloc[2,7]"
      ],
      "execution_count": null,
      "outputs": [
        {
          "output_type": "execute_result",
          "data": {
            "text/plain": [
              "37.0"
            ]
          },
          "metadata": {
            "tags": []
          },
          "execution_count": 34
        }
      ]
    },
    {
      "cell_type": "code",
      "metadata": {
        "colab": {
          "base_uri": "https://localhost:8080/"
        },
        "id": "n_8GBKU9Z_6P",
        "outputId": "74addda9-e2b3-420a-e591-a3713148883c"
      },
      "source": [
        "primer_df.loc[2,\"hindfoot_length\"]"
      ],
      "execution_count": null,
      "outputs": [
        {
          "output_type": "execute_result",
          "data": {
            "text/plain": [
              "37.0"
            ]
          },
          "metadata": {
            "tags": []
          },
          "execution_count": 35
        }
      ]
    },
    {
      "cell_type": "markdown",
      "metadata": {
        "id": "u3AE9UYwJhXS"
      },
      "source": [
        "## Y si queremos agregar nuevos datos?\n",
        "\n",
        "Suponga que seguimos recolectando datos y ahora tenemos los siguientes datos\n",
        "\n"
      ]
    },
    {
      "cell_type": "markdown",
      "metadata": {
        "id": "RvmsfHpRK_jF"
      },
      "source": [
        "\n",
        "record_id | month | day | year | plot_id | species_id | sex | hindfoot_length | weight\n",
        "--- | --- | --- | --- | --- | --- | --- | --- | --- \n",
        "35550 | 04 | 27 | 2017 | 7 | \"NL\" | \"F\" |  12 | 21\n",
        "35551 | 03 | 07 | 2014 | 17 | \"NM\" | \"M\" |  13 | 23\n",
        "35552 | 11 | 02 | 2017 | 23 | \"NF\" | \"M\" |  15 | 25\n",
        "35553 | 09 | 23 | 2017 | 12 | \"NL\" | \"F\" |  14 | --\n"
      ]
    },
    {
      "cell_type": "markdown",
      "metadata": {
        "id": "CSp2oxZ1MS1O"
      },
      "source": [
        "Vamos a crear un nuevo DataFrame con estos datos y posteriormente vamos a adicionar estos datos a nuestro DataFrame completo.\n",
        "\n",
        "Para esto haremos lo siguiente:\n",
        "*   Cargar la libreria Numpy con el alias de *np*.\n",
        "*   Crear un diccionario cuyas llaves sean cada columna y los a cada llave le asignamos los datos de cada columna.\n",
        "*   Finalmente usamos el comando ```pd.DataFrame(diccionario)```"
      ]
    },
    {
      "cell_type": "code",
      "metadata": {
        "id": "d4cXz8HjJ_zN"
      },
      "source": [
        "import numpy as np"
      ],
      "execution_count": null,
      "outputs": []
    },
    {
      "cell_type": "code",
      "metadata": {
        "id": "REk3AUZzNT7M"
      },
      "source": [
        "diccionario = {\"record_id\" : [35550, 35551, 35552, 35553], \"month\" : [4, 3, 11, 9], \"day\" : [27, 7, 2, 23],\n",
        "               \"year\" : [2017, 2014, 2017, 2017], \"species_id\":[\"NL\", \"NM\", \"NF\", \"NL\"], \"sex\" :[\"F\", \"M\", \"M\", \"F\"],\n",
        "               \"hindfoot_length\" : [12, 13, 15, 14], \"weight\" : [21, 23, 25, float(\"NaN\")]}#np.NaN"
      ],
      "execution_count": null,
      "outputs": []
    },
    {
      "cell_type": "code",
      "metadata": {
        "colab": {
          "base_uri": "https://localhost:8080/"
        },
        "id": "QLbkYwX-OO5x",
        "outputId": "5c478ec8-deee-4489-b4fa-cf920ce37465"
      },
      "source": [
        "diccionario"
      ],
      "execution_count": null,
      "outputs": [
        {
          "output_type": "execute_result",
          "data": {
            "text/plain": [
              "{'day': [27, 7, 2, 23],\n",
              " 'hindfoot_length': [12, 13, 15, 14],\n",
              " 'month': [4, 3, 11, 9],\n",
              " 'record_id': [35550, 35551, 35552, 35553],\n",
              " 'sex': ['F', 'M', 'M', 'F'],\n",
              " 'species_id': ['NL', 'NM', 'NF', 'NL'],\n",
              " 'weight': [21, 23, 25, nan],\n",
              " 'year': [2017, 2014, 2017, 2017]}"
            ]
          },
          "metadata": {
            "tags": []
          },
          "execution_count": 43
        }
      ]
    },
    {
      "cell_type": "code",
      "metadata": {
        "colab": {
          "base_uri": "https://localhost:8080/"
        },
        "id": "NmlYg6vxNTOz",
        "outputId": "5fb57624-4f14-4761-e450-e440a9f846c6"
      },
      "source": [
        "type(diccionario[\"weight\"][3])"
      ],
      "execution_count": null,
      "outputs": [
        {
          "output_type": "execute_result",
          "data": {
            "text/plain": [
              "float"
            ]
          },
          "metadata": {
            "tags": []
          },
          "execution_count": 44
        }
      ]
    },
    {
      "cell_type": "code",
      "metadata": {
        "colab": {
          "base_uri": "https://localhost:8080/",
          "height": 166
        },
        "id": "C5Xe6Fp2Oalb",
        "outputId": "1407e249-a56d-4a01-ea4e-aba184680b28"
      },
      "source": [
        "nuevos_datos = pd.DataFrame(diccionario)\n",
        "nuevos_datos"
      ],
      "execution_count": null,
      "outputs": [
        {
          "output_type": "execute_result",
          "data": {
            "text/html": [
              "<div>\n",
              "<style scoped>\n",
              "    .dataframe tbody tr th:only-of-type {\n",
              "        vertical-align: middle;\n",
              "    }\n",
              "\n",
              "    .dataframe tbody tr th {\n",
              "        vertical-align: top;\n",
              "    }\n",
              "\n",
              "    .dataframe thead th {\n",
              "        text-align: right;\n",
              "    }\n",
              "</style>\n",
              "<table border=\"1\" class=\"dataframe\">\n",
              "  <thead>\n",
              "    <tr style=\"text-align: right;\">\n",
              "      <th></th>\n",
              "      <th>record_id</th>\n",
              "      <th>month</th>\n",
              "      <th>day</th>\n",
              "      <th>year</th>\n",
              "      <th>species_id</th>\n",
              "      <th>sex</th>\n",
              "      <th>hindfoot_length</th>\n",
              "      <th>weight</th>\n",
              "    </tr>\n",
              "  </thead>\n",
              "  <tbody>\n",
              "    <tr>\n",
              "      <th>0</th>\n",
              "      <td>35550</td>\n",
              "      <td>4</td>\n",
              "      <td>27</td>\n",
              "      <td>2017</td>\n",
              "      <td>NL</td>\n",
              "      <td>F</td>\n",
              "      <td>12</td>\n",
              "      <td>21.0</td>\n",
              "    </tr>\n",
              "    <tr>\n",
              "      <th>1</th>\n",
              "      <td>35551</td>\n",
              "      <td>3</td>\n",
              "      <td>7</td>\n",
              "      <td>2014</td>\n",
              "      <td>NM</td>\n",
              "      <td>M</td>\n",
              "      <td>13</td>\n",
              "      <td>23.0</td>\n",
              "    </tr>\n",
              "    <tr>\n",
              "      <th>2</th>\n",
              "      <td>35552</td>\n",
              "      <td>11</td>\n",
              "      <td>2</td>\n",
              "      <td>2017</td>\n",
              "      <td>NF</td>\n",
              "      <td>M</td>\n",
              "      <td>15</td>\n",
              "      <td>25.0</td>\n",
              "    </tr>\n",
              "    <tr>\n",
              "      <th>3</th>\n",
              "      <td>35553</td>\n",
              "      <td>9</td>\n",
              "      <td>23</td>\n",
              "      <td>2017</td>\n",
              "      <td>NL</td>\n",
              "      <td>F</td>\n",
              "      <td>14</td>\n",
              "      <td>NaN</td>\n",
              "    </tr>\n",
              "  </tbody>\n",
              "</table>\n",
              "</div>"
            ],
            "text/plain": [
              "   record_id  month  day  year species_id sex  hindfoot_length  weight\n",
              "0      35550      4   27  2017         NL   F               12    21.0\n",
              "1      35551      3    7  2014         NM   M               13    23.0\n",
              "2      35552     11    2  2017         NF   M               15    25.0\n",
              "3      35553      9   23  2017         NL   F               14     NaN"
            ]
          },
          "metadata": {
            "tags": []
          },
          "execution_count": 45
        }
      ]
    },
    {
      "cell_type": "markdown",
      "metadata": {
        "id": "FSX5obSoOlFB"
      },
      "source": [
        "*   Ahora adiccionamos los nuevos datos usando el comando *append*\n",
        "> ``` base_nueva = df.append(nuevos_datos)```"
      ]
    },
    {
      "cell_type": "code",
      "metadata": {
        "colab": {
          "base_uri": "https://localhost:8080/",
          "height": 402
        },
        "id": "wEL5U22POhKp",
        "outputId": "956c55cd-dc00-493e-b400-4ee58cae1ec9"
      },
      "source": [
        "base_actualizada = primer_df.append(nuevos_datos, ignore_index=True)\n",
        "base_actualizada"
      ],
      "execution_count": null,
      "outputs": [
        {
          "output_type": "execute_result",
          "data": {
            "text/html": [
              "<div>\n",
              "<style scoped>\n",
              "    .dataframe tbody tr th:only-of-type {\n",
              "        vertical-align: middle;\n",
              "    }\n",
              "\n",
              "    .dataframe tbody tr th {\n",
              "        vertical-align: top;\n",
              "    }\n",
              "\n",
              "    .dataframe thead th {\n",
              "        text-align: right;\n",
              "    }\n",
              "</style>\n",
              "<table border=\"1\" class=\"dataframe\">\n",
              "  <thead>\n",
              "    <tr style=\"text-align: right;\">\n",
              "      <th></th>\n",
              "      <th>record_id</th>\n",
              "      <th>month</th>\n",
              "      <th>day</th>\n",
              "      <th>year</th>\n",
              "      <th>plot_id</th>\n",
              "      <th>species_id</th>\n",
              "      <th>sex</th>\n",
              "      <th>hindfoot_length</th>\n",
              "      <th>weight</th>\n",
              "    </tr>\n",
              "  </thead>\n",
              "  <tbody>\n",
              "    <tr>\n",
              "      <th>0</th>\n",
              "      <td>1</td>\n",
              "      <td>7</td>\n",
              "      <td>16</td>\n",
              "      <td>1977</td>\n",
              "      <td>2.0</td>\n",
              "      <td>NL</td>\n",
              "      <td>M</td>\n",
              "      <td>32.0</td>\n",
              "      <td>NaN</td>\n",
              "    </tr>\n",
              "    <tr>\n",
              "      <th>1</th>\n",
              "      <td>2</td>\n",
              "      <td>7</td>\n",
              "      <td>16</td>\n",
              "      <td>1977</td>\n",
              "      <td>3.0</td>\n",
              "      <td>NL</td>\n",
              "      <td>M</td>\n",
              "      <td>33.0</td>\n",
              "      <td>NaN</td>\n",
              "    </tr>\n",
              "    <tr>\n",
              "      <th>2</th>\n",
              "      <td>3</td>\n",
              "      <td>7</td>\n",
              "      <td>16</td>\n",
              "      <td>1977</td>\n",
              "      <td>2.0</td>\n",
              "      <td>DM</td>\n",
              "      <td>F</td>\n",
              "      <td>37.0</td>\n",
              "      <td>NaN</td>\n",
              "    </tr>\n",
              "    <tr>\n",
              "      <th>3</th>\n",
              "      <td>4</td>\n",
              "      <td>7</td>\n",
              "      <td>16</td>\n",
              "      <td>1977</td>\n",
              "      <td>7.0</td>\n",
              "      <td>DM</td>\n",
              "      <td>M</td>\n",
              "      <td>36.0</td>\n",
              "      <td>NaN</td>\n",
              "    </tr>\n",
              "    <tr>\n",
              "      <th>4</th>\n",
              "      <td>5</td>\n",
              "      <td>7</td>\n",
              "      <td>16</td>\n",
              "      <td>1977</td>\n",
              "      <td>3.0</td>\n",
              "      <td>DM</td>\n",
              "      <td>M</td>\n",
              "      <td>35.0</td>\n",
              "      <td>NaN</td>\n",
              "    </tr>\n",
              "    <tr>\n",
              "      <th>...</th>\n",
              "      <td>...</td>\n",
              "      <td>...</td>\n",
              "      <td>...</td>\n",
              "      <td>...</td>\n",
              "      <td>...</td>\n",
              "      <td>...</td>\n",
              "      <td>...</td>\n",
              "      <td>...</td>\n",
              "      <td>...</td>\n",
              "    </tr>\n",
              "    <tr>\n",
              "      <th>35548</th>\n",
              "      <td>35549</td>\n",
              "      <td>12</td>\n",
              "      <td>31</td>\n",
              "      <td>2002</td>\n",
              "      <td>5.0</td>\n",
              "      <td>NaN</td>\n",
              "      <td>NaN</td>\n",
              "      <td>NaN</td>\n",
              "      <td>NaN</td>\n",
              "    </tr>\n",
              "    <tr>\n",
              "      <th>35549</th>\n",
              "      <td>35550</td>\n",
              "      <td>4</td>\n",
              "      <td>27</td>\n",
              "      <td>2017</td>\n",
              "      <td>NaN</td>\n",
              "      <td>NL</td>\n",
              "      <td>F</td>\n",
              "      <td>12.0</td>\n",
              "      <td>21.0</td>\n",
              "    </tr>\n",
              "    <tr>\n",
              "      <th>35550</th>\n",
              "      <td>35551</td>\n",
              "      <td>3</td>\n",
              "      <td>7</td>\n",
              "      <td>2014</td>\n",
              "      <td>NaN</td>\n",
              "      <td>NM</td>\n",
              "      <td>M</td>\n",
              "      <td>13.0</td>\n",
              "      <td>23.0</td>\n",
              "    </tr>\n",
              "    <tr>\n",
              "      <th>35551</th>\n",
              "      <td>35552</td>\n",
              "      <td>11</td>\n",
              "      <td>2</td>\n",
              "      <td>2017</td>\n",
              "      <td>NaN</td>\n",
              "      <td>NF</td>\n",
              "      <td>M</td>\n",
              "      <td>15.0</td>\n",
              "      <td>25.0</td>\n",
              "    </tr>\n",
              "    <tr>\n",
              "      <th>35552</th>\n",
              "      <td>35553</td>\n",
              "      <td>9</td>\n",
              "      <td>23</td>\n",
              "      <td>2017</td>\n",
              "      <td>NaN</td>\n",
              "      <td>NL</td>\n",
              "      <td>F</td>\n",
              "      <td>14.0</td>\n",
              "      <td>NaN</td>\n",
              "    </tr>\n",
              "  </tbody>\n",
              "</table>\n",
              "<p>35553 rows × 9 columns</p>\n",
              "</div>"
            ],
            "text/plain": [
              "       record_id  month  day  year  ...  species_id  sex hindfoot_length  weight\n",
              "0              1      7   16  1977  ...          NL    M            32.0     NaN\n",
              "1              2      7   16  1977  ...          NL    M            33.0     NaN\n",
              "2              3      7   16  1977  ...          DM    F            37.0     NaN\n",
              "3              4      7   16  1977  ...          DM    M            36.0     NaN\n",
              "4              5      7   16  1977  ...          DM    M            35.0     NaN\n",
              "...          ...    ...  ...   ...  ...         ...  ...             ...     ...\n",
              "35548      35549     12   31  2002  ...         NaN  NaN             NaN     NaN\n",
              "35549      35550      4   27  2017  ...          NL    F            12.0    21.0\n",
              "35550      35551      3    7  2014  ...          NM    M            13.0    23.0\n",
              "35551      35552     11    2  2017  ...          NF    M            15.0    25.0\n",
              "35552      35553      9   23  2017  ...          NL    F            14.0     NaN\n",
              "\n",
              "[35553 rows x 9 columns]"
            ]
          },
          "metadata": {
            "tags": []
          },
          "execution_count": 47
        }
      ]
    },
    {
      "cell_type": "markdown",
      "metadata": {
        "id": "D4lgqpuYajwq"
      },
      "source": [
        "## Ahora vamos a agregar una columna.\n",
        "\n",
        "Note que en nuestro conjunto de datos tenemos las columnas día, mes y año. Vamos a crear una nueva columna que se llame *date* cuyas entradas sean el día + mes + año.\n",
        "\n",
        "Haremos lo siguiente:\n",
        "*  Crear un arreglo cuya entrada sea ```day-month-year``` de cada una de las filas.\n",
        "*  Luego crearemos una nueva columna en nuestro DataFrame que se llame *date* y cuyos valores sean el arreglo que creamos antes.\n",
        "> ```base_actualizada[\"date\"]=arreglo```"
      ]
    },
    {
      "cell_type": "code",
      "metadata": {
        "id": "l6q-AjvGPAID"
      },
      "source": [
        "arreglo = [str(base_actualizada.loc[i,\"day\"]) +\"-\"+str(base_actualizada.loc[i,\"month\"])+\"-\"+ str(base_actualizada.loc[i,\"year\"]) for i in range(len(base_actualizada))]\n",
        "#arreglo"
      ],
      "execution_count": null,
      "outputs": []
    },
    {
      "cell_type": "code",
      "metadata": {
        "id": "_ouPSdLkbxGL"
      },
      "source": [
        "base_actualizada[\"date\"]= arreglo\n"
      ],
      "execution_count": null,
      "outputs": []
    },
    {
      "cell_type": "code",
      "metadata": {
        "colab": {
          "base_uri": "https://localhost:8080/",
          "height": 402
        },
        "id": "8-rdwQnRcId4",
        "outputId": "adc61c92-177f-4dc5-c53b-df18bacf90bf"
      },
      "source": [
        "base_actualizada"
      ],
      "execution_count": null,
      "outputs": [
        {
          "output_type": "execute_result",
          "data": {
            "text/html": [
              "<div>\n",
              "<style scoped>\n",
              "    .dataframe tbody tr th:only-of-type {\n",
              "        vertical-align: middle;\n",
              "    }\n",
              "\n",
              "    .dataframe tbody tr th {\n",
              "        vertical-align: top;\n",
              "    }\n",
              "\n",
              "    .dataframe thead th {\n",
              "        text-align: right;\n",
              "    }\n",
              "</style>\n",
              "<table border=\"1\" class=\"dataframe\">\n",
              "  <thead>\n",
              "    <tr style=\"text-align: right;\">\n",
              "      <th></th>\n",
              "      <th>record_id</th>\n",
              "      <th>month</th>\n",
              "      <th>day</th>\n",
              "      <th>year</th>\n",
              "      <th>plot_id</th>\n",
              "      <th>species_id</th>\n",
              "      <th>sex</th>\n",
              "      <th>hindfoot_length</th>\n",
              "      <th>weight</th>\n",
              "      <th>date</th>\n",
              "    </tr>\n",
              "  </thead>\n",
              "  <tbody>\n",
              "    <tr>\n",
              "      <th>0</th>\n",
              "      <td>1</td>\n",
              "      <td>7</td>\n",
              "      <td>16</td>\n",
              "      <td>1977</td>\n",
              "      <td>2.0</td>\n",
              "      <td>NL</td>\n",
              "      <td>M</td>\n",
              "      <td>32.0</td>\n",
              "      <td>NaN</td>\n",
              "      <td>16-7-1977</td>\n",
              "    </tr>\n",
              "    <tr>\n",
              "      <th>1</th>\n",
              "      <td>2</td>\n",
              "      <td>7</td>\n",
              "      <td>16</td>\n",
              "      <td>1977</td>\n",
              "      <td>3.0</td>\n",
              "      <td>NL</td>\n",
              "      <td>M</td>\n",
              "      <td>33.0</td>\n",
              "      <td>NaN</td>\n",
              "      <td>16-7-1977</td>\n",
              "    </tr>\n",
              "    <tr>\n",
              "      <th>2</th>\n",
              "      <td>3</td>\n",
              "      <td>7</td>\n",
              "      <td>16</td>\n",
              "      <td>1977</td>\n",
              "      <td>2.0</td>\n",
              "      <td>DM</td>\n",
              "      <td>F</td>\n",
              "      <td>37.0</td>\n",
              "      <td>NaN</td>\n",
              "      <td>16-7-1977</td>\n",
              "    </tr>\n",
              "    <tr>\n",
              "      <th>3</th>\n",
              "      <td>4</td>\n",
              "      <td>7</td>\n",
              "      <td>16</td>\n",
              "      <td>1977</td>\n",
              "      <td>7.0</td>\n",
              "      <td>DM</td>\n",
              "      <td>M</td>\n",
              "      <td>36.0</td>\n",
              "      <td>NaN</td>\n",
              "      <td>16-7-1977</td>\n",
              "    </tr>\n",
              "    <tr>\n",
              "      <th>4</th>\n",
              "      <td>5</td>\n",
              "      <td>7</td>\n",
              "      <td>16</td>\n",
              "      <td>1977</td>\n",
              "      <td>3.0</td>\n",
              "      <td>DM</td>\n",
              "      <td>M</td>\n",
              "      <td>35.0</td>\n",
              "      <td>NaN</td>\n",
              "      <td>16-7-1977</td>\n",
              "    </tr>\n",
              "    <tr>\n",
              "      <th>...</th>\n",
              "      <td>...</td>\n",
              "      <td>...</td>\n",
              "      <td>...</td>\n",
              "      <td>...</td>\n",
              "      <td>...</td>\n",
              "      <td>...</td>\n",
              "      <td>...</td>\n",
              "      <td>...</td>\n",
              "      <td>...</td>\n",
              "      <td>...</td>\n",
              "    </tr>\n",
              "    <tr>\n",
              "      <th>35548</th>\n",
              "      <td>35549</td>\n",
              "      <td>12</td>\n",
              "      <td>31</td>\n",
              "      <td>2002</td>\n",
              "      <td>5.0</td>\n",
              "      <td>NaN</td>\n",
              "      <td>NaN</td>\n",
              "      <td>NaN</td>\n",
              "      <td>NaN</td>\n",
              "      <td>31-12-2002</td>\n",
              "    </tr>\n",
              "    <tr>\n",
              "      <th>35549</th>\n",
              "      <td>35550</td>\n",
              "      <td>4</td>\n",
              "      <td>27</td>\n",
              "      <td>2017</td>\n",
              "      <td>NaN</td>\n",
              "      <td>NL</td>\n",
              "      <td>F</td>\n",
              "      <td>12.0</td>\n",
              "      <td>21.0</td>\n",
              "      <td>27-4-2017</td>\n",
              "    </tr>\n",
              "    <tr>\n",
              "      <th>35550</th>\n",
              "      <td>35551</td>\n",
              "      <td>3</td>\n",
              "      <td>7</td>\n",
              "      <td>2014</td>\n",
              "      <td>NaN</td>\n",
              "      <td>NM</td>\n",
              "      <td>M</td>\n",
              "      <td>13.0</td>\n",
              "      <td>23.0</td>\n",
              "      <td>7-3-2014</td>\n",
              "    </tr>\n",
              "    <tr>\n",
              "      <th>35551</th>\n",
              "      <td>35552</td>\n",
              "      <td>11</td>\n",
              "      <td>2</td>\n",
              "      <td>2017</td>\n",
              "      <td>NaN</td>\n",
              "      <td>NF</td>\n",
              "      <td>M</td>\n",
              "      <td>15.0</td>\n",
              "      <td>25.0</td>\n",
              "      <td>2-11-2017</td>\n",
              "    </tr>\n",
              "    <tr>\n",
              "      <th>35552</th>\n",
              "      <td>35553</td>\n",
              "      <td>9</td>\n",
              "      <td>23</td>\n",
              "      <td>2017</td>\n",
              "      <td>NaN</td>\n",
              "      <td>NL</td>\n",
              "      <td>F</td>\n",
              "      <td>14.0</td>\n",
              "      <td>NaN</td>\n",
              "      <td>23-9-2017</td>\n",
              "    </tr>\n",
              "  </tbody>\n",
              "</table>\n",
              "<p>35553 rows × 10 columns</p>\n",
              "</div>"
            ],
            "text/plain": [
              "       record_id  month  day  year  ...  sex hindfoot_length weight        date\n",
              "0              1      7   16  1977  ...    M            32.0    NaN   16-7-1977\n",
              "1              2      7   16  1977  ...    M            33.0    NaN   16-7-1977\n",
              "2              3      7   16  1977  ...    F            37.0    NaN   16-7-1977\n",
              "3              4      7   16  1977  ...    M            36.0    NaN   16-7-1977\n",
              "4              5      7   16  1977  ...    M            35.0    NaN   16-7-1977\n",
              "...          ...    ...  ...   ...  ...  ...             ...    ...         ...\n",
              "35548      35549     12   31  2002  ...  NaN             NaN    NaN  31-12-2002\n",
              "35549      35550      4   27  2017  ...    F            12.0   21.0   27-4-2017\n",
              "35550      35551      3    7  2014  ...    M            13.0   23.0    7-3-2014\n",
              "35551      35552     11    2  2017  ...    M            15.0   25.0   2-11-2017\n",
              "35552      35553      9   23  2017  ...    F            14.0    NaN   23-9-2017\n",
              "\n",
              "[35553 rows x 10 columns]"
            ]
          },
          "metadata": {
            "tags": []
          },
          "execution_count": 52
        }
      ]
    },
    {
      "cell_type": "markdown",
      "metadata": {
        "id": "QrpMzMiCsNro"
      },
      "source": [
        "#  **Agrupando datos**\n",
        "\n",
        "Python tiene una herramienta que nos permite hacer agrupación de datos de acuerdo a algún valor. \n",
        "\n",
        "Como nuestros objetivos están planteados para ser respondidos por cada especie, debemos agrupar nuestro conjuntos de datos según la columna *species_id*.\n",
        "\n",
        "> ```df.groupby('columna')```\n",
        "\n",
        "Para más información pueden consultar [aquí.](https://pandas.pydata.org/pandas-docs/stable/reference/api/pandas.DataFrame.groupby.html)"
      ]
    },
    {
      "cell_type": "code",
      "metadata": {
        "colab": {
          "base_uri": "https://localhost:8080/"
        },
        "id": "tY-OboUpum-K",
        "outputId": "ce9811cb-5233-4542-df89-4555b04595dc"
      },
      "source": [
        "base_actualizada.groupby('species_id')"
      ],
      "execution_count": null,
      "outputs": [
        {
          "output_type": "execute_result",
          "data": {
            "text/plain": [
              "<pandas.core.groupby.generic.DataFrameGroupBy object at 0x7f5e72188ed0>"
            ]
          },
          "metadata": {
            "tags": []
          },
          "execution_count": 53
        }
      ]
    },
    {
      "cell_type": "markdown",
      "metadata": {
        "id": "w8soxTFfvNtk"
      },
      "source": [
        "El anterior código nos da un objeto que agrupa los datos. Con esto podemos (por ejemplo) calcular la media agrupada por especies."
      ]
    },
    {
      "cell_type": "code",
      "metadata": {
        "colab": {
          "base_uri": "https://localhost:8080/",
          "height": 1000
        },
        "id": "PY-nSWvOveMb",
        "outputId": "130d4ccd-0655-4622-fa7d-797fd98ce6f1"
      },
      "source": [
        "base_actualizada.groupby(['species_id', \"sex\"])[['weight', \"hindfoot_length\"]].mean()\n",
        "#base_actualizada.groupby('species_id')[['weight']].apply(np.mean)"
      ],
      "execution_count": null,
      "outputs": [
        {
          "output_type": "execute_result",
          "data": {
            "text/html": [
              "<div>\n",
              "<style scoped>\n",
              "    .dataframe tbody tr th:only-of-type {\n",
              "        vertical-align: middle;\n",
              "    }\n",
              "\n",
              "    .dataframe tbody tr th {\n",
              "        vertical-align: top;\n",
              "    }\n",
              "\n",
              "    .dataframe thead th {\n",
              "        text-align: right;\n",
              "    }\n",
              "</style>\n",
              "<table border=\"1\" class=\"dataframe\">\n",
              "  <thead>\n",
              "    <tr style=\"text-align: right;\">\n",
              "      <th></th>\n",
              "      <th></th>\n",
              "      <th>weight</th>\n",
              "      <th>hindfoot_length</th>\n",
              "    </tr>\n",
              "    <tr>\n",
              "      <th>species_id</th>\n",
              "      <th>sex</th>\n",
              "      <th></th>\n",
              "      <th></th>\n",
              "    </tr>\n",
              "  </thead>\n",
              "  <tbody>\n",
              "    <tr>\n",
              "      <th>AH</th>\n",
              "      <th>M</th>\n",
              "      <td>NaN</td>\n",
              "      <td>NaN</td>\n",
              "    </tr>\n",
              "    <tr>\n",
              "      <th rowspan=\"2\" valign=\"top\">BA</th>\n",
              "      <th>F</th>\n",
              "      <td>9.161290</td>\n",
              "      <td>13.161290</td>\n",
              "    </tr>\n",
              "    <tr>\n",
              "      <th>M</th>\n",
              "      <td>7.357143</td>\n",
              "      <td>12.642857</td>\n",
              "    </tr>\n",
              "    <tr>\n",
              "      <th rowspan=\"6\" valign=\"top\">DM</th>\n",
              "      <th>F</th>\n",
              "      <td>41.611174</td>\n",
              "      <td>35.713355</td>\n",
              "    </tr>\n",
              "    <tr>\n",
              "      <th>Fem</th>\n",
              "      <td>NaN</td>\n",
              "      <td>36.000000</td>\n",
              "    </tr>\n",
              "    <tr>\n",
              "      <th>Ff</th>\n",
              "      <td>NaN</td>\n",
              "      <td>35.000000</td>\n",
              "    </tr>\n",
              "    <tr>\n",
              "      <th>Fff</th>\n",
              "      <td>35.000000</td>\n",
              "      <td>34.000000</td>\n",
              "    </tr>\n",
              "    <tr>\n",
              "      <th>M</th>\n",
              "      <td>44.353711</td>\n",
              "      <td>36.188262</td>\n",
              "    </tr>\n",
              "    <tr>\n",
              "      <th>Ma</th>\n",
              "      <td>41.000000</td>\n",
              "      <td>36.000000</td>\n",
              "    </tr>\n",
              "    <tr>\n",
              "      <th rowspan=\"2\" valign=\"top\">DO</th>\n",
              "      <th>F</th>\n",
              "      <td>48.531250</td>\n",
              "      <td>35.486334</td>\n",
              "    </tr>\n",
              "    <tr>\n",
              "      <th>M</th>\n",
              "      <td>49.135102</td>\n",
              "      <td>35.698780</td>\n",
              "    </tr>\n",
              "    <tr>\n",
              "      <th rowspan=\"4\" valign=\"top\">DS</th>\n",
              "      <th>F</th>\n",
              "      <td>117.749548</td>\n",
              "      <td>49.586603</td>\n",
              "    </tr>\n",
              "    <tr>\n",
              "      <th>Ff</th>\n",
              "      <td>NaN</td>\n",
              "      <td>46.000000</td>\n",
              "    </tr>\n",
              "    <tr>\n",
              "      <th>M</th>\n",
              "      <td>122.290984</td>\n",
              "      <td>50.303142</td>\n",
              "    </tr>\n",
              "    <tr>\n",
              "      <th>Mm</th>\n",
              "      <td>NaN</td>\n",
              "      <td>49.000000</td>\n",
              "    </tr>\n",
              "    <tr>\n",
              "      <th>NF</th>\n",
              "      <th>M</th>\n",
              "      <td>25.000000</td>\n",
              "      <td>15.000000</td>\n",
              "    </tr>\n",
              "    <tr>\n",
              "      <th rowspan=\"2\" valign=\"top\">NL</th>\n",
              "      <th>F</th>\n",
              "      <td>154.078101</td>\n",
              "      <td>31.963023</td>\n",
              "    </tr>\n",
              "    <tr>\n",
              "      <th>M</th>\n",
              "      <td>165.652893</td>\n",
              "      <td>32.577434</td>\n",
              "    </tr>\n",
              "    <tr>\n",
              "      <th>NM</th>\n",
              "      <th>M</th>\n",
              "      <td>23.000000</td>\n",
              "      <td>13.000000</td>\n",
              "    </tr>\n",
              "    <tr>\n",
              "      <th rowspan=\"2\" valign=\"top\">OL</th>\n",
              "      <th>F</th>\n",
              "      <td>31.065817</td>\n",
              "      <td>20.287671</td>\n",
              "    </tr>\n",
              "    <tr>\n",
              "      <th>M</th>\n",
              "      <td>32.068410</td>\n",
              "      <td>20.758333</td>\n",
              "    </tr>\n",
              "    <tr>\n",
              "      <th rowspan=\"2\" valign=\"top\">OT</th>\n",
              "      <th>F</th>\n",
              "      <td>24.830904</td>\n",
              "      <td>20.281649</td>\n",
              "    </tr>\n",
              "    <tr>\n",
              "      <th>M</th>\n",
              "      <td>23.695382</td>\n",
              "      <td>20.257399</td>\n",
              "    </tr>\n",
              "    <tr>\n",
              "      <th rowspan=\"2\" valign=\"top\">OX</th>\n",
              "      <th>F</th>\n",
              "      <td>21.000000</td>\n",
              "      <td>19.666667</td>\n",
              "    </tr>\n",
              "    <tr>\n",
              "      <th>M</th>\n",
              "      <td>21.000000</td>\n",
              "      <td>18.800000</td>\n",
              "    </tr>\n",
              "    <tr>\n",
              "      <th rowspan=\"2\" valign=\"top\">PB</th>\n",
              "      <th>F</th>\n",
              "      <td>30.210884</td>\n",
              "      <td>25.882675</td>\n",
              "    </tr>\n",
              "    <tr>\n",
              "      <th>M</th>\n",
              "      <td>33.816498</td>\n",
              "      <td>26.431987</td>\n",
              "    </tr>\n",
              "    <tr>\n",
              "      <th rowspan=\"2\" valign=\"top\">PE</th>\n",
              "      <th>F</th>\n",
              "      <td>22.822183</td>\n",
              "      <td>20.272059</td>\n",
              "    </tr>\n",
              "    <tr>\n",
              "      <th>M</th>\n",
              "      <td>20.584906</td>\n",
              "      <td>20.132132</td>\n",
              "    </tr>\n",
              "    <tr>\n",
              "      <th rowspan=\"2\" valign=\"top\">PF</th>\n",
              "      <th>F</th>\n",
              "      <td>7.974394</td>\n",
              "      <td>15.550624</td>\n",
              "    </tr>\n",
              "    <tr>\n",
              "      <th>M</th>\n",
              "      <td>7.885287</td>\n",
              "      <td>15.620779</td>\n",
              "    </tr>\n",
              "    <tr>\n",
              "      <th rowspan=\"2\" valign=\"top\">PH</th>\n",
              "      <th>F</th>\n",
              "      <td>30.850000</td>\n",
              "      <td>25.900000</td>\n",
              "    </tr>\n",
              "    <tr>\n",
              "      <th>M</th>\n",
              "      <td>31.454545</td>\n",
              "      <td>25.545455</td>\n",
              "    </tr>\n",
              "    <tr>\n",
              "      <th>PI</th>\n",
              "      <th>M</th>\n",
              "      <td>19.428571</td>\n",
              "      <td>22.500000</td>\n",
              "    </tr>\n",
              "    <tr>\n",
              "      <th rowspan=\"2\" valign=\"top\">PL</th>\n",
              "      <th>F</th>\n",
              "      <td>19.312500</td>\n",
              "      <td>19.750000</td>\n",
              "    </tr>\n",
              "    <tr>\n",
              "      <th>M</th>\n",
              "      <td>18.684211</td>\n",
              "      <td>20.263158</td>\n",
              "    </tr>\n",
              "    <tr>\n",
              "      <th rowspan=\"2\" valign=\"top\">PM</th>\n",
              "      <th>F</th>\n",
              "      <td>22.125668</td>\n",
              "      <td>20.279778</td>\n",
              "    </tr>\n",
              "    <tr>\n",
              "      <th>M</th>\n",
              "      <td>20.801205</td>\n",
              "      <td>20.530021</td>\n",
              "    </tr>\n",
              "    <tr>\n",
              "      <th rowspan=\"2\" valign=\"top\">PP</th>\n",
              "      <th>F</th>\n",
              "      <td>17.180670</td>\n",
              "      <td>21.676620</td>\n",
              "    </tr>\n",
              "    <tr>\n",
              "      <th>M</th>\n",
              "      <td>17.184486</td>\n",
              "      <td>21.838643</td>\n",
              "    </tr>\n",
              "    <tr>\n",
              "      <th rowspan=\"2\" valign=\"top\">PX</th>\n",
              "      <th>F</th>\n",
              "      <td>20.000000</td>\n",
              "      <td>19.000000</td>\n",
              "    </tr>\n",
              "    <tr>\n",
              "      <th>M</th>\n",
              "      <td>18.000000</td>\n",
              "      <td>20.000000</td>\n",
              "    </tr>\n",
              "    <tr>\n",
              "      <th rowspan=\"2\" valign=\"top\">RF</th>\n",
              "      <th>F</th>\n",
              "      <td>13.684211</td>\n",
              "      <td>17.527273</td>\n",
              "    </tr>\n",
              "    <tr>\n",
              "      <th>M</th>\n",
              "      <td>12.444444</td>\n",
              "      <td>17.500000</td>\n",
              "    </tr>\n",
              "    <tr>\n",
              "      <th rowspan=\"3\" valign=\"top\">RM</th>\n",
              "      <th>F</th>\n",
              "      <td>11.102196</td>\n",
              "      <td>16.391880</td>\n",
              "    </tr>\n",
              "    <tr>\n",
              "      <th>M</th>\n",
              "      <td>10.121076</td>\n",
              "      <td>16.490347</td>\n",
              "    </tr>\n",
              "    <tr>\n",
              "      <th>MM</th>\n",
              "      <td>13.000000</td>\n",
              "      <td>18.000000</td>\n",
              "    </tr>\n",
              "    <tr>\n",
              "      <th rowspan=\"2\" valign=\"top\">RO</th>\n",
              "      <th>F</th>\n",
              "      <td>11.000000</td>\n",
              "      <td>14.750000</td>\n",
              "    </tr>\n",
              "    <tr>\n",
              "      <th>M</th>\n",
              "      <td>9.500000</td>\n",
              "      <td>16.000000</td>\n",
              "    </tr>\n",
              "    <tr>\n",
              "      <th>RX</th>\n",
              "      <th>M</th>\n",
              "      <td>15.500000</td>\n",
              "      <td>18.500000</td>\n",
              "    </tr>\n",
              "    <tr>\n",
              "      <th rowspan=\"2\" valign=\"top\">SF</th>\n",
              "      <th>F</th>\n",
              "      <td>69.000000</td>\n",
              "      <td>27.500000</td>\n",
              "    </tr>\n",
              "    <tr>\n",
              "      <th>M</th>\n",
              "      <td>53.434783</td>\n",
              "      <td>26.347826</td>\n",
              "    </tr>\n",
              "    <tr>\n",
              "      <th rowspan=\"2\" valign=\"top\">SH</th>\n",
              "      <th>F</th>\n",
              "      <td>78.756410</td>\n",
              "      <td>29.028169</td>\n",
              "    </tr>\n",
              "    <tr>\n",
              "      <th>M</th>\n",
              "      <td>65.177419</td>\n",
              "      <td>27.983333</td>\n",
              "    </tr>\n",
              "    <tr>\n",
              "      <th rowspan=\"2\" valign=\"top\">SO</th>\n",
              "      <th>F</th>\n",
              "      <td>55.322581</td>\n",
              "      <td>25.633333</td>\n",
              "    </tr>\n",
              "    <tr>\n",
              "      <th>M</th>\n",
              "      <td>55.700000</td>\n",
              "      <td>25.727273</td>\n",
              "    </tr>\n",
              "    <tr>\n",
              "      <th rowspan=\"2\" valign=\"top\">SS</th>\n",
              "      <th>F</th>\n",
              "      <td>57.000000</td>\n",
              "      <td>NaN</td>\n",
              "    </tr>\n",
              "    <tr>\n",
              "      <th>M</th>\n",
              "      <td>130.000000</td>\n",
              "      <td>NaN</td>\n",
              "    </tr>\n",
              "  </tbody>\n",
              "</table>\n",
              "</div>"
            ],
            "text/plain": [
              "                    weight  hindfoot_length\n",
              "species_id sex                             \n",
              "AH         M           NaN              NaN\n",
              "BA         F      9.161290        13.161290\n",
              "           M      7.357143        12.642857\n",
              "DM         F     41.611174        35.713355\n",
              "           Fem         NaN        36.000000\n",
              "           Ff          NaN        35.000000\n",
              "           Fff   35.000000        34.000000\n",
              "           M     44.353711        36.188262\n",
              "           Ma    41.000000        36.000000\n",
              "DO         F     48.531250        35.486334\n",
              "           M     49.135102        35.698780\n",
              "DS         F    117.749548        49.586603\n",
              "           Ff          NaN        46.000000\n",
              "           M    122.290984        50.303142\n",
              "           Mm          NaN        49.000000\n",
              "NF         M     25.000000        15.000000\n",
              "NL         F    154.078101        31.963023\n",
              "           M    165.652893        32.577434\n",
              "NM         M     23.000000        13.000000\n",
              "OL         F     31.065817        20.287671\n",
              "           M     32.068410        20.758333\n",
              "OT         F     24.830904        20.281649\n",
              "           M     23.695382        20.257399\n",
              "OX         F     21.000000        19.666667\n",
              "           M     21.000000        18.800000\n",
              "PB         F     30.210884        25.882675\n",
              "           M     33.816498        26.431987\n",
              "PE         F     22.822183        20.272059\n",
              "           M     20.584906        20.132132\n",
              "PF         F      7.974394        15.550624\n",
              "           M      7.885287        15.620779\n",
              "PH         F     30.850000        25.900000\n",
              "           M     31.454545        25.545455\n",
              "PI         M     19.428571        22.500000\n",
              "PL         F     19.312500        19.750000\n",
              "           M     18.684211        20.263158\n",
              "PM         F     22.125668        20.279778\n",
              "           M     20.801205        20.530021\n",
              "PP         F     17.180670        21.676620\n",
              "           M     17.184486        21.838643\n",
              "PX         F     20.000000        19.000000\n",
              "           M     18.000000        20.000000\n",
              "RF         F     13.684211        17.527273\n",
              "           M     12.444444        17.500000\n",
              "RM         F     11.102196        16.391880\n",
              "           M     10.121076        16.490347\n",
              "           MM    13.000000        18.000000\n",
              "RO         F     11.000000        14.750000\n",
              "           M      9.500000        16.000000\n",
              "RX         M     15.500000        18.500000\n",
              "SF         F     69.000000        27.500000\n",
              "           M     53.434783        26.347826\n",
              "SH         F     78.756410        29.028169\n",
              "           M     65.177419        27.983333\n",
              "SO         F     55.322581        25.633333\n",
              "           M     55.700000        25.727273\n",
              "SS         F     57.000000              NaN\n",
              "           M    130.000000              NaN"
            ]
          },
          "metadata": {
            "tags": []
          },
          "execution_count": 57
        }
      ]
    },
    {
      "cell_type": "markdown",
      "metadata": {
        "id": "Tv-RZW9SdBJq"
      },
      "source": [
        "#  **6. Tipos de datos.**\n",
        "\n",
        "Python maneja varios tipos de datos. Algunos de los más usados son:\n",
        "*  *int64*: dato tipo entero, es decir, número entero, e.g., 1, 2, 3,... \n",
        "*  *float64*: dato tipo flotante, es decir, un número real, e.g., $ \\pi $, 2.54, 3/4.\n",
        "*   *object*: este tipo de dato representa una cadena o un número escrito como una cadena. Por ejemplo \"3,14\", \"hola\".\n",
        "*   *datetime64[ns]*: datos tipo fecha.\n",
        "\n",
        "\n",
        "¿Cómo podemos saber qué tipo de datos tiene nuestro DataFrame?"
      ]
    },
    {
      "cell_type": "code",
      "metadata": {
        "colab": {
          "base_uri": "https://localhost:8080/"
        },
        "id": "KYnqSDElQjcO",
        "outputId": "71362f9a-d8d5-490a-e513-632aa98a166e"
      },
      "source": [
        "base_actualizada.info()"
      ],
      "execution_count": null,
      "outputs": [
        {
          "output_type": "stream",
          "text": [
            "<class 'pandas.core.frame.DataFrame'>\n",
            "RangeIndex: 35553 entries, 0 to 35552\n",
            "Data columns (total 10 columns):\n",
            " #   Column           Non-Null Count  Dtype  \n",
            "---  ------           --------------  -----  \n",
            " 0   record_id        35553 non-null  int64  \n",
            " 1   month            35553 non-null  int64  \n",
            " 2   day              35553 non-null  int64  \n",
            " 3   year             35553 non-null  int64  \n",
            " 4   plot_id          35549 non-null  float64\n",
            " 5   species_id       34790 non-null  object \n",
            " 6   sex              33042 non-null  object \n",
            " 7   hindfoot_length  31442 non-null  float64\n",
            " 8   weight           32286 non-null  float64\n",
            " 9   date             35553 non-null  object \n",
            "dtypes: float64(3), int64(4), object(3)\n",
            "memory usage: 2.7+ MB\n"
          ],
          "name": "stdout"
        }
      ]
    },
    {
      "cell_type": "markdown",
      "metadata": {
        "id": "eqz8Y7u_luN7"
      },
      "source": [
        "##  Qué significa el 64 de int 64???"
      ]
    },
    {
      "cell_type": "code",
      "metadata": {
        "colab": {
          "base_uri": "https://localhost:8080/"
        },
        "id": "5esj_VL4jgBK",
        "outputId": "336185dc-4099-4f81-98cc-c420637b580a"
      },
      "source": [
        "base_actualizada.dtypes"
      ],
      "execution_count": null,
      "outputs": [
        {
          "output_type": "execute_result",
          "data": {
            "text/plain": [
              "record_id            int64\n",
              "month                int64\n",
              "day                  int64\n",
              "year                 int64\n",
              "plot_id            float64\n",
              "species_id          object\n",
              "sex                 object\n",
              "hindfoot_length    float64\n",
              "weight             float64\n",
              "date                object\n",
              "dtype: object"
            ]
          },
          "metadata": {
            "tags": []
          },
          "execution_count": 60
        }
      ]
    },
    {
      "cell_type": "code",
      "metadata": {
        "colab": {
          "base_uri": "https://localhost:8080/",
          "height": 47
        },
        "id": "eVGsCzVbjHcl",
        "outputId": "0ec0204c-1ade-462e-b5d1-2ff0b361a062"
      },
      "source": [
        "base_actualizada.loc[base_actualizada[\"date\"]==\"31-4-2000\"]"
      ],
      "execution_count": null,
      "outputs": [
        {
          "output_type": "execute_result",
          "data": {
            "text/html": [
              "<div>\n",
              "<style scoped>\n",
              "    .dataframe tbody tr th:only-of-type {\n",
              "        vertical-align: middle;\n",
              "    }\n",
              "\n",
              "    .dataframe tbody tr th {\n",
              "        vertical-align: top;\n",
              "    }\n",
              "\n",
              "    .dataframe thead th {\n",
              "        text-align: right;\n",
              "    }\n",
              "</style>\n",
              "<table border=\"1\" class=\"dataframe\">\n",
              "  <thead>\n",
              "    <tr style=\"text-align: right;\">\n",
              "      <th></th>\n",
              "      <th>record_id</th>\n",
              "      <th>month</th>\n",
              "      <th>day</th>\n",
              "      <th>year</th>\n",
              "      <th>plot_id</th>\n",
              "      <th>species_id</th>\n",
              "      <th>sex</th>\n",
              "      <th>hindfoot_length</th>\n",
              "      <th>weight</th>\n",
              "      <th>date</th>\n",
              "    </tr>\n",
              "  </thead>\n",
              "  <tbody>\n",
              "  </tbody>\n",
              "</table>\n",
              "</div>"
            ],
            "text/plain": [
              "Empty DataFrame\n",
              "Columns: [record_id, month, day, year, plot_id, species_id, sex, hindfoot_length, weight, date]\n",
              "Index: []"
            ]
          },
          "metadata": {
            "tags": []
          },
          "execution_count": 68
        }
      ]
    },
    {
      "cell_type": "markdown",
      "metadata": {
        "id": "hR3NY7n4jqas"
      },
      "source": [
        "## ¿Y si quiero convertir un dato de un tipo a otro?\n",
        "\n",
        "*  Para convertir una columna que tenga la estructura de fechas usamos el comando ``` pd.to_datetime(base_actualizada['fecha'])```\n",
        "\n",
        "\n",
        "Para más información ver [aquí.](https://pandas.pydata.org/pandas-docs/stable/reference/api/pandas.to_datetime.html)"
      ]
    },
    {
      "cell_type": "code",
      "metadata": {
        "colab": {
          "base_uri": "https://localhost:8080/"
        },
        "id": "L3yYnC_QkRiF",
        "outputId": "bc209a9c-6b75-43fe-aa06-30772fad855e"
      },
      "source": [
        "pd.to_datetime(base_actualizada['date'])"
      ],
      "execution_count": null,
      "outputs": [
        {
          "output_type": "execute_result",
          "data": {
            "text/plain": [
              "0       1977-07-16\n",
              "1       1977-07-16\n",
              "2       1977-07-16\n",
              "3       1977-07-16\n",
              "4       1977-07-16\n",
              "           ...    \n",
              "35548   2002-12-31\n",
              "35549   2017-04-27\n",
              "35550   2014-07-03\n",
              "35551   2017-02-11\n",
              "35552   2017-09-23\n",
              "Name: date, Length: 35553, dtype: datetime64[ns]"
            ]
          },
          "metadata": {
            "tags": []
          },
          "execution_count": 61
        }
      ]
    },
    {
      "cell_type": "code",
      "metadata": {
        "colab": {
          "base_uri": "https://localhost:8080/"
        },
        "id": "qAL-FkuRkxTv",
        "outputId": "527bfdd9-8370-4c50-b700-c8ff1d76256b"
      },
      "source": [
        "base_actualizada.dtypes"
      ],
      "execution_count": null,
      "outputs": [
        {
          "output_type": "execute_result",
          "data": {
            "text/plain": [
              "record_id            int64\n",
              "month                int64\n",
              "day                  int64\n",
              "year                 int64\n",
              "plot_id            float64\n",
              "species_id          object\n",
              "sex                 object\n",
              "hindfoot_length    float64\n",
              "weight             float64\n",
              "date                object\n",
              "dtype: object"
            ]
          },
          "metadata": {
            "tags": []
          },
          "execution_count": 62
        }
      ]
    },
    {
      "cell_type": "code",
      "metadata": {
        "id": "ookYtk2Xk04L"
      },
      "source": [
        "base_actualizada['date'] = pd.to_datetime(base_actualizada['date'])"
      ],
      "execution_count": null,
      "outputs": []
    },
    {
      "cell_type": "code",
      "metadata": {
        "colab": {
          "base_uri": "https://localhost:8080/"
        },
        "id": "8nv9wc8Wk54k",
        "outputId": "235a0f9c-c840-47e0-f734-f25120169800"
      },
      "source": [
        "base_actualizada.info()"
      ],
      "execution_count": null,
      "outputs": [
        {
          "output_type": "stream",
          "text": [
            "<class 'pandas.core.frame.DataFrame'>\n",
            "RangeIndex: 35553 entries, 0 to 35552\n",
            "Data columns (total 10 columns):\n",
            " #   Column           Non-Null Count  Dtype         \n",
            "---  ------           --------------  -----         \n",
            " 0   record_id        35553 non-null  int64         \n",
            " 1   month            35553 non-null  int64         \n",
            " 2   day              35553 non-null  int64         \n",
            " 3   year             35553 non-null  int64         \n",
            " 4   plot_id          35549 non-null  float64       \n",
            " 5   species_id       34790 non-null  object        \n",
            " 6   sex              33042 non-null  object        \n",
            " 7   hindfoot_length  31442 non-null  float64       \n",
            " 8   weight           32286 non-null  float64       \n",
            " 9   date             35553 non-null  datetime64[ns]\n",
            "dtypes: datetime64[ns](1), float64(3), int64(4), object(2)\n",
            "memory usage: 2.7+ MB\n"
          ],
          "name": "stdout"
        }
      ]
    },
    {
      "cell_type": "markdown",
      "metadata": {
        "id": "ftgtL48rlOuX"
      },
      "source": [
        "*  Para convertir una columna de tipo int64 a float64 usamos el comando ```df['columna'].astype('float64')```\n",
        "\n",
        "\n",
        "Para más ver [aquí.](https://pandas.pydata.org/pandas-docs/stable/reference/api/pandas.DataFrame.astype.html#pandas.DataFrame.astype)"
      ]
    },
    {
      "cell_type": "code",
      "metadata": {
        "colab": {
          "base_uri": "https://localhost:8080/"
        },
        "id": "EpR7_jv5qQBx",
        "outputId": "4d134616-6e1c-4ee7-e383-133bad44e601"
      },
      "source": [
        "base_actualizada.month.astype('float64')\n",
        "base_actualizada[\"month\"].astype('float64')"
      ],
      "execution_count": null,
      "outputs": [
        {
          "output_type": "execute_result",
          "data": {
            "text/plain": [
              "0         7.0\n",
              "1         7.0\n",
              "2         7.0\n",
              "3         7.0\n",
              "4         7.0\n",
              "         ... \n",
              "35548    12.0\n",
              "35549     4.0\n",
              "35550     3.0\n",
              "35551    11.0\n",
              "35552     9.0\n",
              "Name: month, Length: 35553, dtype: float64"
            ]
          },
          "metadata": {
            "tags": []
          },
          "execution_count": 70
        }
      ]
    },
    {
      "cell_type": "markdown",
      "metadata": {
        "id": "_h9-0YCAdFUf"
      },
      "source": [
        "De nuestra columna *date* en formato *datetime64[ns]* podemos obtener toda la información como mes, día, año e inclusive hora o minutos (si nuestra base tuviera dicha información).\n",
        "\n",
        "Para ver el mes basta hacer ```df['date'].month```"
      ]
    },
    {
      "cell_type": "code",
      "metadata": {
        "colab": {
          "base_uri": "https://localhost:8080/"
        },
        "id": "aJoS-eoIrIEc",
        "outputId": "768e9275-7e73-47a3-a595-e191eb870166"
      },
      "source": [
        "base_actualizada.loc[2,'date'].year"
      ],
      "execution_count": null,
      "outputs": [
        {
          "output_type": "execute_result",
          "data": {
            "text/plain": [
              "1977"
            ]
          },
          "metadata": {
            "tags": []
          },
          "execution_count": 71
        }
      ]
    },
    {
      "cell_type": "code",
      "metadata": {
        "colab": {
          "base_uri": "https://localhost:8080/"
        },
        "id": "9n_w9vQ5rebF",
        "outputId": "b61295e6-106e-4cac-ec80-85984a4b1d1b"
      },
      "source": [
        "base_actualizada.loc[2,'date']"
      ],
      "execution_count": null,
      "outputs": [
        {
          "output_type": "execute_result",
          "data": {
            "text/plain": [
              "Timestamp('1977-07-16 00:00:00')"
            ]
          },
          "metadata": {
            "tags": []
          },
          "execution_count": 72
        }
      ]
    },
    {
      "cell_type": "markdown",
      "metadata": {
        "id": "a_5KutObr6iR"
      },
      "source": [
        "Teniendo en cuenta esto podemos quitar las columnas *month*, *day* y *year* de nuestro DataFrame. Para esto hacemos\n",
        "\n",
        "> ```df.drop(columns = ['column1', 'column2'])```\n",
        "\n",
        "Si queremos quitar algunas filas, usamos el índice de estas filas\n",
        "\n",
        "> ```df.drop([1,4,5])```"
      ]
    },
    {
      "cell_type": "code",
      "metadata": {
        "colab": {
          "base_uri": "https://localhost:8080/",
          "height": 402
        },
        "id": "ENYaJBe5slZR",
        "outputId": "7eb9f8ef-459d-4549-c17a-0b09d1144e41"
      },
      "source": [
        "base_actualizada"
      ],
      "execution_count": null,
      "outputs": [
        {
          "output_type": "execute_result",
          "data": {
            "text/html": [
              "<div>\n",
              "<style scoped>\n",
              "    .dataframe tbody tr th:only-of-type {\n",
              "        vertical-align: middle;\n",
              "    }\n",
              "\n",
              "    .dataframe tbody tr th {\n",
              "        vertical-align: top;\n",
              "    }\n",
              "\n",
              "    .dataframe thead th {\n",
              "        text-align: right;\n",
              "    }\n",
              "</style>\n",
              "<table border=\"1\" class=\"dataframe\">\n",
              "  <thead>\n",
              "    <tr style=\"text-align: right;\">\n",
              "      <th></th>\n",
              "      <th>record_id</th>\n",
              "      <th>month</th>\n",
              "      <th>day</th>\n",
              "      <th>year</th>\n",
              "      <th>plot_id</th>\n",
              "      <th>species_id</th>\n",
              "      <th>sex</th>\n",
              "      <th>hindfoot_length</th>\n",
              "      <th>weight</th>\n",
              "      <th>date</th>\n",
              "    </tr>\n",
              "  </thead>\n",
              "  <tbody>\n",
              "    <tr>\n",
              "      <th>0</th>\n",
              "      <td>1</td>\n",
              "      <td>7</td>\n",
              "      <td>16</td>\n",
              "      <td>1977</td>\n",
              "      <td>2.0</td>\n",
              "      <td>NL</td>\n",
              "      <td>M</td>\n",
              "      <td>32.0</td>\n",
              "      <td>NaN</td>\n",
              "      <td>1977-07-16</td>\n",
              "    </tr>\n",
              "    <tr>\n",
              "      <th>1</th>\n",
              "      <td>2</td>\n",
              "      <td>7</td>\n",
              "      <td>16</td>\n",
              "      <td>1977</td>\n",
              "      <td>3.0</td>\n",
              "      <td>NL</td>\n",
              "      <td>M</td>\n",
              "      <td>33.0</td>\n",
              "      <td>NaN</td>\n",
              "      <td>1977-07-16</td>\n",
              "    </tr>\n",
              "    <tr>\n",
              "      <th>2</th>\n",
              "      <td>3</td>\n",
              "      <td>7</td>\n",
              "      <td>16</td>\n",
              "      <td>1977</td>\n",
              "      <td>2.0</td>\n",
              "      <td>DM</td>\n",
              "      <td>F</td>\n",
              "      <td>37.0</td>\n",
              "      <td>NaN</td>\n",
              "      <td>1977-07-16</td>\n",
              "    </tr>\n",
              "    <tr>\n",
              "      <th>3</th>\n",
              "      <td>4</td>\n",
              "      <td>7</td>\n",
              "      <td>16</td>\n",
              "      <td>1977</td>\n",
              "      <td>7.0</td>\n",
              "      <td>DM</td>\n",
              "      <td>M</td>\n",
              "      <td>36.0</td>\n",
              "      <td>NaN</td>\n",
              "      <td>1977-07-16</td>\n",
              "    </tr>\n",
              "    <tr>\n",
              "      <th>4</th>\n",
              "      <td>5</td>\n",
              "      <td>7</td>\n",
              "      <td>16</td>\n",
              "      <td>1977</td>\n",
              "      <td>3.0</td>\n",
              "      <td>DM</td>\n",
              "      <td>M</td>\n",
              "      <td>35.0</td>\n",
              "      <td>NaN</td>\n",
              "      <td>1977-07-16</td>\n",
              "    </tr>\n",
              "    <tr>\n",
              "      <th>...</th>\n",
              "      <td>...</td>\n",
              "      <td>...</td>\n",
              "      <td>...</td>\n",
              "      <td>...</td>\n",
              "      <td>...</td>\n",
              "      <td>...</td>\n",
              "      <td>...</td>\n",
              "      <td>...</td>\n",
              "      <td>...</td>\n",
              "      <td>...</td>\n",
              "    </tr>\n",
              "    <tr>\n",
              "      <th>35548</th>\n",
              "      <td>35549</td>\n",
              "      <td>12</td>\n",
              "      <td>31</td>\n",
              "      <td>2002</td>\n",
              "      <td>5.0</td>\n",
              "      <td>NaN</td>\n",
              "      <td>NaN</td>\n",
              "      <td>NaN</td>\n",
              "      <td>NaN</td>\n",
              "      <td>2002-12-31</td>\n",
              "    </tr>\n",
              "    <tr>\n",
              "      <th>35549</th>\n",
              "      <td>35550</td>\n",
              "      <td>4</td>\n",
              "      <td>27</td>\n",
              "      <td>2017</td>\n",
              "      <td>NaN</td>\n",
              "      <td>NL</td>\n",
              "      <td>F</td>\n",
              "      <td>12.0</td>\n",
              "      <td>21.0</td>\n",
              "      <td>2017-04-27</td>\n",
              "    </tr>\n",
              "    <tr>\n",
              "      <th>35550</th>\n",
              "      <td>35551</td>\n",
              "      <td>3</td>\n",
              "      <td>7</td>\n",
              "      <td>2014</td>\n",
              "      <td>NaN</td>\n",
              "      <td>NM</td>\n",
              "      <td>M</td>\n",
              "      <td>13.0</td>\n",
              "      <td>23.0</td>\n",
              "      <td>2014-07-03</td>\n",
              "    </tr>\n",
              "    <tr>\n",
              "      <th>35551</th>\n",
              "      <td>35552</td>\n",
              "      <td>11</td>\n",
              "      <td>2</td>\n",
              "      <td>2017</td>\n",
              "      <td>NaN</td>\n",
              "      <td>NF</td>\n",
              "      <td>M</td>\n",
              "      <td>15.0</td>\n",
              "      <td>25.0</td>\n",
              "      <td>2017-02-11</td>\n",
              "    </tr>\n",
              "    <tr>\n",
              "      <th>35552</th>\n",
              "      <td>35553</td>\n",
              "      <td>9</td>\n",
              "      <td>23</td>\n",
              "      <td>2017</td>\n",
              "      <td>NaN</td>\n",
              "      <td>NL</td>\n",
              "      <td>F</td>\n",
              "      <td>14.0</td>\n",
              "      <td>NaN</td>\n",
              "      <td>2017-09-23</td>\n",
              "    </tr>\n",
              "  </tbody>\n",
              "</table>\n",
              "<p>35553 rows × 10 columns</p>\n",
              "</div>"
            ],
            "text/plain": [
              "       record_id  month  day  year  ...  sex hindfoot_length weight       date\n",
              "0              1      7   16  1977  ...    M            32.0    NaN 1977-07-16\n",
              "1              2      7   16  1977  ...    M            33.0    NaN 1977-07-16\n",
              "2              3      7   16  1977  ...    F            37.0    NaN 1977-07-16\n",
              "3              4      7   16  1977  ...    M            36.0    NaN 1977-07-16\n",
              "4              5      7   16  1977  ...    M            35.0    NaN 1977-07-16\n",
              "...          ...    ...  ...   ...  ...  ...             ...    ...        ...\n",
              "35548      35549     12   31  2002  ...  NaN             NaN    NaN 2002-12-31\n",
              "35549      35550      4   27  2017  ...    F            12.0   21.0 2017-04-27\n",
              "35550      35551      3    7  2014  ...    M            13.0   23.0 2014-07-03\n",
              "35551      35552     11    2  2017  ...    M            15.0   25.0 2017-02-11\n",
              "35552      35553      9   23  2017  ...    F            14.0    NaN 2017-09-23\n",
              "\n",
              "[35553 rows x 10 columns]"
            ]
          },
          "metadata": {
            "tags": []
          },
          "execution_count": 73
        }
      ]
    },
    {
      "cell_type": "code",
      "metadata": {
        "id": "4R5SlMHAsnef"
      },
      "source": [
        "base_actualizada.drop(columns = ['month', 'day', 'year'], inplace=True)"
      ],
      "execution_count": null,
      "outputs": []
    },
    {
      "cell_type": "code",
      "metadata": {
        "colab": {
          "base_uri": "https://localhost:8080/",
          "height": 402
        },
        "id": "sQWY71s5s1dE",
        "outputId": "8536a4fd-cea8-4e02-9b32-f9118ced651e"
      },
      "source": [
        "base_actualizada"
      ],
      "execution_count": null,
      "outputs": [
        {
          "output_type": "execute_result",
          "data": {
            "text/html": [
              "<div>\n",
              "<style scoped>\n",
              "    .dataframe tbody tr th:only-of-type {\n",
              "        vertical-align: middle;\n",
              "    }\n",
              "\n",
              "    .dataframe tbody tr th {\n",
              "        vertical-align: top;\n",
              "    }\n",
              "\n",
              "    .dataframe thead th {\n",
              "        text-align: right;\n",
              "    }\n",
              "</style>\n",
              "<table border=\"1\" class=\"dataframe\">\n",
              "  <thead>\n",
              "    <tr style=\"text-align: right;\">\n",
              "      <th></th>\n",
              "      <th>record_id</th>\n",
              "      <th>plot_id</th>\n",
              "      <th>species_id</th>\n",
              "      <th>sex</th>\n",
              "      <th>hindfoot_length</th>\n",
              "      <th>weight</th>\n",
              "      <th>date</th>\n",
              "    </tr>\n",
              "  </thead>\n",
              "  <tbody>\n",
              "    <tr>\n",
              "      <th>0</th>\n",
              "      <td>1</td>\n",
              "      <td>2.0</td>\n",
              "      <td>NL</td>\n",
              "      <td>M</td>\n",
              "      <td>32.0</td>\n",
              "      <td>NaN</td>\n",
              "      <td>1977-07-16</td>\n",
              "    </tr>\n",
              "    <tr>\n",
              "      <th>1</th>\n",
              "      <td>2</td>\n",
              "      <td>3.0</td>\n",
              "      <td>NL</td>\n",
              "      <td>M</td>\n",
              "      <td>33.0</td>\n",
              "      <td>NaN</td>\n",
              "      <td>1977-07-16</td>\n",
              "    </tr>\n",
              "    <tr>\n",
              "      <th>2</th>\n",
              "      <td>3</td>\n",
              "      <td>2.0</td>\n",
              "      <td>DM</td>\n",
              "      <td>F</td>\n",
              "      <td>37.0</td>\n",
              "      <td>NaN</td>\n",
              "      <td>1977-07-16</td>\n",
              "    </tr>\n",
              "    <tr>\n",
              "      <th>3</th>\n",
              "      <td>4</td>\n",
              "      <td>7.0</td>\n",
              "      <td>DM</td>\n",
              "      <td>M</td>\n",
              "      <td>36.0</td>\n",
              "      <td>NaN</td>\n",
              "      <td>1977-07-16</td>\n",
              "    </tr>\n",
              "    <tr>\n",
              "      <th>4</th>\n",
              "      <td>5</td>\n",
              "      <td>3.0</td>\n",
              "      <td>DM</td>\n",
              "      <td>M</td>\n",
              "      <td>35.0</td>\n",
              "      <td>NaN</td>\n",
              "      <td>1977-07-16</td>\n",
              "    </tr>\n",
              "    <tr>\n",
              "      <th>...</th>\n",
              "      <td>...</td>\n",
              "      <td>...</td>\n",
              "      <td>...</td>\n",
              "      <td>...</td>\n",
              "      <td>...</td>\n",
              "      <td>...</td>\n",
              "      <td>...</td>\n",
              "    </tr>\n",
              "    <tr>\n",
              "      <th>35548</th>\n",
              "      <td>35549</td>\n",
              "      <td>5.0</td>\n",
              "      <td>NaN</td>\n",
              "      <td>NaN</td>\n",
              "      <td>NaN</td>\n",
              "      <td>NaN</td>\n",
              "      <td>2002-12-31</td>\n",
              "    </tr>\n",
              "    <tr>\n",
              "      <th>35549</th>\n",
              "      <td>35550</td>\n",
              "      <td>NaN</td>\n",
              "      <td>NL</td>\n",
              "      <td>F</td>\n",
              "      <td>12.0</td>\n",
              "      <td>21.0</td>\n",
              "      <td>2017-04-27</td>\n",
              "    </tr>\n",
              "    <tr>\n",
              "      <th>35550</th>\n",
              "      <td>35551</td>\n",
              "      <td>NaN</td>\n",
              "      <td>NM</td>\n",
              "      <td>M</td>\n",
              "      <td>13.0</td>\n",
              "      <td>23.0</td>\n",
              "      <td>2014-07-03</td>\n",
              "    </tr>\n",
              "    <tr>\n",
              "      <th>35551</th>\n",
              "      <td>35552</td>\n",
              "      <td>NaN</td>\n",
              "      <td>NF</td>\n",
              "      <td>M</td>\n",
              "      <td>15.0</td>\n",
              "      <td>25.0</td>\n",
              "      <td>2017-02-11</td>\n",
              "    </tr>\n",
              "    <tr>\n",
              "      <th>35552</th>\n",
              "      <td>35553</td>\n",
              "      <td>NaN</td>\n",
              "      <td>NL</td>\n",
              "      <td>F</td>\n",
              "      <td>14.0</td>\n",
              "      <td>NaN</td>\n",
              "      <td>2017-09-23</td>\n",
              "    </tr>\n",
              "  </tbody>\n",
              "</table>\n",
              "<p>35553 rows × 7 columns</p>\n",
              "</div>"
            ],
            "text/plain": [
              "       record_id  plot_id species_id  sex  hindfoot_length  weight       date\n",
              "0              1      2.0         NL    M             32.0     NaN 1977-07-16\n",
              "1              2      3.0         NL    M             33.0     NaN 1977-07-16\n",
              "2              3      2.0         DM    F             37.0     NaN 1977-07-16\n",
              "3              4      7.0         DM    M             36.0     NaN 1977-07-16\n",
              "4              5      3.0         DM    M             35.0     NaN 1977-07-16\n",
              "...          ...      ...        ...  ...              ...     ...        ...\n",
              "35548      35549      5.0        NaN  NaN              NaN     NaN 2002-12-31\n",
              "35549      35550      NaN         NL    F             12.0    21.0 2017-04-27\n",
              "35550      35551      NaN         NM    M             13.0    23.0 2014-07-03\n",
              "35551      35552      NaN         NF    M             15.0    25.0 2017-02-11\n",
              "35552      35553      NaN         NL    F             14.0     NaN 2017-09-23\n",
              "\n",
              "[35553 rows x 7 columns]"
            ]
          },
          "metadata": {
            "tags": []
          },
          "execution_count": 75
        }
      ]
    },
    {
      "cell_type": "code",
      "metadata": {
        "colab": {
          "base_uri": "https://localhost:8080/",
          "height": 402
        },
        "id": "QIROmCkztAQn",
        "outputId": "950a2d1c-aa31-4ebc-d37c-accfd8e41649"
      },
      "source": [
        "base_actualizada.drop([35552, 35551])"
      ],
      "execution_count": null,
      "outputs": [
        {
          "output_type": "execute_result",
          "data": {
            "text/html": [
              "<div>\n",
              "<style scoped>\n",
              "    .dataframe tbody tr th:only-of-type {\n",
              "        vertical-align: middle;\n",
              "    }\n",
              "\n",
              "    .dataframe tbody tr th {\n",
              "        vertical-align: top;\n",
              "    }\n",
              "\n",
              "    .dataframe thead th {\n",
              "        text-align: right;\n",
              "    }\n",
              "</style>\n",
              "<table border=\"1\" class=\"dataframe\">\n",
              "  <thead>\n",
              "    <tr style=\"text-align: right;\">\n",
              "      <th></th>\n",
              "      <th>record_id</th>\n",
              "      <th>plot_id</th>\n",
              "      <th>species_id</th>\n",
              "      <th>sex</th>\n",
              "      <th>hindfoot_length</th>\n",
              "      <th>weight</th>\n",
              "      <th>date</th>\n",
              "    </tr>\n",
              "  </thead>\n",
              "  <tbody>\n",
              "    <tr>\n",
              "      <th>0</th>\n",
              "      <td>1</td>\n",
              "      <td>2.0</td>\n",
              "      <td>NL</td>\n",
              "      <td>M</td>\n",
              "      <td>32.0</td>\n",
              "      <td>NaN</td>\n",
              "      <td>1977-07-16</td>\n",
              "    </tr>\n",
              "    <tr>\n",
              "      <th>1</th>\n",
              "      <td>2</td>\n",
              "      <td>3.0</td>\n",
              "      <td>NL</td>\n",
              "      <td>M</td>\n",
              "      <td>33.0</td>\n",
              "      <td>NaN</td>\n",
              "      <td>1977-07-16</td>\n",
              "    </tr>\n",
              "    <tr>\n",
              "      <th>2</th>\n",
              "      <td>3</td>\n",
              "      <td>2.0</td>\n",
              "      <td>DM</td>\n",
              "      <td>F</td>\n",
              "      <td>37.0</td>\n",
              "      <td>NaN</td>\n",
              "      <td>1977-07-16</td>\n",
              "    </tr>\n",
              "    <tr>\n",
              "      <th>3</th>\n",
              "      <td>4</td>\n",
              "      <td>7.0</td>\n",
              "      <td>DM</td>\n",
              "      <td>M</td>\n",
              "      <td>36.0</td>\n",
              "      <td>NaN</td>\n",
              "      <td>1977-07-16</td>\n",
              "    </tr>\n",
              "    <tr>\n",
              "      <th>4</th>\n",
              "      <td>5</td>\n",
              "      <td>3.0</td>\n",
              "      <td>DM</td>\n",
              "      <td>M</td>\n",
              "      <td>35.0</td>\n",
              "      <td>NaN</td>\n",
              "      <td>1977-07-16</td>\n",
              "    </tr>\n",
              "    <tr>\n",
              "      <th>...</th>\n",
              "      <td>...</td>\n",
              "      <td>...</td>\n",
              "      <td>...</td>\n",
              "      <td>...</td>\n",
              "      <td>...</td>\n",
              "      <td>...</td>\n",
              "      <td>...</td>\n",
              "    </tr>\n",
              "    <tr>\n",
              "      <th>35546</th>\n",
              "      <td>35547</td>\n",
              "      <td>10.0</td>\n",
              "      <td>RM</td>\n",
              "      <td>F</td>\n",
              "      <td>15.0</td>\n",
              "      <td>14.0</td>\n",
              "      <td>2002-12-31</td>\n",
              "    </tr>\n",
              "    <tr>\n",
              "      <th>35547</th>\n",
              "      <td>35548</td>\n",
              "      <td>7.0</td>\n",
              "      <td>DO</td>\n",
              "      <td>M</td>\n",
              "      <td>36.0</td>\n",
              "      <td>51.0</td>\n",
              "      <td>2002-12-31</td>\n",
              "    </tr>\n",
              "    <tr>\n",
              "      <th>35548</th>\n",
              "      <td>35549</td>\n",
              "      <td>5.0</td>\n",
              "      <td>NaN</td>\n",
              "      <td>NaN</td>\n",
              "      <td>NaN</td>\n",
              "      <td>NaN</td>\n",
              "      <td>2002-12-31</td>\n",
              "    </tr>\n",
              "    <tr>\n",
              "      <th>35549</th>\n",
              "      <td>35550</td>\n",
              "      <td>NaN</td>\n",
              "      <td>NL</td>\n",
              "      <td>F</td>\n",
              "      <td>12.0</td>\n",
              "      <td>21.0</td>\n",
              "      <td>2017-04-27</td>\n",
              "    </tr>\n",
              "    <tr>\n",
              "      <th>35550</th>\n",
              "      <td>35551</td>\n",
              "      <td>NaN</td>\n",
              "      <td>NM</td>\n",
              "      <td>M</td>\n",
              "      <td>13.0</td>\n",
              "      <td>23.0</td>\n",
              "      <td>2014-07-03</td>\n",
              "    </tr>\n",
              "  </tbody>\n",
              "</table>\n",
              "<p>35551 rows × 7 columns</p>\n",
              "</div>"
            ],
            "text/plain": [
              "       record_id  plot_id species_id  sex  hindfoot_length  weight       date\n",
              "0              1      2.0         NL    M             32.0     NaN 1977-07-16\n",
              "1              2      3.0         NL    M             33.0     NaN 1977-07-16\n",
              "2              3      2.0         DM    F             37.0     NaN 1977-07-16\n",
              "3              4      7.0         DM    M             36.0     NaN 1977-07-16\n",
              "4              5      3.0         DM    M             35.0     NaN 1977-07-16\n",
              "...          ...      ...        ...  ...              ...     ...        ...\n",
              "35546      35547     10.0         RM    F             15.0    14.0 2002-12-31\n",
              "35547      35548      7.0         DO    M             36.0    51.0 2002-12-31\n",
              "35548      35549      5.0        NaN  NaN              NaN     NaN 2002-12-31\n",
              "35549      35550      NaN         NL    F             12.0    21.0 2017-04-27\n",
              "35550      35551      NaN         NM    M             13.0    23.0 2014-07-03\n",
              "\n",
              "[35551 rows x 7 columns]"
            ]
          },
          "metadata": {
            "tags": []
          },
          "execution_count": 76
        }
      ]
    },
    {
      "cell_type": "markdown",
      "metadata": {
        "id": "hmRZuelN_trj"
      },
      "source": [
        "#  **Apply y funciones Lambda.**\n",
        "\n",
        "*  **Apply**: Esta función permite aplicarle una función a todo nuestro DataFrame o a una parte de nuestro DataFrame."
      ]
    },
    {
      "cell_type": "code",
      "metadata": {
        "colab": {
          "base_uri": "https://localhost:8080/",
          "height": 136
        },
        "id": "REZUYQAdmfiB",
        "outputId": "11082dce-41ab-4041-b8c6-77d02e78cb4e"
      },
      "source": [
        "df = pd.DataFrame([[4, 9]] * 3, columns=['A', 'B'])\n",
        "df"
      ],
      "execution_count": null,
      "outputs": [
        {
          "output_type": "execute_result",
          "data": {
            "text/html": [
              "<div>\n",
              "<style scoped>\n",
              "    .dataframe tbody tr th:only-of-type {\n",
              "        vertical-align: middle;\n",
              "    }\n",
              "\n",
              "    .dataframe tbody tr th {\n",
              "        vertical-align: top;\n",
              "    }\n",
              "\n",
              "    .dataframe thead th {\n",
              "        text-align: right;\n",
              "    }\n",
              "</style>\n",
              "<table border=\"1\" class=\"dataframe\">\n",
              "  <thead>\n",
              "    <tr style=\"text-align: right;\">\n",
              "      <th></th>\n",
              "      <th>A</th>\n",
              "      <th>B</th>\n",
              "    </tr>\n",
              "  </thead>\n",
              "  <tbody>\n",
              "    <tr>\n",
              "      <th>0</th>\n",
              "      <td>4</td>\n",
              "      <td>9</td>\n",
              "    </tr>\n",
              "    <tr>\n",
              "      <th>1</th>\n",
              "      <td>4</td>\n",
              "      <td>9</td>\n",
              "    </tr>\n",
              "    <tr>\n",
              "      <th>2</th>\n",
              "      <td>4</td>\n",
              "      <td>9</td>\n",
              "    </tr>\n",
              "  </tbody>\n",
              "</table>\n",
              "</div>"
            ],
            "text/plain": [
              "   A  B\n",
              "0  4  9\n",
              "1  4  9\n",
              "2  4  9"
            ]
          },
          "metadata": {
            "tags": []
          },
          "execution_count": 77
        }
      ]
    },
    {
      "cell_type": "code",
      "metadata": {
        "colab": {
          "base_uri": "https://localhost:8080/",
          "height": 136
        },
        "id": "dmBMmZ5emqYX",
        "outputId": "583d30e4-9305-44ea-c94b-0ad6dcc13f38"
      },
      "source": [
        "df.apply(np.sqrt)"
      ],
      "execution_count": null,
      "outputs": [
        {
          "output_type": "execute_result",
          "data": {
            "text/html": [
              "<div>\n",
              "<style scoped>\n",
              "    .dataframe tbody tr th:only-of-type {\n",
              "        vertical-align: middle;\n",
              "    }\n",
              "\n",
              "    .dataframe tbody tr th {\n",
              "        vertical-align: top;\n",
              "    }\n",
              "\n",
              "    .dataframe thead th {\n",
              "        text-align: right;\n",
              "    }\n",
              "</style>\n",
              "<table border=\"1\" class=\"dataframe\">\n",
              "  <thead>\n",
              "    <tr style=\"text-align: right;\">\n",
              "      <th></th>\n",
              "      <th>A</th>\n",
              "      <th>B</th>\n",
              "    </tr>\n",
              "  </thead>\n",
              "  <tbody>\n",
              "    <tr>\n",
              "      <th>0</th>\n",
              "      <td>2.0</td>\n",
              "      <td>3.0</td>\n",
              "    </tr>\n",
              "    <tr>\n",
              "      <th>1</th>\n",
              "      <td>2.0</td>\n",
              "      <td>3.0</td>\n",
              "    </tr>\n",
              "    <tr>\n",
              "      <th>2</th>\n",
              "      <td>2.0</td>\n",
              "      <td>3.0</td>\n",
              "    </tr>\n",
              "  </tbody>\n",
              "</table>\n",
              "</div>"
            ],
            "text/plain": [
              "     A    B\n",
              "0  2.0  3.0\n",
              "1  2.0  3.0\n",
              "2  2.0  3.0"
            ]
          },
          "metadata": {
            "tags": []
          },
          "execution_count": 80
        }
      ]
    },
    {
      "cell_type": "code",
      "metadata": {
        "colab": {
          "base_uri": "https://localhost:8080/"
        },
        "id": "KKUQvL8_m4lk",
        "outputId": "374b7a06-4dc8-409e-ae63-18ed44844990"
      },
      "source": [
        "import numpy as np\n",
        "df.apply(np.sum, axis=0)"
      ],
      "execution_count": null,
      "outputs": [
        {
          "output_type": "execute_result",
          "data": {
            "text/plain": [
              "A    12\n",
              "B    27\n",
              "dtype: int64"
            ]
          },
          "metadata": {
            "tags": []
          },
          "execution_count": 72
        }
      ]
    },
    {
      "cell_type": "markdown",
      "metadata": {
        "id": "YB_XT4Ysrb_f"
      },
      "source": [
        "*  **Funciones lambda**: Este comando de la forma\n",
        "> ```lambda x: f(x)```\n",
        "\n",
        "nos permite crear funciones en una línea sin tener que hacer definiciones más grandes.\n",
        "Estas funciones no quedan guardadas en la memoria.\n"
      ]
    },
    {
      "cell_type": "code",
      "metadata": {
        "colab": {
          "base_uri": "https://localhost:8080/",
          "height": 136
        },
        "id": "4y0o1kWPnDQD",
        "outputId": "1e59bb24-0016-4769-a933-65501e2b5f4d"
      },
      "source": [
        "df[\"B\"]=df[\"B\"].apply(lambda x: x+3)\n",
        "df"
      ],
      "execution_count": null,
      "outputs": [
        {
          "output_type": "execute_result",
          "data": {
            "text/html": [
              "<div>\n",
              "<style scoped>\n",
              "    .dataframe tbody tr th:only-of-type {\n",
              "        vertical-align: middle;\n",
              "    }\n",
              "\n",
              "    .dataframe tbody tr th {\n",
              "        vertical-align: top;\n",
              "    }\n",
              "\n",
              "    .dataframe thead th {\n",
              "        text-align: right;\n",
              "    }\n",
              "</style>\n",
              "<table border=\"1\" class=\"dataframe\">\n",
              "  <thead>\n",
              "    <tr style=\"text-align: right;\">\n",
              "      <th></th>\n",
              "      <th>A</th>\n",
              "      <th>B</th>\n",
              "    </tr>\n",
              "  </thead>\n",
              "  <tbody>\n",
              "    <tr>\n",
              "      <th>0</th>\n",
              "      <td>4</td>\n",
              "      <td>12</td>\n",
              "    </tr>\n",
              "    <tr>\n",
              "      <th>1</th>\n",
              "      <td>4</td>\n",
              "      <td>12</td>\n",
              "    </tr>\n",
              "    <tr>\n",
              "      <th>2</th>\n",
              "      <td>4</td>\n",
              "      <td>12</td>\n",
              "    </tr>\n",
              "  </tbody>\n",
              "</table>\n",
              "</div>"
            ],
            "text/plain": [
              "   A   B\n",
              "0  4  12\n",
              "1  4  12\n",
              "2  4  12"
            ]
          },
          "metadata": {
            "tags": []
          },
          "execution_count": 82
        }
      ]
    },
    {
      "cell_type": "code",
      "metadata": {
        "colab": {
          "base_uri": "https://localhost:8080/"
        },
        "id": "jnXJgZF6qJOb",
        "outputId": "efccafab-20a9-4565-e594-ae3b7241385c"
      },
      "source": [
        "seno = lambda x: np.sin(x)\n",
        "print(seno(1))"
      ],
      "execution_count": null,
      "outputs": [
        {
          "output_type": "stream",
          "text": [
            "0.8414709848078965\n"
          ],
          "name": "stdout"
        }
      ]
    },
    {
      "cell_type": "code",
      "metadata": {
        "colab": {
          "base_uri": "https://localhost:8080/"
        },
        "id": "6AaRwROzsbwi",
        "outputId": "53ad0cdc-890f-487f-8a93-f83499c2a361"
      },
      "source": [
        "def funcion_seno (n):\n",
        "  return np.sin(n)\n",
        "\n",
        "funcion_seno(1)\n"
      ],
      "execution_count": null,
      "outputs": [
        {
          "output_type": "execute_result",
          "data": {
            "text/plain": [
              "0.8414709848078965"
            ]
          },
          "metadata": {
            "tags": []
          },
          "execution_count": 84
        }
      ]
    },
    {
      "cell_type": "code",
      "metadata": {
        "colab": {
          "base_uri": "https://localhost:8080/"
        },
        "id": "kKQeJTALswkN",
        "outputId": "9f7e1bfb-4de8-4d10-898d-88f9ce5e6d1f"
      },
      "source": [
        "funcion = lambda x,y: (3*x)+y\n",
        "funcion(df[\"A\"], df[\"B\"])"
      ],
      "execution_count": null,
      "outputs": [
        {
          "output_type": "execute_result",
          "data": {
            "text/plain": [
              "0    24\n",
              "1    24\n",
              "2    24\n",
              "dtype: int64"
            ]
          },
          "metadata": {
            "tags": []
          },
          "execution_count": 85
        }
      ]
    },
    {
      "cell_type": "markdown",
      "metadata": {
        "id": "-VhMLJIK3AQg"
      },
      "source": [
        "#  **7. Respondiendo los objetivos.**\n",
        "\n",
        "*   ¿Cuántas especies de cada sexo hay?\n",
        "*   ¿Cuánto tiempo pasó desde que se hizo la primera observación hasta que se hizo la última de cada una de las especies?\n",
        "*   ¿Existe algún valor atípico (*outlier*) en el peso de cada especie?"
      ]
    },
    {
      "cell_type": "markdown",
      "metadata": {
        "id": "wItf22Ox59tw"
      },
      "source": [
        "##  ¿Cuantas especies de cada sexo hay?\n",
        "\n",
        "Primero vamos a unificar la notación: vamos a reemplazar cualquier símbolo que represente femenino por una \"F\". Y lo mismo haremos para los machos.\n",
        "\n"
      ]
    },
    {
      "cell_type": "code",
      "metadata": {
        "colab": {
          "base_uri": "https://localhost:8080/"
        },
        "id": "tfG8aPg56OXM",
        "outputId": "0901e59f-4541-43a3-e9ae-d2744ae335ef"
      },
      "source": [
        "pd.unique(base_actualizada['sex'])"
      ],
      "execution_count": null,
      "outputs": [
        {
          "output_type": "execute_result",
          "data": {
            "text/plain": [
              "array(['M', 'F', nan, 'Ff', 'Fem', 'Fff', 'Ma', 'Mm', 'MM'], dtype=object)"
            ]
          },
          "metadata": {
            "tags": []
          },
          "execution_count": 86
        }
      ]
    },
    {
      "cell_type": "code",
      "metadata": {
        "id": "W2XPFop56UbC"
      },
      "source": [
        "base_actualizada['sex']=base_actualizada['sex'].apply(lambda x: \"F\" if x in {\"f\", \"F\", \"Ff\", \"Fem\", \"Fff\"} else x)"
      ],
      "execution_count": null,
      "outputs": []
    },
    {
      "cell_type": "code",
      "metadata": {
        "colab": {
          "base_uri": "https://localhost:8080/"
        },
        "id": "31l4KpUm8dfN",
        "outputId": "1ee9aa45-1bdc-469c-ad78-9e860078067c"
      },
      "source": [
        "pd.unique(base_actualizada['sex'])"
      ],
      "execution_count": null,
      "outputs": [
        {
          "output_type": "execute_result",
          "data": {
            "text/plain": [
              "array(['M', 'F', nan, 'Ma', 'Mm', 'MM'], dtype=object)"
            ]
          },
          "metadata": {
            "tags": []
          },
          "execution_count": 88
        }
      ]
    },
    {
      "cell_type": "code",
      "metadata": {
        "id": "OmXBzKDD8lEo"
      },
      "source": [
        "base_actualizada['sex']=base_actualizada['sex'].apply(lambda x: \"M\" if x in {\"Ma\", \"Mm\", \"MM\", \"M\"} else x)"
      ],
      "execution_count": null,
      "outputs": []
    },
    {
      "cell_type": "code",
      "metadata": {
        "colab": {
          "base_uri": "https://localhost:8080/"
        },
        "id": "WS301SJS8ubN",
        "outputId": "9c0d9dfb-0bbc-4be5-f145-9cc36abfa50f"
      },
      "source": [
        "pd.unique(base_actualizada['sex'])"
      ],
      "execution_count": null,
      "outputs": [
        {
          "output_type": "execute_result",
          "data": {
            "text/plain": [
              "array(['M', 'F', nan], dtype=object)"
            ]
          },
          "metadata": {
            "tags": []
          },
          "execution_count": 90
        }
      ]
    },
    {
      "cell_type": "markdown",
      "metadata": {
        "id": "35JRD63q9q_X"
      },
      "source": [
        "Una vez tenemos los datos limpios, usamos un ```groupby``` para agrupar los datos por especies y en la columna *sex* contamos cuantos valores distintos hay con un ```value_counts()```."
      ]
    },
    {
      "cell_type": "code",
      "metadata": {
        "colab": {
          "base_uri": "https://localhost:8080/"
        },
        "id": "zrQ5bni_8xev",
        "outputId": "f12e6840-bda0-4858-cb88-ad23512fc9f0"
      },
      "source": [
        "base_actualizada.groupby('species_id')['sex'].value_counts()"
      ],
      "execution_count": null,
      "outputs": [
        {
          "output_type": "execute_result",
          "data": {
            "text/plain": [
              "species_id  sex\n",
              "AH          M         1\n",
              "BA          F        31\n",
              "            M        14\n",
              "DM          M      5969\n",
              "            F      4554\n",
              "DO          M      1707\n",
              "            F      1308\n",
              "DS          M      1270\n",
              "            F      1188\n",
              "NF          M         1\n",
              "NL          F       677\n",
              "            M       502\n",
              "NM          M         1\n",
              "OL          M       512\n",
              "            F       475\n",
              "OT          M      1156\n",
              "            F      1057\n",
              "OX          M         5\n",
              "            F         4\n",
              "PB          F      1646\n",
              "            M      1216\n",
              "PE          M       698\n",
              "            F       579\n",
              "PF          M       816\n",
              "            F       757\n",
              "PH          F        21\n",
              "            M        11\n",
              "PI          M         8\n",
              "PL          M        19\n",
              "            F        16\n",
              "PM          M       501\n",
              "            F       382\n",
              "PP          F      1608\n",
              "            M      1468\n",
              "PX          F         1\n",
              "            M         1\n",
              "RF          F        57\n",
              "            M        18\n",
              "RM          M      1349\n",
              "            F      1199\n",
              "RO          F         4\n",
              "            M         4\n",
              "RX          M         2\n",
              "SF          M        23\n",
              "            F        17\n",
              "SH          F        78\n",
              "            M        65\n",
              "SO          F        32\n",
              "            M        11\n",
              "SS          M         2\n",
              "            F         1\n",
              "Name: sex, dtype: int64"
            ]
          },
          "metadata": {
            "tags": []
          },
          "execution_count": 92
        }
      ]
    },
    {
      "cell_type": "markdown",
      "metadata": {
        "id": "rJ6e8YmX_4wC"
      },
      "source": [
        "# ¿Cuánto tiempo pasó desde que se observó la primera vez una especie hasta que se observó la última?"
      ]
    },
    {
      "cell_type": "code",
      "metadata": {
        "colab": {
          "base_uri": "https://localhost:8080/"
        },
        "id": "PqlQseMnAU2Y",
        "outputId": "bd7555ce-59d3-4e09-c50e-319cc4ced71e"
      },
      "source": [
        "base_actualizada.groupby('species_id')[\"date\"].last()-base_actualizada.groupby('species_id').date.first()"
      ],
      "execution_count": null,
      "outputs": [
        {
          "output_type": "execute_result",
          "data": {
            "text/plain": [
              "species_id\n",
              "AB    7906 days\n",
              "AH    9000 days\n",
              "AS     566 days\n",
              "BA    1179 days\n",
              "CB    7766 days\n",
              "CM    2569 days\n",
              "CQ    1333 days\n",
              "CS       0 days\n",
              "CT       0 days\n",
              "CU       0 days\n",
              "CV       0 days\n",
              "DM    9299 days\n",
              "DO    9265 days\n",
              "DS    8178 days\n",
              "DX    8154 days\n",
              "NF       0 days\n",
              "NL   14679 days\n",
              "NM       0 days\n",
              "OL    9207 days\n",
              "OT    9298 days\n",
              "OX    5663 days\n",
              "PB    2656 days\n",
              "PC    5880 days\n",
              "PE    9299 days\n",
              "PF    9299 days\n",
              "PG    6246 days\n",
              "PH    4789 days\n",
              "PI    3603 days\n",
              "PL    1653 days\n",
              "PM    8873 days\n",
              "PP    9299 days\n",
              "PU    3816 days\n",
              "PX    1412 days\n",
              "RF    5463 days\n",
              "RM    9206 days\n",
              "RO    4187 days\n",
              "RX     856 days\n",
              "SA    7092 days\n",
              "SC       0 days\n",
              "SF    5012 days\n",
              "SH    9187 days\n",
              "SO    2187 days\n",
              "SS    9184 days\n",
              "ST       0 days\n",
              "SU     141 days\n",
              "UL    2196 days\n",
              "UP     973 days\n",
              "UR    5376 days\n",
              "US       0 days\n",
              "ZL      28 days\n",
              "Name: date, dtype: timedelta64[ns]"
            ]
          },
          "metadata": {
            "tags": []
          },
          "execution_count": 93
        }
      ]
    },
    {
      "cell_type": "markdown",
      "metadata": {
        "id": "GVAU9ystwT4u"
      },
      "source": [
        "# **8. Limpiando nuestros datos (importante!)**\n",
        "\n"
      ]
    },
    {
      "cell_type": "markdown",
      "metadata": {
        "id": "k7HuIuM5wgQ9"
      },
      "source": [
        "1. dropna\n",
        "  * quitar filas con NaN\n",
        "  * Quitar columnas con NaN\n",
        "2. rellenar NaN\n",
        "  *  Usar media\n",
        "  *  Usar mediana\n",
        "  *  Usar moda\n",
        "  *  Usar desviación estandar\n",
        "  *  Interpolaciones?? \n",
        "\n",
        "**¿Qué es mejor?**\n",
        "\n",
        "No hay respuesta única.\n"
      ]
    },
    {
      "cell_type": "code",
      "metadata": {
        "id": "POJDd2zac0Ig",
        "colab": {
          "base_uri": "https://localhost:8080/",
          "height": 166
        },
        "outputId": "5e4bfae4-72ec-4209-97e6-771efed5b96f"
      },
      "source": [
        "df_conNaN = pd.DataFrame([[np.nan, 2, np.nan, 0],\n",
        "                   [3, 4, np.nan, 1],\n",
        "                   [5, np.nan, np.nan, 6],\n",
        "                   [np.nan, 4, np.nan, 5]],\n",
        "                 columns=list('PQRS'))\n",
        "display(df_conNaN)"
      ],
      "execution_count": null,
      "outputs": [
        {
          "output_type": "display_data",
          "data": {
            "text/html": [
              "<div>\n",
              "<style scoped>\n",
              "    .dataframe tbody tr th:only-of-type {\n",
              "        vertical-align: middle;\n",
              "    }\n",
              "\n",
              "    .dataframe tbody tr th {\n",
              "        vertical-align: top;\n",
              "    }\n",
              "\n",
              "    .dataframe thead th {\n",
              "        text-align: right;\n",
              "    }\n",
              "</style>\n",
              "<table border=\"1\" class=\"dataframe\">\n",
              "  <thead>\n",
              "    <tr style=\"text-align: right;\">\n",
              "      <th></th>\n",
              "      <th>P</th>\n",
              "      <th>Q</th>\n",
              "      <th>R</th>\n",
              "      <th>S</th>\n",
              "    </tr>\n",
              "  </thead>\n",
              "  <tbody>\n",
              "    <tr>\n",
              "      <th>0</th>\n",
              "      <td>NaN</td>\n",
              "      <td>2.0</td>\n",
              "      <td>NaN</td>\n",
              "      <td>0</td>\n",
              "    </tr>\n",
              "    <tr>\n",
              "      <th>1</th>\n",
              "      <td>3.0</td>\n",
              "      <td>4.0</td>\n",
              "      <td>NaN</td>\n",
              "      <td>1</td>\n",
              "    </tr>\n",
              "    <tr>\n",
              "      <th>2</th>\n",
              "      <td>5.0</td>\n",
              "      <td>NaN</td>\n",
              "      <td>NaN</td>\n",
              "      <td>6</td>\n",
              "    </tr>\n",
              "    <tr>\n",
              "      <th>3</th>\n",
              "      <td>NaN</td>\n",
              "      <td>4.0</td>\n",
              "      <td>NaN</td>\n",
              "      <td>5</td>\n",
              "    </tr>\n",
              "  </tbody>\n",
              "</table>\n",
              "</div>"
            ],
            "text/plain": [
              "     P    Q   R  S\n",
              "0  NaN  2.0 NaN  0\n",
              "1  3.0  4.0 NaN  1\n",
              "2  5.0  NaN NaN  6\n",
              "3  NaN  4.0 NaN  5"
            ]
          },
          "metadata": {
            "tags": []
          }
        }
      ]
    },
    {
      "cell_type": "markdown",
      "metadata": {
        "id": "e69b-ATt9fLs"
      },
      "source": [
        "```df['columna'].fillna(self, value=None, method=None, axis=None, inplace=False, limit=None, downcast=None, **kwargs)```\n",
        "*   **value**: un valor, un escalar, un número, un diccionario, un arreglo u otro dataframe.\n",
        "*  **method**: \n",
        "   *  pad / ffill: repite el último valor válido hasta el siguiente valor válido.\n",
        "   *  backfill / bfill: usa el siguiente valor válido hasta llegar a un valor válido.\n",
        "* **axis** = 0 o 1, esto dice si quiero llenar las columnas (1) o las filas (0).\n",
        "*  **inplaces**: reemplaza mi dataframe por el nuevo dataframe.\n",
        "\n",
        "\n",
        "Para más información consultar [aquí.](https://www.w3resource.com/pandas/series/series-fillna.php#:~:text=The%20fillna()%20function%20is,values%20using%20the%20specified%20method.&text=Value%20to%20use%20to%20fill,DataFrame%20will%20not%20be%20filled.)\n"
      ]
    },
    {
      "cell_type": "markdown",
      "metadata": {
        "id": "QPHt_O0DD-Zw"
      },
      "source": [
        "1. Vamos a completar la columna \"R\" con el valor 0."
      ]
    },
    {
      "cell_type": "code",
      "metadata": {
        "colab": {
          "base_uri": "https://localhost:8080/",
          "height": 166
        },
        "id": "um55coZZED0x",
        "outputId": "471d0d31-d552-47d0-e7f2-47ed9c86ea0f"
      },
      "source": [
        "df_R = df_conNaN.copy()\n",
        "df_R[\"R\"].fillna(0, inplace=True)\n",
        "df_R"
      ],
      "execution_count": null,
      "outputs": [
        {
          "output_type": "execute_result",
          "data": {
            "text/html": [
              "<div>\n",
              "<style scoped>\n",
              "    .dataframe tbody tr th:only-of-type {\n",
              "        vertical-align: middle;\n",
              "    }\n",
              "\n",
              "    .dataframe tbody tr th {\n",
              "        vertical-align: top;\n",
              "    }\n",
              "\n",
              "    .dataframe thead th {\n",
              "        text-align: right;\n",
              "    }\n",
              "</style>\n",
              "<table border=\"1\" class=\"dataframe\">\n",
              "  <thead>\n",
              "    <tr style=\"text-align: right;\">\n",
              "      <th></th>\n",
              "      <th>P</th>\n",
              "      <th>Q</th>\n",
              "      <th>R</th>\n",
              "      <th>S</th>\n",
              "    </tr>\n",
              "  </thead>\n",
              "  <tbody>\n",
              "    <tr>\n",
              "      <th>0</th>\n",
              "      <td>NaN</td>\n",
              "      <td>2.0</td>\n",
              "      <td>0.0</td>\n",
              "      <td>0</td>\n",
              "    </tr>\n",
              "    <tr>\n",
              "      <th>1</th>\n",
              "      <td>3.0</td>\n",
              "      <td>4.0</td>\n",
              "      <td>0.0</td>\n",
              "      <td>1</td>\n",
              "    </tr>\n",
              "    <tr>\n",
              "      <th>2</th>\n",
              "      <td>5.0</td>\n",
              "      <td>NaN</td>\n",
              "      <td>0.0</td>\n",
              "      <td>6</td>\n",
              "    </tr>\n",
              "    <tr>\n",
              "      <th>3</th>\n",
              "      <td>NaN</td>\n",
              "      <td>4.0</td>\n",
              "      <td>0.0</td>\n",
              "      <td>5</td>\n",
              "    </tr>\n",
              "  </tbody>\n",
              "</table>\n",
              "</div>"
            ],
            "text/plain": [
              "     P    Q    R  S\n",
              "0  NaN  2.0  0.0  0\n",
              "1  3.0  4.0  0.0  1\n",
              "2  5.0  NaN  0.0  6\n",
              "3  NaN  4.0  0.0  5"
            ]
          },
          "metadata": {
            "tags": []
          },
          "execution_count": 95
        }
      ]
    },
    {
      "cell_type": "markdown",
      "metadata": {
        "id": "gh4eOQfBEh5b"
      },
      "source": [
        "2. Completar cada columna con un valor distinto dado por un diccionario."
      ]
    },
    {
      "cell_type": "code",
      "metadata": {
        "colab": {
          "base_uri": "https://localhost:8080/",
          "height": 173
        },
        "id": "hgkyu-r-8RHw",
        "outputId": "1edee040-9e3f-489c-fb3d-0b24f78370cb"
      },
      "source": [
        "df_fila3 = df_conNaN.copy()\n",
        "values = {'P': 0, 'Q': 1, 'R': 2, 'S': 3}\n",
        "df_fila3.fillna(value=values, inplace=True)\n",
        "df_fila3"
      ],
      "execution_count": null,
      "outputs": [
        {
          "output_type": "execute_result",
          "data": {
            "text/html": [
              "<div>\n",
              "<style scoped>\n",
              "    .dataframe tbody tr th:only-of-type {\n",
              "        vertical-align: middle;\n",
              "    }\n",
              "\n",
              "    .dataframe tbody tr th {\n",
              "        vertical-align: top;\n",
              "    }\n",
              "\n",
              "    .dataframe thead th {\n",
              "        text-align: right;\n",
              "    }\n",
              "</style>\n",
              "<table border=\"1\" class=\"dataframe\">\n",
              "  <thead>\n",
              "    <tr style=\"text-align: right;\">\n",
              "      <th></th>\n",
              "      <th>P</th>\n",
              "      <th>Q</th>\n",
              "      <th>R</th>\n",
              "      <th>S</th>\n",
              "    </tr>\n",
              "  </thead>\n",
              "  <tbody>\n",
              "    <tr>\n",
              "      <th>0</th>\n",
              "      <td>0.0</td>\n",
              "      <td>2.0</td>\n",
              "      <td>2.0</td>\n",
              "      <td>0</td>\n",
              "    </tr>\n",
              "    <tr>\n",
              "      <th>1</th>\n",
              "      <td>3.0</td>\n",
              "      <td>4.0</td>\n",
              "      <td>2.0</td>\n",
              "      <td>1</td>\n",
              "    </tr>\n",
              "    <tr>\n",
              "      <th>2</th>\n",
              "      <td>5.0</td>\n",
              "      <td>1.0</td>\n",
              "      <td>2.0</td>\n",
              "      <td>6</td>\n",
              "    </tr>\n",
              "    <tr>\n",
              "      <th>3</th>\n",
              "      <td>0.0</td>\n",
              "      <td>4.0</td>\n",
              "      <td>2.0</td>\n",
              "      <td>5</td>\n",
              "    </tr>\n",
              "  </tbody>\n",
              "</table>\n",
              "</div>"
            ],
            "text/plain": [
              "     P    Q    R  S\n",
              "0  0.0  2.0  2.0  0\n",
              "1  3.0  4.0  2.0  1\n",
              "2  5.0  1.0  2.0  6\n",
              "3  0.0  4.0  2.0  5"
            ]
          },
          "metadata": {
            "tags": []
          },
          "execution_count": 56
        }
      ]
    },
    {
      "cell_type": "markdown",
      "metadata": {
        "id": "WyUKKC9pGRze"
      },
      "source": [
        "3. Completar una columna con la media de esa columna."
      ]
    },
    {
      "cell_type": "code",
      "metadata": {
        "colab": {
          "base_uri": "https://localhost:8080/",
          "height": 182
        },
        "id": "iePg1YhTFLWq",
        "outputId": "1d797364-3770-42bd-cb56-3bfd5e2a7305"
      },
      "source": [
        "import numpy as np\n",
        "df_media = df_conNaN.copy()\n",
        "print(\"La media de la columna Q es:\", df_media[\"Q\"].mean())\n",
        "df_media['Q'].fillna(value = df_media['Q'].mean(), inplace=True)\n",
        "df_media"
      ],
      "execution_count": null,
      "outputs": [
        {
          "output_type": "stream",
          "text": [
            "La media de la columna Q es: 3.3333333333333335\n"
          ],
          "name": "stdout"
        },
        {
          "output_type": "execute_result",
          "data": {
            "text/html": [
              "<div>\n",
              "<style scoped>\n",
              "    .dataframe tbody tr th:only-of-type {\n",
              "        vertical-align: middle;\n",
              "    }\n",
              "\n",
              "    .dataframe tbody tr th {\n",
              "        vertical-align: top;\n",
              "    }\n",
              "\n",
              "    .dataframe thead th {\n",
              "        text-align: right;\n",
              "    }\n",
              "</style>\n",
              "<table border=\"1\" class=\"dataframe\">\n",
              "  <thead>\n",
              "    <tr style=\"text-align: right;\">\n",
              "      <th></th>\n",
              "      <th>P</th>\n",
              "      <th>Q</th>\n",
              "      <th>R</th>\n",
              "      <th>S</th>\n",
              "    </tr>\n",
              "  </thead>\n",
              "  <tbody>\n",
              "    <tr>\n",
              "      <th>0</th>\n",
              "      <td>NaN</td>\n",
              "      <td>2.000000</td>\n",
              "      <td>NaN</td>\n",
              "      <td>0</td>\n",
              "    </tr>\n",
              "    <tr>\n",
              "      <th>1</th>\n",
              "      <td>3.0</td>\n",
              "      <td>4.000000</td>\n",
              "      <td>NaN</td>\n",
              "      <td>1</td>\n",
              "    </tr>\n",
              "    <tr>\n",
              "      <th>2</th>\n",
              "      <td>5.0</td>\n",
              "      <td>3.333333</td>\n",
              "      <td>NaN</td>\n",
              "      <td>6</td>\n",
              "    </tr>\n",
              "    <tr>\n",
              "      <th>3</th>\n",
              "      <td>NaN</td>\n",
              "      <td>4.000000</td>\n",
              "      <td>NaN</td>\n",
              "      <td>5</td>\n",
              "    </tr>\n",
              "  </tbody>\n",
              "</table>\n",
              "</div>"
            ],
            "text/plain": [
              "     P         Q   R  S\n",
              "0  NaN  2.000000 NaN  0\n",
              "1  3.0  4.000000 NaN  1\n",
              "2  5.0  3.333333 NaN  6\n",
              "3  NaN  4.000000 NaN  5"
            ]
          },
          "metadata": {
            "tags": []
          },
          "execution_count": 96
        }
      ]
    },
    {
      "cell_type": "markdown",
      "metadata": {
        "id": "QuMyPe8uG32v"
      },
      "source": [
        "4. Usaremos el método pad / ffill"
      ]
    },
    {
      "cell_type": "code",
      "metadata": {
        "colab": {
          "base_uri": "https://localhost:8080/",
          "height": 166
        },
        "id": "7hQ2Dut8Gk6y",
        "outputId": "e2a6decc-dd19-4f7b-ca4f-27b8fd233642"
      },
      "source": [
        "df_ffill= df_conNaN.copy()\n",
        "df_ffill.fillna(method = \"ffill\", inplace=True)\n",
        "df_ffill"
      ],
      "execution_count": null,
      "outputs": [
        {
          "output_type": "execute_result",
          "data": {
            "text/html": [
              "<div>\n",
              "<style scoped>\n",
              "    .dataframe tbody tr th:only-of-type {\n",
              "        vertical-align: middle;\n",
              "    }\n",
              "\n",
              "    .dataframe tbody tr th {\n",
              "        vertical-align: top;\n",
              "    }\n",
              "\n",
              "    .dataframe thead th {\n",
              "        text-align: right;\n",
              "    }\n",
              "</style>\n",
              "<table border=\"1\" class=\"dataframe\">\n",
              "  <thead>\n",
              "    <tr style=\"text-align: right;\">\n",
              "      <th></th>\n",
              "      <th>P</th>\n",
              "      <th>Q</th>\n",
              "      <th>R</th>\n",
              "      <th>S</th>\n",
              "    </tr>\n",
              "  </thead>\n",
              "  <tbody>\n",
              "    <tr>\n",
              "      <th>0</th>\n",
              "      <td>NaN</td>\n",
              "      <td>2.0</td>\n",
              "      <td>NaN</td>\n",
              "      <td>0</td>\n",
              "    </tr>\n",
              "    <tr>\n",
              "      <th>1</th>\n",
              "      <td>3.0</td>\n",
              "      <td>4.0</td>\n",
              "      <td>NaN</td>\n",
              "      <td>1</td>\n",
              "    </tr>\n",
              "    <tr>\n",
              "      <th>2</th>\n",
              "      <td>5.0</td>\n",
              "      <td>4.0</td>\n",
              "      <td>NaN</td>\n",
              "      <td>6</td>\n",
              "    </tr>\n",
              "    <tr>\n",
              "      <th>3</th>\n",
              "      <td>5.0</td>\n",
              "      <td>4.0</td>\n",
              "      <td>NaN</td>\n",
              "      <td>5</td>\n",
              "    </tr>\n",
              "  </tbody>\n",
              "</table>\n",
              "</div>"
            ],
            "text/plain": [
              "     P    Q   R  S\n",
              "0  NaN  2.0 NaN  0\n",
              "1  3.0  4.0 NaN  1\n",
              "2  5.0  4.0 NaN  6\n",
              "3  5.0  4.0 NaN  5"
            ]
          },
          "metadata": {
            "tags": []
          },
          "execution_count": 97
        }
      ]
    },
    {
      "cell_type": "markdown",
      "metadata": {
        "id": "WXlNMTBhHUEt"
      },
      "source": [
        "5. Usaremos el método backfill / bfill."
      ]
    },
    {
      "cell_type": "code",
      "metadata": {
        "colab": {
          "base_uri": "https://localhost:8080/",
          "height": 166
        },
        "id": "nTOcZs4GHHGz",
        "outputId": "5aa309d9-f9b6-4273-9b9d-dc351efeee55"
      },
      "source": [
        "df_bfill= df_conNaN.copy()\n",
        "df_bfill.fillna(method = \"bfill\", inplace=True)\n",
        "df_bfill"
      ],
      "execution_count": null,
      "outputs": [
        {
          "output_type": "execute_result",
          "data": {
            "text/html": [
              "<div>\n",
              "<style scoped>\n",
              "    .dataframe tbody tr th:only-of-type {\n",
              "        vertical-align: middle;\n",
              "    }\n",
              "\n",
              "    .dataframe tbody tr th {\n",
              "        vertical-align: top;\n",
              "    }\n",
              "\n",
              "    .dataframe thead th {\n",
              "        text-align: right;\n",
              "    }\n",
              "</style>\n",
              "<table border=\"1\" class=\"dataframe\">\n",
              "  <thead>\n",
              "    <tr style=\"text-align: right;\">\n",
              "      <th></th>\n",
              "      <th>P</th>\n",
              "      <th>Q</th>\n",
              "      <th>R</th>\n",
              "      <th>S</th>\n",
              "    </tr>\n",
              "  </thead>\n",
              "  <tbody>\n",
              "    <tr>\n",
              "      <th>0</th>\n",
              "      <td>3.0</td>\n",
              "      <td>2.0</td>\n",
              "      <td>NaN</td>\n",
              "      <td>0</td>\n",
              "    </tr>\n",
              "    <tr>\n",
              "      <th>1</th>\n",
              "      <td>3.0</td>\n",
              "      <td>4.0</td>\n",
              "      <td>NaN</td>\n",
              "      <td>1</td>\n",
              "    </tr>\n",
              "    <tr>\n",
              "      <th>2</th>\n",
              "      <td>5.0</td>\n",
              "      <td>4.0</td>\n",
              "      <td>NaN</td>\n",
              "      <td>6</td>\n",
              "    </tr>\n",
              "    <tr>\n",
              "      <th>3</th>\n",
              "      <td>NaN</td>\n",
              "      <td>4.0</td>\n",
              "      <td>NaN</td>\n",
              "      <td>5</td>\n",
              "    </tr>\n",
              "  </tbody>\n",
              "</table>\n",
              "</div>"
            ],
            "text/plain": [
              "     P    Q   R  S\n",
              "0  3.0  2.0 NaN  0\n",
              "1  3.0  4.0 NaN  1\n",
              "2  5.0  4.0 NaN  6\n",
              "3  NaN  4.0 NaN  5"
            ]
          },
          "metadata": {
            "tags": []
          },
          "execution_count": 99
        }
      ]
    },
    {
      "cell_type": "markdown",
      "metadata": {
        "id": "89Q_1XN1HhHQ"
      },
      "source": [
        "6. Quitar las filas/columnas que tengan NaN. Aquí hay que tener cuidado pues podemos perder muchas observaciones."
      ]
    },
    {
      "cell_type": "code",
      "metadata": {
        "colab": {
          "base_uri": "https://localhost:8080/",
          "height": 166
        },
        "id": "Q1bD3dX3HbDS",
        "outputId": "e2b6c8e4-b5e7-4810-a8b6-dc9993ffca04"
      },
      "source": [
        "df_sincolumnas = df_conNaN.copy()\n",
        "df_sincolumnas.dropna(axis=1, inplace=True)\n",
        "df_sincolumnas"
      ],
      "execution_count": null,
      "outputs": [
        {
          "output_type": "execute_result",
          "data": {
            "text/html": [
              "<div>\n",
              "<style scoped>\n",
              "    .dataframe tbody tr th:only-of-type {\n",
              "        vertical-align: middle;\n",
              "    }\n",
              "\n",
              "    .dataframe tbody tr th {\n",
              "        vertical-align: top;\n",
              "    }\n",
              "\n",
              "    .dataframe thead th {\n",
              "        text-align: right;\n",
              "    }\n",
              "</style>\n",
              "<table border=\"1\" class=\"dataframe\">\n",
              "  <thead>\n",
              "    <tr style=\"text-align: right;\">\n",
              "      <th></th>\n",
              "      <th>S</th>\n",
              "    </tr>\n",
              "  </thead>\n",
              "  <tbody>\n",
              "    <tr>\n",
              "      <th>0</th>\n",
              "      <td>0</td>\n",
              "    </tr>\n",
              "    <tr>\n",
              "      <th>1</th>\n",
              "      <td>1</td>\n",
              "    </tr>\n",
              "    <tr>\n",
              "      <th>2</th>\n",
              "      <td>6</td>\n",
              "    </tr>\n",
              "    <tr>\n",
              "      <th>3</th>\n",
              "      <td>5</td>\n",
              "    </tr>\n",
              "  </tbody>\n",
              "</table>\n",
              "</div>"
            ],
            "text/plain": [
              "   S\n",
              "0  0\n",
              "1  1\n",
              "2  6\n",
              "3  5"
            ]
          },
          "metadata": {
            "tags": []
          },
          "execution_count": 98
        }
      ]
    },
    {
      "cell_type": "code",
      "metadata": {
        "colab": {
          "base_uri": "https://localhost:8080/",
          "height": 49
        },
        "id": "QWdq0YevHvri",
        "outputId": "79ca952f-cf4e-4307-b172-047db7c50ee5"
      },
      "source": [
        "df_sinfilas = df_conNaN.copy()\n",
        "df_sinfilas.dropna(axis=0, inplace=True)\n",
        "df_sinfilas"
      ],
      "execution_count": null,
      "outputs": [
        {
          "output_type": "execute_result",
          "data": {
            "text/html": [
              "<div>\n",
              "<style scoped>\n",
              "    .dataframe tbody tr th:only-of-type {\n",
              "        vertical-align: middle;\n",
              "    }\n",
              "\n",
              "    .dataframe tbody tr th {\n",
              "        vertical-align: top;\n",
              "    }\n",
              "\n",
              "    .dataframe thead th {\n",
              "        text-align: right;\n",
              "    }\n",
              "</style>\n",
              "<table border=\"1\" class=\"dataframe\">\n",
              "  <thead>\n",
              "    <tr style=\"text-align: right;\">\n",
              "      <th></th>\n",
              "      <th>P</th>\n",
              "      <th>Q</th>\n",
              "      <th>R</th>\n",
              "      <th>S</th>\n",
              "    </tr>\n",
              "  </thead>\n",
              "  <tbody>\n",
              "  </tbody>\n",
              "</table>\n",
              "</div>"
            ],
            "text/plain": [
              "Empty DataFrame\n",
              "Columns: [P, Q, R, S]\n",
              "Index: []"
            ]
          },
          "metadata": {
            "tags": []
          },
          "execution_count": 61
        }
      ]
    },
    {
      "cell_type": "code",
      "metadata": {
        "id": "OiYHDXRcH5Zu"
      },
      "source": [
        ""
      ],
      "execution_count": null,
      "outputs": []
    }
  ]
}